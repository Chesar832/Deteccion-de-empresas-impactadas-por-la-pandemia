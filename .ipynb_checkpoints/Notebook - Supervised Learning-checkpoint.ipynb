{
 "cells": [
  {
   "cell_type": "markdown",
   "id": "9da139d3",
   "metadata": {},
   "source": [
    "<h1><font color=\"#1d3557\" size=6>Trabajo Final - Módulo Supervised Learning</font></h1>"
   ]
  },
  {
   "cell_type": "markdown",
   "id": "87e79fcd",
   "metadata": {},
   "source": [
    "![banner](https://thumbs.dreamstime.com/b/cogs-gears-industrial-global-business-background-background-integration-binary-technology-banner-background-vector-illustration-180798145.jpg)"
   ]
  },
  {
   "cell_type": "markdown",
   "id": "988742d5",
   "metadata": {},
   "source": [
    "***Author:*** *Cesar Chalco Elias*"
   ]
  },
  {
   "cell_type": "markdown",
   "id": "be91af59",
   "metadata": {},
   "source": [
    "***Twitter:*** *[@chesar_che](https://twitter.com/chesar_che)*"
   ]
  },
  {
   "cell_type": "markdown",
   "id": "cbe5f300",
   "metadata": {},
   "source": [
    "**Propósito:** *Desarrollar un modelo de clasificación para conocer si determinada empresa se ha visto impactado por efecto de la pandemia. Para ello, se empleará un dataset con la actividad comercial de la empresa y se tratará de predecir la variable **Impactado**.*"
   ]
  },
  {
   "cell_type": "markdown",
   "id": "a3be780e",
   "metadata": {},
   "source": [
    "# 1. Introducción"
   ]
  },
  {
   "cell_type": "markdown",
   "id": "aad3848c",
   "metadata": {},
   "source": [
    "## 1.1 Carga de librerias"
   ]
  },
  {
   "cell_type": "code",
   "execution_count": 1,
   "id": "c2505346",
   "metadata": {},
   "outputs": [],
   "source": [
    "# Necessary Pips\n",
    "# pip install altair==4.2.0rc1\n",
    "# pip install openpyxl\n",
    "# pip install lightgbm"
   ]
  },
  {
   "cell_type": "code",
   "execution_count": 2,
   "id": "5c83939c",
   "metadata": {},
   "outputs": [],
   "source": [
    "import numpy as np\n",
    "import pandas as pd\n",
    "import random\n",
    "\n",
    "import altair as alt\n",
    "import seaborn as sns\n",
    "import matplotlib as mpl\n",
    "import matplotlib.pyplot as plt\n",
    "\n",
    "import missingno as msno\n",
    "\n",
    "from scipy.spatial.distance import mahalanobis\n",
    "import scipy as sp\n",
    "from scipy.stats import chi2\n",
    "\n",
    "import sklearn as skl\n",
    "from lightgbm import LGBMClassifier\n",
    "\n",
    "import warnings\n",
    "warnings.filterwarnings(\"ignore\")"
   ]
  },
  {
   "cell_type": "code",
   "execution_count": 3,
   "id": "d8322e70",
   "metadata": {},
   "outputs": [
    {
     "name": "stdout",
     "output_type": "stream",
     "text": [
      " ..:: VERSIONS ::..\n",
      " Numpy version: 1.22.1\n",
      " Pandas version: 1.3.4\n",
      " Altair version: 4.2.0rc1\n",
      " Seaborn version: 0.11.2\n",
      " Matplotlib version: 3.5.0\n",
      " Scikit Learn version: 1.0.1\n"
     ]
    }
   ],
   "source": [
    "print(' ..:: VERSIONS ::..')\n",
    "print(f' Numpy version: {np.__version__}')\n",
    "print(f' Pandas version: {pd.__version__}')\n",
    "print(f' Altair version: {alt.__version__}')\n",
    "print(f' Seaborn version: {sns.__version__}')\n",
    "print(f' Matplotlib version: {mpl.__version__}')\n",
    "print(f' Scikit Learn version: {skl.__version__}')"
   ]
  },
  {
   "cell_type": "code",
   "execution_count": 4,
   "id": "140dca02",
   "metadata": {},
   "outputs": [],
   "source": [
    "random.seed(10)"
   ]
  },
  {
   "cell_type": "markdown",
   "id": "b80ebb09",
   "metadata": {},
   "source": [
    "## 1.2 Carga del dataset"
   ]
  },
  {
   "cell_type": "markdown",
   "id": "035db470",
   "metadata": {},
   "source": [
    "- *Data Review:*"
   ]
  },
  {
   "cell_type": "markdown",
   "id": "ad537425",
   "metadata": {},
   "source": [
    "|    **VARIABLE**     |                **DESCRIPCIÓN**                      |\n",
    "| ---:                | :---                                                | \n",
    "|Sector               |\tSector donde trabaja la empresa|\n",
    "|Dep\t              | departamento|\n",
    "|Impactado\t          | target|\n",
    "|Saldo\t              | deuda de la empresa|\n",
    "|Desembolso_mes\t      | nueva deuda del mes de la empresa|\n",
    "|Saldo                | Promedio\tdeuda promedio de la empresa|\n",
    "|Deuda Sistea\t      | deuda que reporta en todo el sistema financiero|\n",
    "|Pasivo               | horros de la empresa|\n",
    "|Turismo\t          | pertenece a turismo?|\n",
    "|Sector de Impacto\t  | actividades económicas más impactadas por las empresas|\n",
    "|Venta                | ventas de la empresa|\n",
    "|Venta Formal\t      | venta formal de la empresa|\n",
    "|Pasivo_desembolso\t  | pasivo - desembolso|\n",
    "|Deuda rezagada va\t  |  variación de deuda absoluta|\n",
    "|Deuda rezagada vr\t  |  variación de deuda relativa|\n",
    "|pasivo rezagada va\t  |  variación de ahorros absoluta|\n",
    "|pasivo rezagada vr\t  | variación de ahorros relativa|\n",
    "|Pasivo_desembolso da |\tahorros menos desembolso diferencia absoluta|\n",
    "|Pasivo_desembolso dr |\tahorros menos desembolso diferencia relativa|"
   ]
  },
  {
   "cell_type": "markdown",
   "id": "4db8e627",
   "metadata": {},
   "source": [
    "- Lectura del dataset:"
   ]
  },
  {
   "cell_type": "code",
   "execution_count": 5,
   "id": "c86140a7",
   "metadata": {},
   "outputs": [],
   "source": [
    "path = 'data/file.csv'"
   ]
  },
  {
   "cell_type": "code",
   "execution_count": 6,
   "id": "75ea8294",
   "metadata": {},
   "outputs": [
    {
     "name": "stdout",
     "output_type": "stream",
     "text": [
      "Wall time: 26.5 ms\n"
     ]
    }
   ],
   "source": [
    "%%time\n",
    "raw_data = pd.read_csv(path, delimiter=';')"
   ]
  },
  {
   "cell_type": "code",
   "execution_count": 7,
   "id": "2bfd0799",
   "metadata": {},
   "outputs": [
    {
     "data": {
      "text/html": [
       "<div>\n",
       "<style scoped>\n",
       "    .dataframe tbody tr th:only-of-type {\n",
       "        vertical-align: middle;\n",
       "    }\n",
       "\n",
       "    .dataframe tbody tr th {\n",
       "        vertical-align: top;\n",
       "    }\n",
       "\n",
       "    .dataframe thead th {\n",
       "        text-align: right;\n",
       "    }\n",
       "</style>\n",
       "<table border=\"1\" class=\"dataframe\">\n",
       "  <thead>\n",
       "    <tr style=\"text-align: right;\">\n",
       "      <th></th>\n",
       "      <th>Sector</th>\n",
       "      <th>Dep</th>\n",
       "      <th>Impactado</th>\n",
       "      <th>Saldo</th>\n",
       "      <th>Desembolso_mes</th>\n",
       "      <th>Saldo Promedio</th>\n",
       "      <th>Deuda Sistea,</th>\n",
       "      <th>Pasivo</th>\n",
       "      <th>Turismo</th>\n",
       "      <th>Sector de Impacto</th>\n",
       "      <th>Venta</th>\n",
       "      <th>Venta Formal</th>\n",
       "      <th>Pasivo_desembolso</th>\n",
       "      <th>Deuda rezagada va</th>\n",
       "      <th>Deuda rezagada vr</th>\n",
       "      <th>pasivo rezagada va</th>\n",
       "      <th>pasivo rezagada vr</th>\n",
       "      <th>Pasivo_desembolso da</th>\n",
       "      <th>Pasivo_desembolso dr</th>\n",
       "    </tr>\n",
       "  </thead>\n",
       "  <tbody>\n",
       "    <tr>\n",
       "      <th>0</th>\n",
       "      <td>INDUSTRIA</td>\n",
       "      <td>Lima</td>\n",
       "      <td>0</td>\n",
       "      <td>56643.10092</td>\n",
       "      <td>0.0</td>\n",
       "      <td>28321.550460</td>\n",
       "      <td>31365.73</td>\n",
       "      <td>5876.82</td>\n",
       "      <td>0</td>\n",
       "      <td>3</td>\n",
       "      <td>108400.0</td>\n",
       "      <td>43741.08</td>\n",
       "      <td>5876.820</td>\n",
       "      <td>-800.65</td>\n",
       "      <td>-0.024891</td>\n",
       "      <td>830.82</td>\n",
       "      <td>0.164649</td>\n",
       "      <td>830.82</td>\n",
       "      <td>0.164649</td>\n",
       "    </tr>\n",
       "    <tr>\n",
       "      <th>1</th>\n",
       "      <td>COMERCIO</td>\n",
       "      <td>Arequipa</td>\n",
       "      <td>0</td>\n",
       "      <td>190313.99460</td>\n",
       "      <td>0.0</td>\n",
       "      <td>63437.998180</td>\n",
       "      <td>64864.99</td>\n",
       "      <td>4467.40</td>\n",
       "      <td>0</td>\n",
       "      <td>4</td>\n",
       "      <td>105300.0</td>\n",
       "      <td>69737.17</td>\n",
       "      <td>4467.400</td>\n",
       "      <td>-2810.52</td>\n",
       "      <td>-0.041529</td>\n",
       "      <td>-7043.43</td>\n",
       "      <td>-0.611896</td>\n",
       "      <td>-7043.43</td>\n",
       "      <td>-0.611896</td>\n",
       "    </tr>\n",
       "    <tr>\n",
       "      <th>2</th>\n",
       "      <td>SERVICIO</td>\n",
       "      <td>Amazonas</td>\n",
       "      <td>0</td>\n",
       "      <td>547601.57360</td>\n",
       "      <td>0.0</td>\n",
       "      <td>182533.857900</td>\n",
       "      <td>200239.32</td>\n",
       "      <td>5000.92</td>\n",
       "      <td>0</td>\n",
       "      <td>1</td>\n",
       "      <td>86600.0</td>\n",
       "      <td>79178.83</td>\n",
       "      <td>5000.920</td>\n",
       "      <td>653.68</td>\n",
       "      <td>0.003275</td>\n",
       "      <td>2000.92</td>\n",
       "      <td>0.666973</td>\n",
       "      <td>2000.92</td>\n",
       "      <td>0.666973</td>\n",
       "    </tr>\n",
       "    <tr>\n",
       "      <th>3</th>\n",
       "      <td>INDUSTRIA</td>\n",
       "      <td>Lima</td>\n",
       "      <td>0</td>\n",
       "      <td>283914.20840</td>\n",
       "      <td>0.0</td>\n",
       "      <td>94638.069470</td>\n",
       "      <td>112945.17</td>\n",
       "      <td>325.50</td>\n",
       "      <td>0</td>\n",
       "      <td>3</td>\n",
       "      <td>103000.0</td>\n",
       "      <td>0.00</td>\n",
       "      <td>325.500</td>\n",
       "      <td>14820.77</td>\n",
       "      <td>0.151041</td>\n",
       "      <td>-17128.30</td>\n",
       "      <td>-0.981351</td>\n",
       "      <td>-17128.30</td>\n",
       "      <td>-0.981351</td>\n",
       "    </tr>\n",
       "    <tr>\n",
       "      <th>4</th>\n",
       "      <td>COMERCIO</td>\n",
       "      <td>Cusco</td>\n",
       "      <td>0</td>\n",
       "      <td>142296.43840</td>\n",
       "      <td>0.0</td>\n",
       "      <td>47432.146120</td>\n",
       "      <td>144877.21</td>\n",
       "      <td>0.00</td>\n",
       "      <td>0</td>\n",
       "      <td>4</td>\n",
       "      <td>172920.0</td>\n",
       "      <td>171999.33</td>\n",
       "      <td>0.000</td>\n",
       "      <td>17468.60</td>\n",
       "      <td>0.137107</td>\n",
       "      <td>-2071.80</td>\n",
       "      <td>-1.000000</td>\n",
       "      <td>-2071.80</td>\n",
       "      <td>-1.000000</td>\n",
       "    </tr>\n",
       "    <tr>\n",
       "      <th>...</th>\n",
       "      <td>...</td>\n",
       "      <td>...</td>\n",
       "      <td>...</td>\n",
       "      <td>...</td>\n",
       "      <td>...</td>\n",
       "      <td>...</td>\n",
       "      <td>...</td>\n",
       "      <td>...</td>\n",
       "      <td>...</td>\n",
       "      <td>...</td>\n",
       "      <td>...</td>\n",
       "      <td>...</td>\n",
       "      <td>...</td>\n",
       "      <td>...</td>\n",
       "      <td>...</td>\n",
       "      <td>...</td>\n",
       "      <td>...</td>\n",
       "      <td>...</td>\n",
       "      <td>...</td>\n",
       "    </tr>\n",
       "    <tr>\n",
       "      <th>1993</th>\n",
       "      <td>COMERCIO</td>\n",
       "      <td>Lambayeque</td>\n",
       "      <td>1</td>\n",
       "      <td>4325.85076</td>\n",
       "      <td>0.0</td>\n",
       "      <td>1441.950253</td>\n",
       "      <td>1624.47</td>\n",
       "      <td>2558.31</td>\n",
       "      <td>0</td>\n",
       "      <td>4</td>\n",
       "      <td>30000.0</td>\n",
       "      <td>4905.00</td>\n",
       "      <td>2528.565</td>\n",
       "      <td>-710.56</td>\n",
       "      <td>-0.304304</td>\n",
       "      <td>-3174.29</td>\n",
       "      <td>-0.550924</td>\n",
       "      <td>-2548.50</td>\n",
       "      <td>-0.543144</td>\n",
       "    </tr>\n",
       "    <tr>\n",
       "      <th>1994</th>\n",
       "      <td>COMERCIO</td>\n",
       "      <td>Arequipa</td>\n",
       "      <td>1</td>\n",
       "      <td>94650.62631</td>\n",
       "      <td>0.0</td>\n",
       "      <td>31550.208770</td>\n",
       "      <td>75502.84</td>\n",
       "      <td>3029.48</td>\n",
       "      <td>0</td>\n",
       "      <td>4</td>\n",
       "      <td>32100.0</td>\n",
       "      <td>7034.00</td>\n",
       "      <td>3029.480</td>\n",
       "      <td>-5421.28</td>\n",
       "      <td>-0.066992</td>\n",
       "      <td>-10965.03</td>\n",
       "      <td>-0.783524</td>\n",
       "      <td>-10965.03</td>\n",
       "      <td>-0.783524</td>\n",
       "    </tr>\n",
       "    <tr>\n",
       "      <th>1995</th>\n",
       "      <td>COMERCIO</td>\n",
       "      <td>Lima</td>\n",
       "      <td>1</td>\n",
       "      <td>747579.33510</td>\n",
       "      <td>0.0</td>\n",
       "      <td>249193.111700</td>\n",
       "      <td>843972.49</td>\n",
       "      <td>593.99</td>\n",
       "      <td>0</td>\n",
       "      <td>3</td>\n",
       "      <td>180905.0</td>\n",
       "      <td>93482.00</td>\n",
       "      <td>593.990</td>\n",
       "      <td>6776.19</td>\n",
       "      <td>0.008094</td>\n",
       "      <td>-11589.60</td>\n",
       "      <td>-0.951247</td>\n",
       "      <td>-11589.60</td>\n",
       "      <td>-0.951247</td>\n",
       "    </tr>\n",
       "    <tr>\n",
       "      <th>1996</th>\n",
       "      <td>COMERCIO</td>\n",
       "      <td>Lima</td>\n",
       "      <td>1</td>\n",
       "      <td>18077.98187</td>\n",
       "      <td>0.0</td>\n",
       "      <td>6025.993957</td>\n",
       "      <td>122633.10</td>\n",
       "      <td>5312.64</td>\n",
       "      <td>0</td>\n",
       "      <td>3</td>\n",
       "      <td>69500.0</td>\n",
       "      <td>8333.00</td>\n",
       "      <td>5312.640</td>\n",
       "      <td>-3838.01</td>\n",
       "      <td>-0.030347</td>\n",
       "      <td>-18929.55</td>\n",
       "      <td>-0.780851</td>\n",
       "      <td>-18929.55</td>\n",
       "      <td>-0.780851</td>\n",
       "    </tr>\n",
       "    <tr>\n",
       "      <th>1997</th>\n",
       "      <td>SERVICIO</td>\n",
       "      <td>Arequipa</td>\n",
       "      <td>1</td>\n",
       "      <td>286471.03470</td>\n",
       "      <td>0.0</td>\n",
       "      <td>97561.751050</td>\n",
       "      <td>269538.61</td>\n",
       "      <td>2558.31</td>\n",
       "      <td>0</td>\n",
       "      <td>4</td>\n",
       "      <td>50514.0</td>\n",
       "      <td>4171.00</td>\n",
       "      <td>2528.565</td>\n",
       "      <td>-26220.40</td>\n",
       "      <td>-0.088655</td>\n",
       "      <td>-3174.29</td>\n",
       "      <td>-0.550924</td>\n",
       "      <td>-2548.50</td>\n",
       "      <td>-0.543144</td>\n",
       "    </tr>\n",
       "  </tbody>\n",
       "</table>\n",
       "<p>1998 rows × 19 columns</p>\n",
       "</div>"
      ],
      "text/plain": [
       "         Sector         Dep  Impactado         Saldo  Desembolso_mes  \\\n",
       "0     INDUSTRIA        Lima          0   56643.10092             0.0   \n",
       "1      COMERCIO    Arequipa          0  190313.99460             0.0   \n",
       "2      SERVICIO    Amazonas          0  547601.57360             0.0   \n",
       "3     INDUSTRIA        Lima          0  283914.20840             0.0   \n",
       "4      COMERCIO       Cusco          0  142296.43840             0.0   \n",
       "...         ...         ...        ...           ...             ...   \n",
       "1993   COMERCIO  Lambayeque          1    4325.85076             0.0   \n",
       "1994   COMERCIO    Arequipa          1   94650.62631             0.0   \n",
       "1995   COMERCIO        Lima          1  747579.33510             0.0   \n",
       "1996   COMERCIO        Lima          1   18077.98187             0.0   \n",
       "1997   SERVICIO    Arequipa          1  286471.03470             0.0   \n",
       "\n",
       "      Saldo Promedio  Deuda Sistea,   Pasivo  Turismo  Sector de Impacto  \\\n",
       "0       28321.550460       31365.73  5876.82        0                  3   \n",
       "1       63437.998180       64864.99  4467.40        0                  4   \n",
       "2      182533.857900      200239.32  5000.92        0                  1   \n",
       "3       94638.069470      112945.17   325.50        0                  3   \n",
       "4       47432.146120      144877.21     0.00        0                  4   \n",
       "...              ...            ...      ...      ...                ...   \n",
       "1993     1441.950253        1624.47  2558.31        0                  4   \n",
       "1994    31550.208770       75502.84  3029.48        0                  4   \n",
       "1995   249193.111700      843972.49   593.99        0                  3   \n",
       "1996     6025.993957      122633.10  5312.64        0                  3   \n",
       "1997    97561.751050      269538.61  2558.31        0                  4   \n",
       "\n",
       "        Venta   Venta Formal  Pasivo_desembolso  Deuda rezagada va  \\\n",
       "0     108400.0      43741.08           5876.820            -800.65   \n",
       "1     105300.0      69737.17           4467.400           -2810.52   \n",
       "2      86600.0      79178.83           5000.920             653.68   \n",
       "3     103000.0          0.00            325.500           14820.77   \n",
       "4     172920.0     171999.33              0.000           17468.60   \n",
       "...        ...           ...                ...                ...   \n",
       "1993   30000.0       4905.00           2528.565            -710.56   \n",
       "1994   32100.0       7034.00           3029.480           -5421.28   \n",
       "1995  180905.0      93482.00            593.990            6776.19   \n",
       "1996   69500.0       8333.00           5312.640           -3838.01   \n",
       "1997   50514.0       4171.00           2528.565          -26220.40   \n",
       "\n",
       "      Deuda rezagada vr  pasivo rezagada va  pasivo rezagada vr  \\\n",
       "0             -0.024891              830.82            0.164649   \n",
       "1             -0.041529            -7043.43           -0.611896   \n",
       "2              0.003275             2000.92            0.666973   \n",
       "3              0.151041           -17128.30           -0.981351   \n",
       "4              0.137107            -2071.80           -1.000000   \n",
       "...                 ...                 ...                 ...   \n",
       "1993          -0.304304            -3174.29           -0.550924   \n",
       "1994          -0.066992           -10965.03           -0.783524   \n",
       "1995           0.008094           -11589.60           -0.951247   \n",
       "1996          -0.030347           -18929.55           -0.780851   \n",
       "1997          -0.088655            -3174.29           -0.550924   \n",
       "\n",
       "      Pasivo_desembolso da  Pasivo_desembolso dr  \n",
       "0                   830.82              0.164649  \n",
       "1                 -7043.43             -0.611896  \n",
       "2                  2000.92              0.666973  \n",
       "3                -17128.30             -0.981351  \n",
       "4                 -2071.80             -1.000000  \n",
       "...                    ...                   ...  \n",
       "1993              -2548.50             -0.543144  \n",
       "1994             -10965.03             -0.783524  \n",
       "1995             -11589.60             -0.951247  \n",
       "1996             -18929.55             -0.780851  \n",
       "1997              -2548.50             -0.543144  \n",
       "\n",
       "[1998 rows x 19 columns]"
      ]
     },
     "execution_count": 7,
     "metadata": {},
     "output_type": "execute_result"
    }
   ],
   "source": [
    "raw_data"
   ]
  },
  {
   "cell_type": "markdown",
   "id": "52ff3742",
   "metadata": {},
   "source": [
    "# 2. Descripción del dataset"
   ]
  },
  {
   "cell_type": "markdown",
   "id": "91e8fe3c",
   "metadata": {},
   "source": [
    "## 2.1 Forma del dataset"
   ]
  },
  {
   "cell_type": "code",
   "execution_count": 8,
   "id": "f58cb688",
   "metadata": {},
   "outputs": [],
   "source": [
    "#raw_data.columns = [...] → por si fuera necesario renombrar las columnas"
   ]
  },
  {
   "cell_type": "code",
   "execution_count": 9,
   "id": "aff031c5",
   "metadata": {},
   "outputs": [
    {
     "data": {
      "text/plain": [
       "(1998, 19)"
      ]
     },
     "execution_count": 9,
     "metadata": {},
     "output_type": "execute_result"
    }
   ],
   "source": [
    "raw_data.shape"
   ]
  },
  {
   "cell_type": "markdown",
   "id": "c9acde26",
   "metadata": {},
   "source": [
    "## 2.2 Tipos de datos"
   ]
  },
  {
   "cell_type": "code",
   "execution_count": 10,
   "id": "031e16f7",
   "metadata": {},
   "outputs": [
    {
     "name": "stdout",
     "output_type": "stream",
     "text": [
      "<class 'pandas.core.frame.DataFrame'>\n",
      "RangeIndex: 1998 entries, 0 to 1997\n",
      "Data columns (total 19 columns):\n",
      " #   Column                Non-Null Count  Dtype  \n",
      "---  ------                --------------  -----  \n",
      " 0   Sector                1998 non-null   object \n",
      " 1   Dep                   1998 non-null   object \n",
      " 2   Impactado             1998 non-null   int64  \n",
      " 3   Saldo                 1998 non-null   float64\n",
      " 4   Desembolso_mes        1998 non-null   float64\n",
      " 5   Saldo Promedio        1998 non-null   float64\n",
      " 6   Deuda Sistea,         1998 non-null   float64\n",
      " 7   Pasivo                1998 non-null   float64\n",
      " 8   Turismo               1998 non-null   int64  \n",
      " 9   Sector de Impacto     1998 non-null   int64  \n",
      " 10  Venta                 1998 non-null   float64\n",
      " 11  Venta Formal          1998 non-null   float64\n",
      " 12  Pasivo_desembolso     1998 non-null   float64\n",
      " 13  Deuda rezagada va     1998 non-null   float64\n",
      " 14  Deuda rezagada vr     1998 non-null   float64\n",
      " 15  pasivo rezagada va    1998 non-null   float64\n",
      " 16  pasivo rezagada vr    1998 non-null   float64\n",
      " 17  Pasivo_desembolso da  1998 non-null   float64\n",
      " 18  Pasivo_desembolso dr  1998 non-null   float64\n",
      "dtypes: float64(14), int64(3), object(2)\n",
      "memory usage: 296.7+ KB\n"
     ]
    }
   ],
   "source": [
    "raw_data.info()"
   ]
  },
  {
   "cell_type": "markdown",
   "id": "7870296f",
   "metadata": {},
   "source": [
    "## 2.3 Memoria usada"
   ]
  },
  {
   "cell_type": "code",
   "execution_count": 11,
   "id": "f5e48702",
   "metadata": {},
   "outputs": [
    {
     "data": {
      "text/plain": [
       "Index                      128\n",
       "Sector                  130126\n",
       "Dep                     134421\n",
       "Impactado                15984\n",
       "Saldo                    15984\n",
       "Desembolso_mes           15984\n",
       "Saldo Promedio           15984\n",
       "Deuda Sistea,            15984\n",
       "Pasivo                   15984\n",
       "Turismo                  15984\n",
       "Sector de Impacto        15984\n",
       "Venta                    15984\n",
       "Venta Formal             15984\n",
       "Pasivo_desembolso        15984\n",
       "Deuda rezagada va        15984\n",
       "Deuda rezagada vr        15984\n",
       "pasivo rezagada va       15984\n",
       "pasivo rezagada vr       15984\n",
       "Pasivo_desembolso da     15984\n",
       "Pasivo_desembolso dr     15984\n",
       "dtype: int64"
      ]
     },
     "execution_count": 11,
     "metadata": {},
     "output_type": "execute_result"
    }
   ],
   "source": [
    "raw_data.memory_usage(deep=True)"
   ]
  },
  {
   "cell_type": "markdown",
   "id": "ebdb31c8",
   "metadata": {},
   "source": [
    "## 2.4 Observaciones duplicadas"
   ]
  },
  {
   "cell_type": "code",
   "execution_count": 12,
   "id": "1db518db",
   "metadata": {},
   "outputs": [],
   "source": [
    "duplicated_values = raw_data.duplicated()"
   ]
  },
  {
   "cell_type": "code",
   "execution_count": 13,
   "id": "a30de3b1",
   "metadata": {},
   "outputs": [
    {
     "data": {
      "text/html": [
       "<div>\n",
       "<style scoped>\n",
       "    .dataframe tbody tr th:only-of-type {\n",
       "        vertical-align: middle;\n",
       "    }\n",
       "\n",
       "    .dataframe tbody tr th {\n",
       "        vertical-align: top;\n",
       "    }\n",
       "\n",
       "    .dataframe thead th {\n",
       "        text-align: right;\n",
       "    }\n",
       "</style>\n",
       "<table border=\"1\" class=\"dataframe\">\n",
       "  <thead>\n",
       "    <tr style=\"text-align: right;\">\n",
       "      <th></th>\n",
       "      <th>Sector</th>\n",
       "      <th>Dep</th>\n",
       "      <th>Impactado</th>\n",
       "      <th>Saldo</th>\n",
       "      <th>Desembolso_mes</th>\n",
       "      <th>Saldo Promedio</th>\n",
       "      <th>Deuda Sistea,</th>\n",
       "      <th>Pasivo</th>\n",
       "      <th>Turismo</th>\n",
       "      <th>Sector de Impacto</th>\n",
       "      <th>Venta</th>\n",
       "      <th>Venta Formal</th>\n",
       "      <th>Pasivo_desembolso</th>\n",
       "      <th>Deuda rezagada va</th>\n",
       "      <th>Deuda rezagada vr</th>\n",
       "      <th>pasivo rezagada va</th>\n",
       "      <th>pasivo rezagada vr</th>\n",
       "      <th>Pasivo_desembolso da</th>\n",
       "      <th>Pasivo_desembolso dr</th>\n",
       "    </tr>\n",
       "  </thead>\n",
       "  <tbody>\n",
       "    <tr>\n",
       "      <th>1526</th>\n",
       "      <td>COMERCIO</td>\n",
       "      <td>Amazonas</td>\n",
       "      <td>1</td>\n",
       "      <td>244225.7127</td>\n",
       "      <td>0.0</td>\n",
       "      <td>82224.11698</td>\n",
       "      <td>154027.21</td>\n",
       "      <td>2558.31</td>\n",
       "      <td>0</td>\n",
       "      <td>3</td>\n",
       "      <td>69500.0</td>\n",
       "      <td>8333.0</td>\n",
       "      <td>2528.565</td>\n",
       "      <td>-2179.09</td>\n",
       "      <td>-0.014269</td>\n",
       "      <td>-3174.29</td>\n",
       "      <td>-0.550924</td>\n",
       "      <td>-2548.5</td>\n",
       "      <td>-0.543144</td>\n",
       "    </tr>\n",
       "    <tr>\n",
       "      <th>1339</th>\n",
       "      <td>INDUSTRIA</td>\n",
       "      <td>Lambayeque</td>\n",
       "      <td>1</td>\n",
       "      <td>244225.7127</td>\n",
       "      <td>0.0</td>\n",
       "      <td>82224.11698</td>\n",
       "      <td>154027.21</td>\n",
       "      <td>2558.31</td>\n",
       "      <td>0</td>\n",
       "      <td>3</td>\n",
       "      <td>69500.0</td>\n",
       "      <td>8333.0</td>\n",
       "      <td>2528.565</td>\n",
       "      <td>-2179.09</td>\n",
       "      <td>-0.014269</td>\n",
       "      <td>-3174.29</td>\n",
       "      <td>-0.550924</td>\n",
       "      <td>-2548.5</td>\n",
       "      <td>-0.543144</td>\n",
       "    </tr>\n",
       "    <tr>\n",
       "      <th>364</th>\n",
       "      <td>COMERCIO</td>\n",
       "      <td>Áncash</td>\n",
       "      <td>0</td>\n",
       "      <td>244225.7127</td>\n",
       "      <td>0.0</td>\n",
       "      <td>82224.11698</td>\n",
       "      <td>154027.21</td>\n",
       "      <td>2558.31</td>\n",
       "      <td>0</td>\n",
       "      <td>3</td>\n",
       "      <td>69500.0</td>\n",
       "      <td>8333.0</td>\n",
       "      <td>2528.565</td>\n",
       "      <td>-2179.09</td>\n",
       "      <td>-0.014269</td>\n",
       "      <td>-3174.29</td>\n",
       "      <td>-0.550924</td>\n",
       "      <td>-2548.5</td>\n",
       "      <td>-0.543144</td>\n",
       "    </tr>\n",
       "    <tr>\n",
       "      <th>340</th>\n",
       "      <td>COMERCIO</td>\n",
       "      <td>Ucayali</td>\n",
       "      <td>0</td>\n",
       "      <td>244225.7127</td>\n",
       "      <td>0.0</td>\n",
       "      <td>82224.11698</td>\n",
       "      <td>154027.21</td>\n",
       "      <td>2558.31</td>\n",
       "      <td>0</td>\n",
       "      <td>3</td>\n",
       "      <td>69500.0</td>\n",
       "      <td>8333.0</td>\n",
       "      <td>2528.565</td>\n",
       "      <td>-2179.09</td>\n",
       "      <td>-0.014269</td>\n",
       "      <td>-3174.29</td>\n",
       "      <td>-0.550924</td>\n",
       "      <td>-2548.5</td>\n",
       "      <td>-0.543144</td>\n",
       "    </tr>\n",
       "    <tr>\n",
       "      <th>791</th>\n",
       "      <td>COMERCIO</td>\n",
       "      <td>Pasco</td>\n",
       "      <td>0</td>\n",
       "      <td>244225.7127</td>\n",
       "      <td>0.0</td>\n",
       "      <td>82224.11698</td>\n",
       "      <td>154027.21</td>\n",
       "      <td>2558.31</td>\n",
       "      <td>0</td>\n",
       "      <td>3</td>\n",
       "      <td>69500.0</td>\n",
       "      <td>8333.0</td>\n",
       "      <td>2528.565</td>\n",
       "      <td>-2179.09</td>\n",
       "      <td>-0.014269</td>\n",
       "      <td>-3174.29</td>\n",
       "      <td>-0.550924</td>\n",
       "      <td>-2548.5</td>\n",
       "      <td>-0.543144</td>\n",
       "    </tr>\n",
       "    <tr>\n",
       "      <th>314</th>\n",
       "      <td>SERVICIO</td>\n",
       "      <td>Lima</td>\n",
       "      <td>0</td>\n",
       "      <td>244225.7127</td>\n",
       "      <td>0.0</td>\n",
       "      <td>82224.11698</td>\n",
       "      <td>154027.21</td>\n",
       "      <td>2558.31</td>\n",
       "      <td>0</td>\n",
       "      <td>3</td>\n",
       "      <td>69500.0</td>\n",
       "      <td>8333.0</td>\n",
       "      <td>2528.565</td>\n",
       "      <td>-2179.09</td>\n",
       "      <td>-0.014269</td>\n",
       "      <td>-3174.29</td>\n",
       "      <td>-0.550924</td>\n",
       "      <td>-2548.5</td>\n",
       "      <td>-0.543144</td>\n",
       "    </tr>\n",
       "    <tr>\n",
       "      <th>496</th>\n",
       "      <td>COMERCIO</td>\n",
       "      <td>Junín</td>\n",
       "      <td>0</td>\n",
       "      <td>244225.7127</td>\n",
       "      <td>0.0</td>\n",
       "      <td>82224.11698</td>\n",
       "      <td>154027.21</td>\n",
       "      <td>2558.31</td>\n",
       "      <td>0</td>\n",
       "      <td>3</td>\n",
       "      <td>69500.0</td>\n",
       "      <td>8333.0</td>\n",
       "      <td>2528.565</td>\n",
       "      <td>-2179.09</td>\n",
       "      <td>-0.014269</td>\n",
       "      <td>-3174.29</td>\n",
       "      <td>-0.550924</td>\n",
       "      <td>-2548.5</td>\n",
       "      <td>-0.543144</td>\n",
       "    </tr>\n",
       "    <tr>\n",
       "      <th>1660</th>\n",
       "      <td>COMERCIO</td>\n",
       "      <td>Lima</td>\n",
       "      <td>1</td>\n",
       "      <td>244225.7127</td>\n",
       "      <td>0.0</td>\n",
       "      <td>82224.11698</td>\n",
       "      <td>154027.21</td>\n",
       "      <td>2558.31</td>\n",
       "      <td>0</td>\n",
       "      <td>3</td>\n",
       "      <td>69500.0</td>\n",
       "      <td>8333.0</td>\n",
       "      <td>2528.565</td>\n",
       "      <td>-2179.09</td>\n",
       "      <td>-0.014269</td>\n",
       "      <td>-3174.29</td>\n",
       "      <td>-0.550924</td>\n",
       "      <td>-2548.5</td>\n",
       "      <td>-0.543144</td>\n",
       "    </tr>\n",
       "    <tr>\n",
       "      <th>1469</th>\n",
       "      <td>COMERCIO</td>\n",
       "      <td>Lima</td>\n",
       "      <td>1</td>\n",
       "      <td>244225.7127</td>\n",
       "      <td>0.0</td>\n",
       "      <td>82224.11698</td>\n",
       "      <td>154027.21</td>\n",
       "      <td>2558.31</td>\n",
       "      <td>0</td>\n",
       "      <td>3</td>\n",
       "      <td>69500.0</td>\n",
       "      <td>8333.0</td>\n",
       "      <td>2528.565</td>\n",
       "      <td>-2179.09</td>\n",
       "      <td>-0.014269</td>\n",
       "      <td>-3174.29</td>\n",
       "      <td>-0.550924</td>\n",
       "      <td>-2548.5</td>\n",
       "      <td>-0.543144</td>\n",
       "    </tr>\n",
       "    <tr>\n",
       "      <th>762</th>\n",
       "      <td>COMERCIO</td>\n",
       "      <td>Huánuco</td>\n",
       "      <td>0</td>\n",
       "      <td>244225.7127</td>\n",
       "      <td>0.0</td>\n",
       "      <td>82224.11698</td>\n",
       "      <td>154027.21</td>\n",
       "      <td>2558.31</td>\n",
       "      <td>0</td>\n",
       "      <td>3</td>\n",
       "      <td>69500.0</td>\n",
       "      <td>8333.0</td>\n",
       "      <td>2528.565</td>\n",
       "      <td>-2179.09</td>\n",
       "      <td>-0.014269</td>\n",
       "      <td>-3174.29</td>\n",
       "      <td>-0.550924</td>\n",
       "      <td>-2548.5</td>\n",
       "      <td>-0.543144</td>\n",
       "    </tr>\n",
       "  </tbody>\n",
       "</table>\n",
       "</div>"
      ],
      "text/plain": [
       "         Sector         Dep  Impactado        Saldo  Desembolso_mes  \\\n",
       "1526   COMERCIO    Amazonas          1  244225.7127             0.0   \n",
       "1339  INDUSTRIA  Lambayeque          1  244225.7127             0.0   \n",
       "364    COMERCIO      Áncash          0  244225.7127             0.0   \n",
       "340    COMERCIO     Ucayali          0  244225.7127             0.0   \n",
       "791    COMERCIO       Pasco          0  244225.7127             0.0   \n",
       "314    SERVICIO        Lima          0  244225.7127             0.0   \n",
       "496    COMERCIO       Junín          0  244225.7127             0.0   \n",
       "1660   COMERCIO        Lima          1  244225.7127             0.0   \n",
       "1469   COMERCIO        Lima          1  244225.7127             0.0   \n",
       "762    COMERCIO     Huánuco          0  244225.7127             0.0   \n",
       "\n",
       "      Saldo Promedio  Deuda Sistea,   Pasivo  Turismo  Sector de Impacto  \\\n",
       "1526     82224.11698      154027.21  2558.31        0                  3   \n",
       "1339     82224.11698      154027.21  2558.31        0                  3   \n",
       "364      82224.11698      154027.21  2558.31        0                  3   \n",
       "340      82224.11698      154027.21  2558.31        0                  3   \n",
       "791      82224.11698      154027.21  2558.31        0                  3   \n",
       "314      82224.11698      154027.21  2558.31        0                  3   \n",
       "496      82224.11698      154027.21  2558.31        0                  3   \n",
       "1660     82224.11698      154027.21  2558.31        0                  3   \n",
       "1469     82224.11698      154027.21  2558.31        0                  3   \n",
       "762      82224.11698      154027.21  2558.31        0                  3   \n",
       "\n",
       "       Venta   Venta Formal  Pasivo_desembolso  Deuda rezagada va  \\\n",
       "1526  69500.0        8333.0           2528.565           -2179.09   \n",
       "1339  69500.0        8333.0           2528.565           -2179.09   \n",
       "364   69500.0        8333.0           2528.565           -2179.09   \n",
       "340   69500.0        8333.0           2528.565           -2179.09   \n",
       "791   69500.0        8333.0           2528.565           -2179.09   \n",
       "314   69500.0        8333.0           2528.565           -2179.09   \n",
       "496   69500.0        8333.0           2528.565           -2179.09   \n",
       "1660  69500.0        8333.0           2528.565           -2179.09   \n",
       "1469  69500.0        8333.0           2528.565           -2179.09   \n",
       "762   69500.0        8333.0           2528.565           -2179.09   \n",
       "\n",
       "      Deuda rezagada vr  pasivo rezagada va  pasivo rezagada vr  \\\n",
       "1526          -0.014269            -3174.29           -0.550924   \n",
       "1339          -0.014269            -3174.29           -0.550924   \n",
       "364           -0.014269            -3174.29           -0.550924   \n",
       "340           -0.014269            -3174.29           -0.550924   \n",
       "791           -0.014269            -3174.29           -0.550924   \n",
       "314           -0.014269            -3174.29           -0.550924   \n",
       "496           -0.014269            -3174.29           -0.550924   \n",
       "1660          -0.014269            -3174.29           -0.550924   \n",
       "1469          -0.014269            -3174.29           -0.550924   \n",
       "762           -0.014269            -3174.29           -0.550924   \n",
       "\n",
       "      Pasivo_desembolso da  Pasivo_desembolso dr  \n",
       "1526               -2548.5             -0.543144  \n",
       "1339               -2548.5             -0.543144  \n",
       "364                -2548.5             -0.543144  \n",
       "340                -2548.5             -0.543144  \n",
       "791                -2548.5             -0.543144  \n",
       "314                -2548.5             -0.543144  \n",
       "496                -2548.5             -0.543144  \n",
       "1660               -2548.5             -0.543144  \n",
       "1469               -2548.5             -0.543144  \n",
       "762                -2548.5             -0.543144  "
      ]
     },
     "execution_count": 13,
     "metadata": {},
     "output_type": "execute_result"
    }
   ],
   "source": [
    "raw_data.loc[duplicated_values].sample(10)"
   ]
  },
  {
   "cell_type": "code",
   "execution_count": 14,
   "id": "0741b137",
   "metadata": {},
   "outputs": [
    {
     "data": {
      "text/plain": [
       "99"
      ]
     },
     "execution_count": 14,
     "metadata": {},
     "output_type": "execute_result"
    }
   ],
   "source": [
    "raw_data.loc[duplicated_values].shape[0]"
   ]
  },
  {
   "cell_type": "markdown",
   "id": "046b4943",
   "metadata": {},
   "source": [
    "- Por ser data sintética, voy a asumir que la repetición de los valores en las 99 filas es propia de la generación de valores al momento de crear el conjunto de datos. Por lo tanto, los valores no van a ser removviods del dataset."
   ]
  },
  {
   "cell_type": "markdown",
   "id": "83d39294",
   "metadata": {},
   "source": [
    "## 2.5 Cantidad de zero values"
   ]
  },
  {
   "cell_type": "code",
   "execution_count": 15,
   "id": "55707dde",
   "metadata": {},
   "outputs": [
    {
     "data": {
      "text/plain": [
       "Sector                   0.000000\n",
       "Dep                      0.000000\n",
       "Impactado               50.000000\n",
       "Saldo                    0.000000\n",
       "Desembolso_mes          99.799800\n",
       "Saldo Promedio           0.000000\n",
       "Deuda Sistea,            0.100100\n",
       "Pasivo                   5.255255\n",
       "Turismo                 94.494494\n",
       "Sector de Impacto        0.000000\n",
       "Venta                    0.000000\n",
       "Venta Formal            19.919920\n",
       "Pasivo_desembolso        5.255255\n",
       "Deuda rezagada va        2.602603\n",
       "Deuda rezagada vr        2.552553\n",
       "pasivo rezagada va       2.252252\n",
       "pasivo rezagada vr       0.900901\n",
       "Pasivo_desembolso da     2.252252\n",
       "Pasivo_desembolso dr     0.900901\n",
       "dtype: float64"
      ]
     },
     "execution_count": 15,
     "metadata": {},
     "output_type": "execute_result"
    }
   ],
   "source": [
    "(raw_data == 0).mean() * 100"
   ]
  },
  {
   "cell_type": "markdown",
   "id": "7caff851",
   "metadata": {},
   "source": [
    "- Las variables **Desenbolso_mes** y **Turismo** tienen cantidades excesivamente altas de ceros, lo que hace que aporten muy poco al modelo a desarrollar. Debido a ello, serán removidas del dataset."
   ]
  },
  {
   "cell_type": "markdown",
   "id": "226f1499",
   "metadata": {},
   "source": [
    "# 3. Tratamiento del dataset"
   ]
  },
  {
   "cell_type": "code",
   "execution_count": 16,
   "id": "1d51d4c7",
   "metadata": {},
   "outputs": [],
   "source": [
    "data = raw_data.copy()"
   ]
  },
  {
   "cell_type": "markdown",
   "id": "d32b15f3",
   "metadata": {},
   "source": [
    "## 3.1 Tratamiento de zero values"
   ]
  },
  {
   "cell_type": "code",
   "execution_count": 17,
   "id": "f86bc287",
   "metadata": {},
   "outputs": [],
   "source": [
    "data = data.drop(['Desembolso_mes','Turismo'],axis=1)"
   ]
  },
  {
   "cell_type": "code",
   "execution_count": 18,
   "id": "ecf2bb09",
   "metadata": {},
   "outputs": [
    {
     "data": {
      "text/plain": [
       "Sector                   0.000000\n",
       "Dep                      0.000000\n",
       "Impactado               50.000000\n",
       "Saldo                    0.000000\n",
       "Saldo Promedio           0.000000\n",
       "Deuda Sistea,            0.100100\n",
       "Pasivo                   5.255255\n",
       "Sector de Impacto        0.000000\n",
       "Venta                    0.000000\n",
       "Venta Formal            19.919920\n",
       "Pasivo_desembolso        5.255255\n",
       "Deuda rezagada va        2.602603\n",
       "Deuda rezagada vr        2.552553\n",
       "pasivo rezagada va       2.252252\n",
       "pasivo rezagada vr       0.900901\n",
       "Pasivo_desembolso da     2.252252\n",
       "Pasivo_desembolso dr     0.900901\n",
       "dtype: float64"
      ]
     },
     "execution_count": 18,
     "metadata": {},
     "output_type": "execute_result"
    }
   ],
   "source": [
    "(data == 0).mean() * 100"
   ]
  },
  {
   "cell_type": "markdown",
   "id": "68b24532",
   "metadata": {},
   "source": [
    "## 3.2 Tratamiento de valores perdidos"
   ]
  },
  {
   "cell_type": "code",
   "execution_count": 19,
   "id": "0b2b7b4c",
   "metadata": {},
   "outputs": [
    {
     "data": {
      "image/png": "[encoded data removed]",
      "text/plain": [
       "<Figure size 1008x216 with 2 Axes>"
      ]
     },
     "metadata": {
      "needs_background": "light"
     },
     "output_type": "display_data"
    }
   ],
   "source": [
    "msno.matrix(data,\n",
    "           color=(0.0, 0.35, 0.45),\n",
    "           figsize=(14,3),\n",
    "           fontsize=10)\n",
    "plt.show()"
   ]
  },
  {
   "cell_type": "code",
   "execution_count": 20,
   "id": "ab33a985",
   "metadata": {},
   "outputs": [
    {
     "data": {
      "text/plain": [
       "Sector                  0.0\n",
       "Dep                     0.0\n",
       "Impactado               0.0\n",
       "Saldo                   0.0\n",
       "Saldo Promedio          0.0\n",
       "Deuda Sistea,           0.0\n",
       "Pasivo                  0.0\n",
       "Sector de Impacto       0.0\n",
       "Venta                   0.0\n",
       "Venta Formal            0.0\n",
       "Pasivo_desembolso       0.0\n",
       "Deuda rezagada va       0.0\n",
       "Deuda rezagada vr       0.0\n",
       "pasivo rezagada va      0.0\n",
       "pasivo rezagada vr      0.0\n",
       "Pasivo_desembolso da    0.0\n",
       "Pasivo_desembolso dr    0.0\n",
       "dtype: float64"
      ]
     },
     "execution_count": 20,
     "metadata": {},
     "output_type": "execute_result"
    }
   ],
   "source": [
    "data.isnull().mean()"
   ]
  },
  {
   "cell_type": "markdown",
   "id": "da831ab8",
   "metadata": {},
   "source": [
    "- El dataset no cuenta con missing values en su contenido."
   ]
  },
  {
   "cell_type": "markdown",
   "id": "88e19b2a",
   "metadata": {},
   "source": [
    "## 3.3 Tratamiento de valores atípicos"
   ]
  },
  {
   "cell_type": "code",
   "execution_count": 21,
   "id": "4cee0dae",
   "metadata": {},
   "outputs": [],
   "source": [
    "numerical_columns = list(data.select_dtypes(['int','float']).columns)"
   ]
  },
  {
   "cell_type": "code",
   "execution_count": 22,
   "id": "3e91cecf",
   "metadata": {},
   "outputs": [],
   "source": [
    "categorical_columns = list(data.select_dtypes(['object']).columns)"
   ]
  },
  {
   "cell_type": "code",
   "execution_count": 23,
   "id": "3e560987",
   "metadata": {},
   "outputs": [
    {
     "data": {
      "image/png": "[encoded data removed]",
      "text/plain": [
       "<Figure size 720x360 with 1 Axes>"
      ]
     },
     "metadata": {
      "needs_background": "light"
     },
     "output_type": "display_data"
    }
   ],
   "source": [
    "fig, ax = plt.subplots()\n",
    "fig.set_size_inches(10,5)\n",
    "ax = sns.boxplot(data=data)\n",
    "plt.xticks(rotation=90)\n",
    "plt.show()"
   ]
  },
  {
   "cell_type": "markdown",
   "id": "cc787221",
   "metadata": {},
   "source": [
    "- A partir de los diagramas de caja y bigotes realizados, se infiere que existen outliers tanto por encima como por debajo de la distribución de las variables."
   ]
  },
  {
   "cell_type": "markdown",
   "id": "cac0c4e8",
   "metadata": {},
   "source": [
    "### 3.3.1 Detección univariante"
   ]
  },
  {
   "cell_type": "code",
   "execution_count": 24,
   "id": "ced3016c",
   "metadata": {},
   "outputs": [],
   "source": [
    "low_pp = list(np.arange(0.01,0.11,0.01))\n",
    "high_pp = list(np.arange(0.91,1.01,0.01))\n",
    "\n",
    "low_pp = [round(x, 2) for x in low_pp]\n",
    "high_pp = [round(x, 2) for x in high_pp]"
   ]
  },
  {
   "cell_type": "markdown",
   "id": "d299936d",
   "metadata": {},
   "source": [
    "#### 3.3.1.1 Detección de valores atípicos inferiores"
   ]
  },
  {
   "cell_type": "code",
   "execution_count": 25,
   "id": "ef20703e",
   "metadata": {},
   "outputs": [],
   "source": [
    "def get_min_outliers_ratio(df):\n",
    "    df_columns = list(df.columns)\n",
    "    for column in df_columns:\n",
    "        print()\n",
    "        max_value = round(float(df.loc['max', str(column)]), 2)\n",
    "        min_value = round(float(df.loc['min', str(column)]), 2)\n",
    "        pp_value_01 = round(float(df.loc['2.5%', str(column)]), 2)\n",
    "        pp_value_02 = round(float(df.loc['5%', str(column)]), 2)\n",
    "        pp_value_03 = round(float(df.loc['7.5%', str(column)]), 2)\n",
    "        if max_value > 1.0:\n",
    "            if pp_value_01!=0 and pp_value_02!=0 and pp_value_03!=0 and min_value!=0:\n",
    "                ratio_01 = round(pp_value_01 / min_value, 3)\n",
    "                ratio_02 = round(pp_value_02 / pp_value_01, 3)\n",
    "                ratio_03 = round(pp_value_03 / pp_value_02, 3)\n",
    "                print(f' → Ratios of <<{column}>> column: (2.5% → {ratio_01}) (5% → {ratio_02}) (7.5% → {ratio_03})')\n",
    "            else:\n",
    "                print(f'{column} column: Min:{min_value} (2.5% → {pp_value_01}) (5% → {pp_value_02}) (7.5% → {pp_value_03})')\n",
    "            "
   ]
  },
  {
   "cell_type": "code",
   "execution_count": 26,
   "id": "cecdefc1",
   "metadata": {},
   "outputs": [
    {
     "data": {
      "text/html": [
       "<div>\n",
       "<style scoped>\n",
       "    .dataframe tbody tr th:only-of-type {\n",
       "        vertical-align: middle;\n",
       "    }\n",
       "\n",
       "    .dataframe tbody tr th {\n",
       "        vertical-align: top;\n",
       "    }\n",
       "\n",
       "    .dataframe thead th {\n",
       "        text-align: right;\n",
       "    }\n",
       "</style>\n",
       "<table border=\"1\" class=\"dataframe\">\n",
       "  <thead>\n",
       "    <tr style=\"text-align: right;\">\n",
       "      <th></th>\n",
       "      <th>Impactado</th>\n",
       "      <th>Saldo</th>\n",
       "      <th>Saldo Promedio</th>\n",
       "      <th>Deuda Sistea,</th>\n",
       "      <th>Pasivo</th>\n",
       "      <th>Sector de Impacto</th>\n",
       "      <th>Venta</th>\n",
       "      <th>Venta Formal</th>\n",
       "      <th>Pasivo_desembolso</th>\n",
       "      <th>Deuda rezagada va</th>\n",
       "      <th>Deuda rezagada vr</th>\n",
       "      <th>pasivo rezagada va</th>\n",
       "      <th>pasivo rezagada vr</th>\n",
       "      <th>Pasivo_desembolso da</th>\n",
       "      <th>Pasivo_desembolso dr</th>\n",
       "    </tr>\n",
       "  </thead>\n",
       "  <tbody>\n",
       "    <tr>\n",
       "      <th>0.01</th>\n",
       "      <td>0.0</td>\n",
       "      <td>4226.383573</td>\n",
       "      <td>1440.960725</td>\n",
       "      <td>3050.0606</td>\n",
       "      <td>0.000</td>\n",
       "      <td>1.0</td>\n",
       "      <td>8438.800</td>\n",
       "      <td>0.0</td>\n",
       "      <td>0.000</td>\n",
       "      <td>-109204.6321</td>\n",
       "      <td>-0.445818</td>\n",
       "      <td>-273180.3756</td>\n",
       "      <td>-1.000000</td>\n",
       "      <td>-263517.558700</td>\n",
       "      <td>-1.000000</td>\n",
       "    </tr>\n",
       "    <tr>\n",
       "      <th>0.02</th>\n",
       "      <td>0.0</td>\n",
       "      <td>8898.615559</td>\n",
       "      <td>2966.205187</td>\n",
       "      <td>5557.0296</td>\n",
       "      <td>0.000</td>\n",
       "      <td>1.0</td>\n",
       "      <td>10988.000</td>\n",
       "      <td>0.0</td>\n",
       "      <td>0.000</td>\n",
       "      <td>-72542.7630</td>\n",
       "      <td>-0.331955</td>\n",
       "      <td>-190543.7046</td>\n",
       "      <td>-1.000000</td>\n",
       "      <td>-167321.930000</td>\n",
       "      <td>-1.000000</td>\n",
       "    </tr>\n",
       "    <tr>\n",
       "      <th>0.03</th>\n",
       "      <td>0.0</td>\n",
       "      <td>12606.189688</td>\n",
       "      <td>4253.240977</td>\n",
       "      <td>9081.8360</td>\n",
       "      <td>0.000</td>\n",
       "      <td>1.0</td>\n",
       "      <td>12494.556</td>\n",
       "      <td>0.0</td>\n",
       "      <td>0.000</td>\n",
       "      <td>-58835.9132</td>\n",
       "      <td>-0.267181</td>\n",
       "      <td>-149911.0163</td>\n",
       "      <td>-1.000000</td>\n",
       "      <td>-136225.557800</td>\n",
       "      <td>-1.000000</td>\n",
       "    </tr>\n",
       "    <tr>\n",
       "      <th>0.04</th>\n",
       "      <td>0.0</td>\n",
       "      <td>15120.316451</td>\n",
       "      <td>5101.376660</td>\n",
       "      <td>12190.7872</td>\n",
       "      <td>0.000</td>\n",
       "      <td>1.0</td>\n",
       "      <td>13900.000</td>\n",
       "      <td>0.0</td>\n",
       "      <td>0.000</td>\n",
       "      <td>-42749.3384</td>\n",
       "      <td>-0.230498</td>\n",
       "      <td>-124101.8844</td>\n",
       "      <td>-0.999988</td>\n",
       "      <td>-116029.036800</td>\n",
       "      <td>-1.000000</td>\n",
       "    </tr>\n",
       "    <tr>\n",
       "      <th>0.05</th>\n",
       "      <td>0.0</td>\n",
       "      <td>21229.753742</td>\n",
       "      <td>7171.513270</td>\n",
       "      <td>14838.2440</td>\n",
       "      <td>0.000</td>\n",
       "      <td>1.0</td>\n",
       "      <td>15334.700</td>\n",
       "      <td>0.0</td>\n",
       "      <td>0.000</td>\n",
       "      <td>-35249.2295</td>\n",
       "      <td>-0.189747</td>\n",
       "      <td>-106232.1870</td>\n",
       "      <td>-0.999950</td>\n",
       "      <td>-96817.654000</td>\n",
       "      <td>-0.999975</td>\n",
       "    </tr>\n",
       "    <tr>\n",
       "      <th>0.06</th>\n",
       "      <td>0.0</td>\n",
       "      <td>24504.322660</td>\n",
       "      <td>8305.609052</td>\n",
       "      <td>17149.1006</td>\n",
       "      <td>0.010</td>\n",
       "      <td>1.0</td>\n",
       "      <td>16496.400</td>\n",
       "      <td>0.0</td>\n",
       "      <td>0.010</td>\n",
       "      <td>-31671.3450</td>\n",
       "      <td>-0.162475</td>\n",
       "      <td>-89867.5576</td>\n",
       "      <td>-0.999847</td>\n",
       "      <td>-79292.809200</td>\n",
       "      <td>-0.999908</td>\n",
       "    </tr>\n",
       "    <tr>\n",
       "      <th>0.07</th>\n",
       "      <td>0.0</td>\n",
       "      <td>28049.073013</td>\n",
       "      <td>9754.568781</td>\n",
       "      <td>19990.3211</td>\n",
       "      <td>0.030</td>\n",
       "      <td>1.0</td>\n",
       "      <td>18000.000</td>\n",
       "      <td>0.0</td>\n",
       "      <td>0.030</td>\n",
       "      <td>-27835.6097</td>\n",
       "      <td>-0.138851</td>\n",
       "      <td>-76923.8176</td>\n",
       "      <td>-0.998800</td>\n",
       "      <td>-62107.734000</td>\n",
       "      <td>-0.999597</td>\n",
       "    </tr>\n",
       "    <tr>\n",
       "      <th>0.08</th>\n",
       "      <td>0.0</td>\n",
       "      <td>31663.023579</td>\n",
       "      <td>10726.183318</td>\n",
       "      <td>22431.5208</td>\n",
       "      <td>0.080</td>\n",
       "      <td>1.0</td>\n",
       "      <td>18916.000</td>\n",
       "      <td>0.0</td>\n",
       "      <td>0.080</td>\n",
       "      <td>-23945.4000</td>\n",
       "      <td>-0.124413</td>\n",
       "      <td>-61236.7996</td>\n",
       "      <td>-0.996521</td>\n",
       "      <td>-54227.573600</td>\n",
       "      <td>-0.997274</td>\n",
       "    </tr>\n",
       "    <tr>\n",
       "      <th>0.09</th>\n",
       "      <td>0.0</td>\n",
       "      <td>38104.808823</td>\n",
       "      <td>12960.639614</td>\n",
       "      <td>25040.9255</td>\n",
       "      <td>0.190</td>\n",
       "      <td>1.0</td>\n",
       "      <td>20014.600</td>\n",
       "      <td>0.0</td>\n",
       "      <td>0.190</td>\n",
       "      <td>-21112.9590</td>\n",
       "      <td>-0.109323</td>\n",
       "      <td>-54228.8153</td>\n",
       "      <td>-0.991687</td>\n",
       "      <td>-47951.281562</td>\n",
       "      <td>-0.992751</td>\n",
       "    </tr>\n",
       "    <tr>\n",
       "      <th>0.10</th>\n",
       "      <td>0.0</td>\n",
       "      <td>41870.820594</td>\n",
       "      <td>14085.242928</td>\n",
       "      <td>28318.5400</td>\n",
       "      <td>0.427</td>\n",
       "      <td>1.0</td>\n",
       "      <td>21140.700</td>\n",
       "      <td>0.0</td>\n",
       "      <td>0.411</td>\n",
       "      <td>-19305.8390</td>\n",
       "      <td>-0.101173</td>\n",
       "      <td>-48702.9970</td>\n",
       "      <td>-0.983606</td>\n",
       "      <td>-43019.353000</td>\n",
       "      <td>-0.984125</td>\n",
       "    </tr>\n",
       "  </tbody>\n",
       "</table>\n",
       "</div>"
      ],
      "text/plain": [
       "      Impactado         Saldo  Saldo Promedio  Deuda Sistea,  Pasivo  \\\n",
       "0.01        0.0   4226.383573     1440.960725      3050.0606   0.000   \n",
       "0.02        0.0   8898.615559     2966.205187      5557.0296   0.000   \n",
       "0.03        0.0  12606.189688     4253.240977      9081.8360   0.000   \n",
       "0.04        0.0  15120.316451     5101.376660     12190.7872   0.000   \n",
       "0.05        0.0  21229.753742     7171.513270     14838.2440   0.000   \n",
       "0.06        0.0  24504.322660     8305.609052     17149.1006   0.010   \n",
       "0.07        0.0  28049.073013     9754.568781     19990.3211   0.030   \n",
       "0.08        0.0  31663.023579    10726.183318     22431.5208   0.080   \n",
       "0.09        0.0  38104.808823    12960.639614     25040.9255   0.190   \n",
       "0.10        0.0  41870.820594    14085.242928     28318.5400   0.427   \n",
       "\n",
       "      Sector de Impacto     Venta   Venta Formal  Pasivo_desembolso  \\\n",
       "0.01                1.0   8438.800           0.0              0.000   \n",
       "0.02                1.0  10988.000           0.0              0.000   \n",
       "0.03                1.0  12494.556           0.0              0.000   \n",
       "0.04                1.0  13900.000           0.0              0.000   \n",
       "0.05                1.0  15334.700           0.0              0.000   \n",
       "0.06                1.0  16496.400           0.0              0.010   \n",
       "0.07                1.0  18000.000           0.0              0.030   \n",
       "0.08                1.0  18916.000           0.0              0.080   \n",
       "0.09                1.0  20014.600           0.0              0.190   \n",
       "0.10                1.0  21140.700           0.0              0.411   \n",
       "\n",
       "      Deuda rezagada va  Deuda rezagada vr  pasivo rezagada va  \\\n",
       "0.01       -109204.6321          -0.445818        -273180.3756   \n",
       "0.02        -72542.7630          -0.331955        -190543.7046   \n",
       "0.03        -58835.9132          -0.267181        -149911.0163   \n",
       "0.04        -42749.3384          -0.230498        -124101.8844   \n",
       "0.05        -35249.2295          -0.189747        -106232.1870   \n",
       "0.06        -31671.3450          -0.162475         -89867.5576   \n",
       "0.07        -27835.6097          -0.138851         -76923.8176   \n",
       "0.08        -23945.4000          -0.124413         -61236.7996   \n",
       "0.09        -21112.9590          -0.109323         -54228.8153   \n",
       "0.10        -19305.8390          -0.101173         -48702.9970   \n",
       "\n",
       "      pasivo rezagada vr  Pasivo_desembolso da  Pasivo_desembolso dr  \n",
       "0.01           -1.000000        -263517.558700             -1.000000  \n",
       "0.02           -1.000000        -167321.930000             -1.000000  \n",
       "0.03           -1.000000        -136225.557800             -1.000000  \n",
       "0.04           -0.999988        -116029.036800             -1.000000  \n",
       "0.05           -0.999950         -96817.654000             -0.999975  \n",
       "0.06           -0.999847         -79292.809200             -0.999908  \n",
       "0.07           -0.998800         -62107.734000             -0.999597  \n",
       "0.08           -0.996521         -54227.573600             -0.997274  \n",
       "0.09           -0.991687         -47951.281562             -0.992751  \n",
       "0.10           -0.983606         -43019.353000             -0.984125  "
      ]
     },
     "execution_count": 26,
     "metadata": {},
     "output_type": "execute_result"
    }
   ],
   "source": [
    "data[numerical_columns].quantile(low_pp)"
   ]
  },
  {
   "cell_type": "code",
   "execution_count": 27,
   "id": "a0b52647",
   "metadata": {},
   "outputs": [
    {
     "name": "stdout",
     "output_type": "stream",
     "text": [
      "\n",
      "\n",
      " → Ratios of <<Saldo>> column: (2.5% → 99.286) (5% → 1.931) (7.5% → 1.432)\n",
      "\n",
      " → Ratios of <<Saldo Promedio>> column: (2.5% → 70.206) (5% → 1.845) (7.5% → 1.423)\n",
      "\n",
      "Deuda Sistea, column: Min:0.0 (2.5% → 8017.67) (5% → 14838.24) (7.5% → 21192.86)\n",
      "\n",
      "Pasivo column: Min:0.0 (2.5% → 0.0) (5% → 0.0) (7.5% → 0.05)\n",
      "\n",
      " → Ratios of <<Sector de Impacto>> column: (2.5% → 1.0) (5% → 1.0) (7.5% → 1.0)\n",
      "\n",
      " → Ratios of <<Venta >> column: (2.5% → 5.712) (5% → 1.278) (7.5% → 1.193)\n",
      "\n",
      "Venta Formal column: Min:0.0 (2.5% → 0.0) (5% → 0.0) (7.5% → 0.0)\n",
      "\n",
      "Pasivo_desembolso column: Min:-5284.57 (2.5% → 0.0) (5% → 0.0) (7.5% → 0.04)\n",
      "\n",
      " → Ratios of <<Deuda rezagada va>> column: (2.5% → 0.078) (5% → 0.564) (7.5% → 0.727)\n",
      "\n",
      " → Ratios of <<Deuda rezagada vr>> column: (2.5% → 0.29) (5% → 0.655) (7.5% → 0.684)\n",
      "\n",
      " → Ratios of <<pasivo rezagada va>> column: (2.5% → 0.074) (5% → 0.635) (7.5% → 0.637)\n",
      "\n",
      " → Ratios of <<pasivo rezagada vr>> column: (2.5% → 1.0) (5% → 1.0) (7.5% → 1.0)\n",
      "\n",
      " → Ratios of <<Pasivo_desembolso da>> column: (2.5% → 0.066) (5% → 0.646) (7.5% → 0.577)\n",
      "\n",
      " → Ratios of <<Pasivo_desembolso dr>> column: (2.5% → 0.114) (5% → 1.0) (7.5% → 1.0)\n"
     ]
    }
   ],
   "source": [
    "get_min_outliers_ratio(data.describe(percentiles=[0.025, 0.05, 0.075]))"
   ]
  },
  {
   "cell_type": "code",
   "execution_count": 28,
   "id": "220e026b",
   "metadata": {},
   "outputs": [
    {
     "data": {
      "image/png": "[encoded data removed]",
      "text/plain": [
       "<Figure size 1008x360 with 1 Axes>"
      ]
     },
     "metadata": {
      "needs_background": "light"
     },
     "output_type": "display_data"
    }
   ],
   "source": [
    "fig, ax = plt.subplots()\n",
    "fig.set_size_inches(14,5)\n",
    "ax = sns.boxplot(data=data, orient='h')\n",
    "plt.title('Boxplot de apoyo')\n",
    "plt.xticks(rotation=90)\n",
    "plt.show()"
   ]
  },
  {
   "cell_type": "markdown",
   "id": "85cb1951",
   "metadata": {},
   "source": [
    "- Las variables **saldo y saldo promedio** serán capeadas al 2.5%.\n",
    "- La variable **Deuda sistea,** será capeada al 1%.\n",
    "- La variable **Sector de impacto** no presenta evidencia de valores atípicos, y pese a que lo hubiese, no debería ser tratada porque representa sectores (variable categórica ordinal). Lo mejor es no transformarla o por otro lado, hacerla dicotómica en múltiples variables con valores de 1 y 0.\n",
    "- La variable **Pasivo_desembolso** será capeada al 5%.\n",
    "- La variable **Deuda rezagada va** será capeada al 2.5%.\n",
    "- La variable **pasivo rezagada va** será capeada al 2.5%.\n",
    "- La variable **Pasivo_desembolso da** será capeada al 5%."
   ]
  },
  {
   "cell_type": "code",
   "execution_count": 29,
   "id": "de91947c",
   "metadata": {},
   "outputs": [],
   "source": [
    "suspects_low = {'Saldo':'2.5%',\n",
    "                'Saldo Promedio':'2.5%',\n",
    "                'Deuda Sistea,':'1%',\n",
    "                'Pasivo_desembolso':'5%',\n",
    "                'Deuda rezagada va':'2.5%',\n",
    "                'pasivo rezagada va':'2.5%',\n",
    "                'Pasivo_desembolso da':'5%'}"
   ]
  },
  {
   "cell_type": "code",
   "execution_count": 30,
   "id": "73509992",
   "metadata": {},
   "outputs": [],
   "source": [
    "pp_df_low = data[suspects_low].describe(percentiles=[0.01,0.025,0.05])"
   ]
  },
  {
   "cell_type": "code",
   "execution_count": 31,
   "id": "e5ba2495",
   "metadata": {},
   "outputs": [
    {
     "data": {
      "text/html": [
       "<div>\n",
       "<style scoped>\n",
       "    .dataframe tbody tr th:only-of-type {\n",
       "        vertical-align: middle;\n",
       "    }\n",
       "\n",
       "    .dataframe tbody tr th {\n",
       "        vertical-align: top;\n",
       "    }\n",
       "\n",
       "    .dataframe thead th {\n",
       "        text-align: right;\n",
       "    }\n",
       "</style>\n",
       "<table border=\"1\" class=\"dataframe\">\n",
       "  <thead>\n",
       "    <tr style=\"text-align: right;\">\n",
       "      <th></th>\n",
       "      <th>Saldo</th>\n",
       "      <th>Saldo Promedio</th>\n",
       "      <th>Deuda Sistea,</th>\n",
       "      <th>Pasivo_desembolso</th>\n",
       "      <th>Deuda rezagada va</th>\n",
       "      <th>pasivo rezagada va</th>\n",
       "      <th>Pasivo_desembolso da</th>\n",
       "    </tr>\n",
       "  </thead>\n",
       "  <tbody>\n",
       "    <tr>\n",
       "      <th>count</th>\n",
       "      <td>1.998000e+03</td>\n",
       "      <td>1.998000e+03</td>\n",
       "      <td>1.998000e+03</td>\n",
       "      <td>1.998000e+03</td>\n",
       "      <td>1998.000000</td>\n",
       "      <td>1.998000e+03</td>\n",
       "      <td>1.998000e+03</td>\n",
       "    </tr>\n",
       "    <tr>\n",
       "      <th>mean</th>\n",
       "      <td>4.803591e+05</td>\n",
       "      <td>1.617075e+05</td>\n",
       "      <td>2.483788e+05</td>\n",
       "      <td>2.386792e+04</td>\n",
       "      <td>-3084.037157</td>\n",
       "      <td>-1.743134e+04</td>\n",
       "      <td>-1.478298e+04</td>\n",
       "    </tr>\n",
       "    <tr>\n",
       "      <th>std</th>\n",
       "      <td>6.505839e+05</td>\n",
       "      <td>2.185849e+05</td>\n",
       "      <td>2.893351e+05</td>\n",
       "      <td>1.069562e+05</td>\n",
       "      <td>48407.921291</td>\n",
       "      <td>9.419234e+04</td>\n",
       "      <td>8.635662e+04</td>\n",
       "    </tr>\n",
       "    <tr>\n",
       "      <th>min</th>\n",
       "      <td>1.107169e+02</td>\n",
       "      <td>5.535847e+01</td>\n",
       "      <td>0.000000e+00</td>\n",
       "      <td>-5.284572e+03</td>\n",
       "      <td>-800000.000000</td>\n",
       "      <td>-2.265108e+06</td>\n",
       "      <td>-2.265108e+06</td>\n",
       "    </tr>\n",
       "    <tr>\n",
       "      <th>1%</th>\n",
       "      <td>4.226384e+03</td>\n",
       "      <td>1.440961e+03</td>\n",
       "      <td>3.050061e+03</td>\n",
       "      <td>0.000000e+00</td>\n",
       "      <td>-109204.632100</td>\n",
       "      <td>-2.731804e+05</td>\n",
       "      <td>-2.635176e+05</td>\n",
       "    </tr>\n",
       "    <tr>\n",
       "      <th>2.5%</th>\n",
       "      <td>1.099291e+04</td>\n",
       "      <td>3.886581e+03</td>\n",
       "      <td>8.017665e+03</td>\n",
       "      <td>0.000000e+00</td>\n",
       "      <td>-62467.720750</td>\n",
       "      <td>-1.672002e+05</td>\n",
       "      <td>-1.499077e+05</td>\n",
       "    </tr>\n",
       "    <tr>\n",
       "      <th>5%</th>\n",
       "      <td>2.122975e+04</td>\n",
       "      <td>7.171513e+03</td>\n",
       "      <td>1.483824e+04</td>\n",
       "      <td>0.000000e+00</td>\n",
       "      <td>-35249.229500</td>\n",
       "      <td>-1.062322e+05</td>\n",
       "      <td>-9.681765e+04</td>\n",
       "    </tr>\n",
       "    <tr>\n",
       "      <th>50%</th>\n",
       "      <td>2.442257e+05</td>\n",
       "      <td>8.222412e+04</td>\n",
       "      <td>1.540272e+05</td>\n",
       "      <td>2.528565e+03</td>\n",
       "      <td>-2179.090000</td>\n",
       "      <td>-3.174290e+03</td>\n",
       "      <td>-2.548500e+03</td>\n",
       "    </tr>\n",
       "    <tr>\n",
       "      <th>max</th>\n",
       "      <td>4.803209e+06</td>\n",
       "      <td>1.601070e+06</td>\n",
       "      <td>2.514941e+06</td>\n",
       "      <td>1.938916e+06</td>\n",
       "      <td>866562.470000</td>\n",
       "      <td>9.418163e+05</td>\n",
       "      <td>9.418163e+05</td>\n",
       "    </tr>\n",
       "  </tbody>\n",
       "</table>\n",
       "</div>"
      ],
      "text/plain": [
       "              Saldo  Saldo Promedio  Deuda Sistea,  Pasivo_desembolso  \\\n",
       "count  1.998000e+03    1.998000e+03   1.998000e+03       1.998000e+03   \n",
       "mean   4.803591e+05    1.617075e+05   2.483788e+05       2.386792e+04   \n",
       "std    6.505839e+05    2.185849e+05   2.893351e+05       1.069562e+05   \n",
       "min    1.107169e+02    5.535847e+01   0.000000e+00      -5.284572e+03   \n",
       "1%     4.226384e+03    1.440961e+03   3.050061e+03       0.000000e+00   \n",
       "2.5%   1.099291e+04    3.886581e+03   8.017665e+03       0.000000e+00   \n",
       "5%     2.122975e+04    7.171513e+03   1.483824e+04       0.000000e+00   \n",
       "50%    2.442257e+05    8.222412e+04   1.540272e+05       2.528565e+03   \n",
       "max    4.803209e+06    1.601070e+06   2.514941e+06       1.938916e+06   \n",
       "\n",
       "       Deuda rezagada va  pasivo rezagada va  Pasivo_desembolso da  \n",
       "count        1998.000000        1.998000e+03          1.998000e+03  \n",
       "mean        -3084.037157       -1.743134e+04         -1.478298e+04  \n",
       "std         48407.921291        9.419234e+04          8.635662e+04  \n",
       "min       -800000.000000       -2.265108e+06         -2.265108e+06  \n",
       "1%        -109204.632100       -2.731804e+05         -2.635176e+05  \n",
       "2.5%       -62467.720750       -1.672002e+05         -1.499077e+05  \n",
       "5%         -35249.229500       -1.062322e+05         -9.681765e+04  \n",
       "50%         -2179.090000       -3.174290e+03         -2.548500e+03  \n",
       "max        866562.470000        9.418163e+05          9.418163e+05  "
      ]
     },
     "execution_count": 31,
     "metadata": {},
     "output_type": "execute_result"
    }
   ],
   "source": [
    "pp_df_low"
   ]
  },
  {
   "cell_type": "code",
   "execution_count": 32,
   "id": "81da4b4d",
   "metadata": {},
   "outputs": [],
   "source": [
    "# Capeo de variables\n",
    "for var in suspects_low:\n",
    "    value = pp_df_low.loc[suspects_low[var], str(var)]\n",
    "    data[str(var)] = np.where(data[str(var)] < value, value, data[str(var)])"
   ]
  },
  {
   "cell_type": "code",
   "execution_count": 33,
   "id": "e66e401c",
   "metadata": {},
   "outputs": [
    {
     "data": {
      "image/png": "[encoded data removed]",
      "text/plain": [
       "<Figure size 1008x360 with 1 Axes>"
      ]
     },
     "metadata": {
      "needs_background": "light"
     },
     "output_type": "display_data"
    }
   ],
   "source": [
    "fig, ax = plt.subplots()\n",
    "fig.set_size_inches(14,5)\n",
    "ax = sns.boxplot(data=data, orient='h')\n",
    "plt.title('Boxplot de verificación de reducción de valores atípicos')\n",
    "plt.xticks(rotation=90)\n",
    "plt.show()"
   ]
  },
  {
   "cell_type": "code",
   "execution_count": 34,
   "id": "97a7e1db",
   "metadata": {},
   "outputs": [
    {
     "data": {
      "image/png": "[encoded data removed]",
      "text/plain": [
       "<Figure size 1008x360 with 3 Axes>"
      ]
     },
     "metadata": {
      "needs_background": "light"
     },
     "output_type": "display_data"
    }
   ],
   "source": [
    "fig, ax = plt.subplots(3,1)\n",
    "fig.set_size_inches(14,5)\n",
    "ax[0].set_title(\"Deuda rezagada va\")\n",
    "sns.boxplot(data=data, x=\"Deuda rezagada va\", ax=ax[0])\n",
    "ax[0].set_xlabel('')\n",
    "ax[1].set_title(\"pasivo rezagada va\")\n",
    "sns.boxplot(data=data, x=\"pasivo rezagada va\", ax=ax[1])\n",
    "ax[1].set_xlabel('')\n",
    "ax[2].set_title(\"Pasivo_desembolso da\")\n",
    "sns.boxplot(data=data, x=\"Pasivo_desembolso da\",ax=ax[2])\n",
    "plt.xticks(rotation=90)\n",
    "ax[2].set_xlabel('')\n",
    "fig.tight_layout()\n",
    "plt.show()"
   ]
  },
  {
   "cell_type": "markdown",
   "id": "6db88781",
   "metadata": {},
   "source": [
    "- Estas 3 variables aún tienen gran cantidad de valores atípicos en su nivel inferior, pese al tratamiento realizado, pero se seguirá con el desarrollo para evaluar si más adelante implican una reducción de rendimiento en el algoritmo o no."
   ]
  },
  {
   "cell_type": "markdown",
   "id": "e0aaa969",
   "metadata": {},
   "source": [
    "#### 3.3.1.2 Detección de valores atípicos superiores"
   ]
  },
  {
   "cell_type": "code",
   "execution_count": 35,
   "id": "c5e58e8b",
   "metadata": {},
   "outputs": [],
   "source": [
    "def get_max_outliers_ratio(df):\n",
    "    df_columns = list(df.columns)\n",
    "    for column in df_columns:\n",
    "        print()\n",
    "        max_value = round(float(df.loc['max', str(column)]), 2)\n",
    "        min_value = round(float(df.loc['min', str(column)]), 2)\n",
    "        pp_value_01 = round(float(df.loc['92.5%', str(column)]), 2)\n",
    "        pp_value_02 = round(float(df.loc['95%', str(column)]), 2)\n",
    "        pp_value_03 = round(float(df.loc['97.5%', str(column)]), 2)\n",
    "        if max_value > 1.0:\n",
    "            if pp_value_01!=0 and pp_value_02!=0 and pp_value_03!=0 and max_value!=0:\n",
    "                ratio_01 = round(pp_value_02 / pp_value_01, 3)\n",
    "                ratio_02 = round(pp_value_03 / pp_value_02, 3)\n",
    "                ratio_03 = round(max_value / pp_value_03, 3)\n",
    "                print(f' → Ratios of <<{column}>> column: (92.5%-95% → {ratio_01}) (95-97.5%% → {ratio_02}) (97.5%-max → {ratio_03})')\n",
    "            else:\n",
    "                print('ERROR')\n",
    "            "
   ]
  },
  {
   "cell_type": "code",
   "execution_count": 36,
   "id": "fded16dd",
   "metadata": {},
   "outputs": [
    {
     "data": {
      "text/html": [
       "<div>\n",
       "<style scoped>\n",
       "    .dataframe tbody tr th:only-of-type {\n",
       "        vertical-align: middle;\n",
       "    }\n",
       "\n",
       "    .dataframe tbody tr th {\n",
       "        vertical-align: top;\n",
       "    }\n",
       "\n",
       "    .dataframe thead th {\n",
       "        text-align: right;\n",
       "    }\n",
       "</style>\n",
       "<table border=\"1\" class=\"dataframe\">\n",
       "  <thead>\n",
       "    <tr style=\"text-align: right;\">\n",
       "      <th></th>\n",
       "      <th>Impactado</th>\n",
       "      <th>Saldo</th>\n",
       "      <th>Saldo Promedio</th>\n",
       "      <th>Deuda Sistea,</th>\n",
       "      <th>Pasivo</th>\n",
       "      <th>Sector de Impacto</th>\n",
       "      <th>Venta</th>\n",
       "      <th>Venta Formal</th>\n",
       "      <th>Pasivo_desembolso</th>\n",
       "      <th>Deuda rezagada va</th>\n",
       "      <th>Deuda rezagada vr</th>\n",
       "      <th>pasivo rezagada va</th>\n",
       "      <th>pasivo rezagada vr</th>\n",
       "      <th>Pasivo_desembolso da</th>\n",
       "      <th>Pasivo_desembolso dr</th>\n",
       "    </tr>\n",
       "  </thead>\n",
       "  <tbody>\n",
       "    <tr>\n",
       "      <th>0.91</th>\n",
       "      <td>1.0</td>\n",
       "      <td>1.374676e+06</td>\n",
       "      <td>4.625547e+05</td>\n",
       "      <td>6.326905e+05</td>\n",
       "      <td>4.672841e+04</td>\n",
       "      <td>4.0</td>\n",
       "      <td>208441.60</td>\n",
       "      <td>1.118369e+05</td>\n",
       "      <td>4.582617e+04</td>\n",
       "      <td>10986.9160</td>\n",
       "      <td>0.097099</td>\n",
       "      <td>2721.3318</td>\n",
       "      <td>0.868561</td>\n",
       "      <td>3221.407800</td>\n",
       "      <td>0.890909</td>\n",
       "    </tr>\n",
       "    <tr>\n",
       "      <th>0.92</th>\n",
       "      <td>1.0</td>\n",
       "      <td>1.495366e+06</td>\n",
       "      <td>5.005225e+05</td>\n",
       "      <td>6.859386e+05</td>\n",
       "      <td>5.439849e+04</td>\n",
       "      <td>4.0</td>\n",
       "      <td>219962.00</td>\n",
       "      <td>1.227113e+05</td>\n",
       "      <td>5.336609e+04</td>\n",
       "      <td>13961.1952</td>\n",
       "      <td>0.123199</td>\n",
       "      <td>3942.5176</td>\n",
       "      <td>1.267219</td>\n",
       "      <td>4315.479200</td>\n",
       "      <td>1.267219</td>\n",
       "    </tr>\n",
       "    <tr>\n",
       "      <th>0.93</th>\n",
       "      <td>1.0</td>\n",
       "      <td>1.620680e+06</td>\n",
       "      <td>5.413288e+05</td>\n",
       "      <td>7.420213e+05</td>\n",
       "      <td>7.037620e+04</td>\n",
       "      <td>4.0</td>\n",
       "      <td>238375.18</td>\n",
       "      <td>1.333197e+05</td>\n",
       "      <td>6.544317e+04</td>\n",
       "      <td>17200.3634</td>\n",
       "      <td>0.147177</td>\n",
       "      <td>5215.4855</td>\n",
       "      <td>1.751382</td>\n",
       "      <td>6026.562800</td>\n",
       "      <td>1.751382</td>\n",
       "    </tr>\n",
       "    <tr>\n",
       "      <th>0.94</th>\n",
       "      <td>1.0</td>\n",
       "      <td>1.762212e+06</td>\n",
       "      <td>5.952822e+05</td>\n",
       "      <td>7.935966e+05</td>\n",
       "      <td>8.471576e+04</td>\n",
       "      <td>4.0</td>\n",
       "      <td>260713.00</td>\n",
       "      <td>1.573550e+05</td>\n",
       "      <td>8.150748e+04</td>\n",
       "      <td>22080.1464</td>\n",
       "      <td>0.185025</td>\n",
       "      <td>7805.0506</td>\n",
       "      <td>2.376331</td>\n",
       "      <td>8211.371000</td>\n",
       "      <td>2.376331</td>\n",
       "    </tr>\n",
       "    <tr>\n",
       "      <th>0.95</th>\n",
       "      <td>1.0</td>\n",
       "      <td>1.954504e+06</td>\n",
       "      <td>6.553111e+05</td>\n",
       "      <td>8.592521e+05</td>\n",
       "      <td>9.877850e+04</td>\n",
       "      <td>4.0</td>\n",
       "      <td>285190.00</td>\n",
       "      <td>1.745169e+05</td>\n",
       "      <td>9.735610e+04</td>\n",
       "      <td>28509.7710</td>\n",
       "      <td>0.218099</td>\n",
       "      <td>11151.6220</td>\n",
       "      <td>3.868939</td>\n",
       "      <td>12374.447500</td>\n",
       "      <td>3.868939</td>\n",
       "    </tr>\n",
       "    <tr>\n",
       "      <th>0.96</th>\n",
       "      <td>1.0</td>\n",
       "      <td>2.210817e+06</td>\n",
       "      <td>7.485636e+05</td>\n",
       "      <td>9.345147e+05</td>\n",
       "      <td>1.272317e+05</td>\n",
       "      <td>4.0</td>\n",
       "      <td>310087.36</td>\n",
       "      <td>2.023185e+05</td>\n",
       "      <td>1.250932e+05</td>\n",
       "      <td>38992.1576</td>\n",
       "      <td>0.291889</td>\n",
       "      <td>16989.3000</td>\n",
       "      <td>7.334902</td>\n",
       "      <td>17488.372800</td>\n",
       "      <td>7.657806</td>\n",
       "    </tr>\n",
       "    <tr>\n",
       "      <th>0.97</th>\n",
       "      <td>1.0</td>\n",
       "      <td>2.485721e+06</td>\n",
       "      <td>8.374722e+05</td>\n",
       "      <td>1.012212e+06</td>\n",
       "      <td>1.911314e+05</td>\n",
       "      <td>4.0</td>\n",
       "      <td>357559.24</td>\n",
       "      <td>2.490516e+05</td>\n",
       "      <td>1.911314e+05</td>\n",
       "      <td>49594.5005</td>\n",
       "      <td>0.417744</td>\n",
       "      <td>28164.3329</td>\n",
       "      <td>15.392125</td>\n",
       "      <td>28008.873700</td>\n",
       "      <td>18.391204</td>\n",
       "    </tr>\n",
       "    <tr>\n",
       "      <th>0.98</th>\n",
       "      <td>1.0</td>\n",
       "      <td>2.763574e+06</td>\n",
       "      <td>9.211915e+05</td>\n",
       "      <td>1.189859e+06</td>\n",
       "      <td>2.706813e+05</td>\n",
       "      <td>4.0</td>\n",
       "      <td>438036.18</td>\n",
       "      <td>2.918742e+05</td>\n",
       "      <td>2.613144e+05</td>\n",
       "      <td>79799.2114</td>\n",
       "      <td>0.629506</td>\n",
       "      <td>46248.8754</td>\n",
       "      <td>197.280711</td>\n",
       "      <td>44517.806309</td>\n",
       "      <td>221.789883</td>\n",
       "    </tr>\n",
       "    <tr>\n",
       "      <th>0.99</th>\n",
       "      <td>1.0</td>\n",
       "      <td>3.213483e+06</td>\n",
       "      <td>1.076076e+06</td>\n",
       "      <td>1.373476e+06</td>\n",
       "      <td>4.275611e+05</td>\n",
       "      <td>4.0</td>\n",
       "      <td>630749.24</td>\n",
       "      <td>4.480324e+05</td>\n",
       "      <td>3.870960e+05</td>\n",
       "      <td>100500.0868</td>\n",
       "      <td>1.178728</td>\n",
       "      <td>102654.3230</td>\n",
       "      <td>3659.833571</td>\n",
       "      <td>117444.219295</td>\n",
       "      <td>3659.833571</td>\n",
       "    </tr>\n",
       "    <tr>\n",
       "      <th>1.00</th>\n",
       "      <td>1.0</td>\n",
       "      <td>4.803209e+06</td>\n",
       "      <td>1.601070e+06</td>\n",
       "      <td>2.514941e+06</td>\n",
       "      <td>1.938916e+06</td>\n",
       "      <td>4.0</td>\n",
       "      <td>1598900.00</td>\n",
       "      <td>2.051160e+06</td>\n",
       "      <td>1.938916e+06</td>\n",
       "      <td>866562.4700</td>\n",
       "      <td>13.462875</td>\n",
       "      <td>941816.3500</td>\n",
       "      <td>851658.720900</td>\n",
       "      <td>941816.350000</td>\n",
       "      <td>851658.720900</td>\n",
       "    </tr>\n",
       "  </tbody>\n",
       "</table>\n",
       "</div>"
      ],
      "text/plain": [
       "      Impactado         Saldo  Saldo Promedio  Deuda Sistea,        Pasivo  \\\n",
       "0.91        1.0  1.374676e+06    4.625547e+05   6.326905e+05  4.672841e+04   \n",
       "0.92        1.0  1.495366e+06    5.005225e+05   6.859386e+05  5.439849e+04   \n",
       "0.93        1.0  1.620680e+06    5.413288e+05   7.420213e+05  7.037620e+04   \n",
       "0.94        1.0  1.762212e+06    5.952822e+05   7.935966e+05  8.471576e+04   \n",
       "0.95        1.0  1.954504e+06    6.553111e+05   8.592521e+05  9.877850e+04   \n",
       "0.96        1.0  2.210817e+06    7.485636e+05   9.345147e+05  1.272317e+05   \n",
       "0.97        1.0  2.485721e+06    8.374722e+05   1.012212e+06  1.911314e+05   \n",
       "0.98        1.0  2.763574e+06    9.211915e+05   1.189859e+06  2.706813e+05   \n",
       "0.99        1.0  3.213483e+06    1.076076e+06   1.373476e+06  4.275611e+05   \n",
       "1.00        1.0  4.803209e+06    1.601070e+06   2.514941e+06  1.938916e+06   \n",
       "\n",
       "      Sector de Impacto      Venta   Venta Formal  Pasivo_desembolso  \\\n",
       "0.91                4.0   208441.60  1.118369e+05       4.582617e+04   \n",
       "0.92                4.0   219962.00  1.227113e+05       5.336609e+04   \n",
       "0.93                4.0   238375.18  1.333197e+05       6.544317e+04   \n",
       "0.94                4.0   260713.00  1.573550e+05       8.150748e+04   \n",
       "0.95                4.0   285190.00  1.745169e+05       9.735610e+04   \n",
       "0.96                4.0   310087.36  2.023185e+05       1.250932e+05   \n",
       "0.97                4.0   357559.24  2.490516e+05       1.911314e+05   \n",
       "0.98                4.0   438036.18  2.918742e+05       2.613144e+05   \n",
       "0.99                4.0   630749.24  4.480324e+05       3.870960e+05   \n",
       "1.00                4.0  1598900.00  2.051160e+06       1.938916e+06   \n",
       "\n",
       "      Deuda rezagada va  Deuda rezagada vr  pasivo rezagada va  \\\n",
       "0.91         10986.9160           0.097099           2721.3318   \n",
       "0.92         13961.1952           0.123199           3942.5176   \n",
       "0.93         17200.3634           0.147177           5215.4855   \n",
       "0.94         22080.1464           0.185025           7805.0506   \n",
       "0.95         28509.7710           0.218099          11151.6220   \n",
       "0.96         38992.1576           0.291889          16989.3000   \n",
       "0.97         49594.5005           0.417744          28164.3329   \n",
       "0.98         79799.2114           0.629506          46248.8754   \n",
       "0.99        100500.0868           1.178728         102654.3230   \n",
       "1.00        866562.4700          13.462875         941816.3500   \n",
       "\n",
       "      pasivo rezagada vr  Pasivo_desembolso da  Pasivo_desembolso dr  \n",
       "0.91            0.868561           3221.407800              0.890909  \n",
       "0.92            1.267219           4315.479200              1.267219  \n",
       "0.93            1.751382           6026.562800              1.751382  \n",
       "0.94            2.376331           8211.371000              2.376331  \n",
       "0.95            3.868939          12374.447500              3.868939  \n",
       "0.96            7.334902          17488.372800              7.657806  \n",
       "0.97           15.392125          28008.873700             18.391204  \n",
       "0.98          197.280711          44517.806309            221.789883  \n",
       "0.99         3659.833571         117444.219295           3659.833571  \n",
       "1.00       851658.720900         941816.350000         851658.720900  "
      ]
     },
     "execution_count": 36,
     "metadata": {},
     "output_type": "execute_result"
    }
   ],
   "source": [
    "data[numerical_columns].quantile(high_pp)"
   ]
  },
  {
   "cell_type": "code",
   "execution_count": 37,
   "id": "5095a8b8",
   "metadata": {},
   "outputs": [
    {
     "name": "stdout",
     "output_type": "stream",
     "text": [
      "\n",
      "\n",
      " → Ratios of <<Saldo>> column: (92.5%-95% → 1.247) (95-97.5%% → 1.333) (97.5%-max → 1.843)\n",
      "\n",
      " → Ratios of <<Saldo Promedio>> column: (92.5%-95% → 1.241) (95-97.5%% → 1.326) (97.5%-max → 1.843)\n",
      "\n",
      " → Ratios of <<Deuda Sistea,>> column: (92.5%-95% → 1.208) (95-97.5%% → 1.259) (97.5%-max → 2.325)\n",
      "\n",
      " → Ratios of <<Pasivo>> column: (92.5%-95% → 1.637) (95-97.5%% → 2.167) (97.5%-max → 9.056)\n",
      "\n",
      " → Ratios of <<Sector de Impacto>> column: (92.5%-95% → 1.0) (95-97.5%% → 1.0) (97.5%-max → 1.0)\n",
      "\n",
      " → Ratios of <<Venta >> column: (92.5%-95% → 1.249) (95-97.5%% → 1.415) (97.5%-max → 3.963)\n",
      "\n",
      " → Ratios of <<Venta Formal>> column: (92.5%-95% → 1.367) (95-97.5%% → 1.522) (97.5%-max → 7.724)\n",
      "\n",
      " → Ratios of <<Pasivo_desembolso>> column: (92.5%-95% → 1.63) (95-97.5%% → 2.199) (97.5%-max → 9.056)\n",
      "\n",
      " → Ratios of <<Deuda rezagada va>> column: (92.5%-95% → 1.846) (95-97.5%% → 2.087) (97.5%-max → 14.562)\n",
      "\n",
      " → Ratios of <<Deuda rezagada vr>> column: (92.5%-95% → 1.692) (95-97.5%% → 2.273) (97.5%-max → 26.92)\n",
      "\n",
      " → Ratios of <<pasivo rezagada va>> column: (92.5%-95% → 2.52) (95-97.5%% → 3.335) (97.5%-max → 25.322)\n",
      "\n",
      " → Ratios of <<pasivo rezagada vr>> column: (92.5%-95% → 2.706) (95-97.5%% → 19.902) (97.5%-max → 11057.631)\n",
      "\n",
      " → Ratios of <<Pasivo_desembolso da>> column: (92.5%-95% → 2.444) (95-97.5%% → 2.891) (97.5%-max → 26.33)\n",
      "\n",
      " → Ratios of <<Pasivo_desembolso dr>> column: (92.5%-95% → 2.706) (95-97.5%% → 23.349) (97.5%-max → 9425.174)\n"
     ]
    }
   ],
   "source": [
    "get_max_outliers_ratio(data.describe(percentiles=[0.925, 0.95, 0.975]))"
   ]
  },
  {
   "cell_type": "code",
   "execution_count": 38,
   "id": "59c1fac4",
   "metadata": {},
   "outputs": [
    {
     "data": {
      "image/png": "[encoded data removed]",
      "text/plain": [
       "<Figure size 1008x360 with 1 Axes>"
      ]
     },
     "metadata": {
      "needs_background": "light"
     },
     "output_type": "display_data"
    }
   ],
   "source": [
    "fig, ax = plt.subplots()\n",
    "fig.set_size_inches(14,5)\n",
    "ax = sns.boxplot(data=data, orient='h')\n",
    "plt.title('Boxplot de apoyo')\n",
    "plt.xticks(rotation=90)\n",
    "plt.show()"
   ]
  },
  {
   "cell_type": "code",
   "execution_count": 39,
   "id": "af00f41d",
   "metadata": {},
   "outputs": [],
   "source": [
    "pp_df_top = data[numerical_columns].describe(percentiles=[0.90, 0.925, 0.95, 0.975])"
   ]
  },
  {
   "cell_type": "code",
   "execution_count": 40,
   "id": "61be20d8",
   "metadata": {},
   "outputs": [
    {
     "data": {
      "text/html": [
       "<div>\n",
       "<style scoped>\n",
       "    .dataframe tbody tr th:only-of-type {\n",
       "        vertical-align: middle;\n",
       "    }\n",
       "\n",
       "    .dataframe tbody tr th {\n",
       "        vertical-align: top;\n",
       "    }\n",
       "\n",
       "    .dataframe thead th {\n",
       "        text-align: right;\n",
       "    }\n",
       "</style>\n",
       "<table border=\"1\" class=\"dataframe\">\n",
       "  <thead>\n",
       "    <tr style=\"text-align: right;\">\n",
       "      <th></th>\n",
       "      <th>Impactado</th>\n",
       "      <th>Saldo</th>\n",
       "      <th>Saldo Promedio</th>\n",
       "      <th>Deuda Sistea,</th>\n",
       "      <th>Pasivo</th>\n",
       "      <th>Sector de Impacto</th>\n",
       "      <th>Venta</th>\n",
       "      <th>Venta Formal</th>\n",
       "      <th>Pasivo_desembolso</th>\n",
       "      <th>Deuda rezagada va</th>\n",
       "      <th>Deuda rezagada vr</th>\n",
       "      <th>pasivo rezagada va</th>\n",
       "      <th>pasivo rezagada vr</th>\n",
       "      <th>Pasivo_desembolso da</th>\n",
       "      <th>Pasivo_desembolso dr</th>\n",
       "    </tr>\n",
       "  </thead>\n",
       "  <tbody>\n",
       "    <tr>\n",
       "      <th>count</th>\n",
       "      <td>1998.000000</td>\n",
       "      <td>1.998000e+03</td>\n",
       "      <td>1.998000e+03</td>\n",
       "      <td>1.998000e+03</td>\n",
       "      <td>1.998000e+03</td>\n",
       "      <td>1998.000000</td>\n",
       "      <td>1.998000e+03</td>\n",
       "      <td>1.998000e+03</td>\n",
       "      <td>1.998000e+03</td>\n",
       "      <td>1998.000000</td>\n",
       "      <td>1998.000000</td>\n",
       "      <td>1998.000000</td>\n",
       "      <td>1998.000000</td>\n",
       "      <td>1998.000000</td>\n",
       "      <td>1998.000000</td>\n",
       "    </tr>\n",
       "    <tr>\n",
       "      <th>mean</th>\n",
       "      <td>0.500000</td>\n",
       "      <td>4.804935e+05</td>\n",
       "      <td>1.617572e+05</td>\n",
       "      <td>2.483966e+05</td>\n",
       "      <td>2.417518e+04</td>\n",
       "      <td>3.049550</td>\n",
       "      <td>1.002791e+05</td>\n",
       "      <td>3.854919e+04</td>\n",
       "      <td>2.387133e+04</td>\n",
       "      <td>-951.555845</td>\n",
       "      <td>0.027933</td>\n",
       "      <td>-11914.081994</td>\n",
       "      <td>852.139611</td>\n",
       "      <td>-8022.550882</td>\n",
       "      <td>852.446610</td>\n",
       "    </tr>\n",
       "    <tr>\n",
       "      <th>std</th>\n",
       "      <td>0.500125</td>\n",
       "      <td>6.504861e+05</td>\n",
       "      <td>2.185488e+05</td>\n",
       "      <td>2.893199e+05</td>\n",
       "      <td>1.073012e+05</td>\n",
       "      <td>0.935072</td>\n",
       "      <td>1.183857e+05</td>\n",
       "      <td>9.858228e+04</td>\n",
       "      <td>1.069553e+05</td>\n",
       "      <td>37336.241419</td>\n",
       "      <td>0.545281</td>\n",
       "      <td>49452.882274</td>\n",
       "      <td>21057.347436</td>\n",
       "      <td>41940.290104</td>\n",
       "      <td>21057.338533</td>\n",
       "    </tr>\n",
       "    <tr>\n",
       "      <th>min</th>\n",
       "      <td>0.000000</td>\n",
       "      <td>1.099291e+04</td>\n",
       "      <td>3.886581e+03</td>\n",
       "      <td>3.050061e+03</td>\n",
       "      <td>0.000000e+00</td>\n",
       "      <td>1.000000</td>\n",
       "      <td>2.100000e+03</td>\n",
       "      <td>0.000000e+00</td>\n",
       "      <td>0.000000e+00</td>\n",
       "      <td>-62467.720750</td>\n",
       "      <td>-1.000000</td>\n",
       "      <td>-167200.155500</td>\n",
       "      <td>-1.000000</td>\n",
       "      <td>-96817.654000</td>\n",
       "      <td>-8.786353</td>\n",
       "    </tr>\n",
       "    <tr>\n",
       "      <th>50%</th>\n",
       "      <td>0.500000</td>\n",
       "      <td>2.442257e+05</td>\n",
       "      <td>8.222412e+04</td>\n",
       "      <td>1.540272e+05</td>\n",
       "      <td>2.558310e+03</td>\n",
       "      <td>3.000000</td>\n",
       "      <td>6.950000e+04</td>\n",
       "      <td>8.333000e+03</td>\n",
       "      <td>2.528565e+03</td>\n",
       "      <td>-2179.090000</td>\n",
       "      <td>-0.014269</td>\n",
       "      <td>-3174.290000</td>\n",
       "      <td>-0.550924</td>\n",
       "      <td>-2548.500000</td>\n",
       "      <td>-0.543144</td>\n",
       "    </tr>\n",
       "    <tr>\n",
       "      <th>90%</th>\n",
       "      <td>1.000000</td>\n",
       "      <td>1.248246e+06</td>\n",
       "      <td>4.178836e+05</td>\n",
       "      <td>5.992101e+05</td>\n",
       "      <td>3.996061e+04</td>\n",
       "      <td>4.000000</td>\n",
       "      <td>1.974299e+05</td>\n",
       "      <td>1.001341e+05</td>\n",
       "      <td>3.880008e+04</td>\n",
       "      <td>9085.167000</td>\n",
       "      <td>0.075927</td>\n",
       "      <td>2027.907000</td>\n",
       "      <td>0.656644</td>\n",
       "      <td>2497.446000</td>\n",
       "      <td>0.671356</td>\n",
       "    </tr>\n",
       "    <tr>\n",
       "      <th>92.5%</th>\n",
       "      <td>1.000000</td>\n",
       "      <td>1.567236e+06</td>\n",
       "      <td>5.279077e+05</td>\n",
       "      <td>7.111462e+05</td>\n",
       "      <td>6.034329e+04</td>\n",
       "      <td>4.000000</td>\n",
       "      <td>2.283600e+05</td>\n",
       "      <td>1.276840e+05</td>\n",
       "      <td>5.973770e+04</td>\n",
       "      <td>15442.224250</td>\n",
       "      <td>0.133146</td>\n",
       "      <td>4425.744750</td>\n",
       "      <td>1.430311</td>\n",
       "      <td>5063.794750</td>\n",
       "      <td>1.430311</td>\n",
       "    </tr>\n",
       "    <tr>\n",
       "      <th>95%</th>\n",
       "      <td>1.000000</td>\n",
       "      <td>1.954504e+06</td>\n",
       "      <td>6.553111e+05</td>\n",
       "      <td>8.592521e+05</td>\n",
       "      <td>9.877850e+04</td>\n",
       "      <td>4.000000</td>\n",
       "      <td>2.851900e+05</td>\n",
       "      <td>1.745169e+05</td>\n",
       "      <td>9.735610e+04</td>\n",
       "      <td>28509.771000</td>\n",
       "      <td>0.218099</td>\n",
       "      <td>11151.622000</td>\n",
       "      <td>3.868939</td>\n",
       "      <td>12374.447500</td>\n",
       "      <td>3.868939</td>\n",
       "    </tr>\n",
       "    <tr>\n",
       "      <th>97.5%</th>\n",
       "      <td>1.000000</td>\n",
       "      <td>2.606308e+06</td>\n",
       "      <td>8.687693e+05</td>\n",
       "      <td>1.081799e+06</td>\n",
       "      <td>2.140997e+05</td>\n",
       "      <td>4.000000</td>\n",
       "      <td>4.034495e+05</td>\n",
       "      <td>2.655683e+05</td>\n",
       "      <td>2.140997e+05</td>\n",
       "      <td>59509.856750</td>\n",
       "      <td>0.504215</td>\n",
       "      <td>37193.201500</td>\n",
       "      <td>77.020827</td>\n",
       "      <td>35769.403000</td>\n",
       "      <td>90.355652</td>\n",
       "    </tr>\n",
       "    <tr>\n",
       "      <th>max</th>\n",
       "      <td>1.000000</td>\n",
       "      <td>4.803209e+06</td>\n",
       "      <td>1.601070e+06</td>\n",
       "      <td>2.514941e+06</td>\n",
       "      <td>1.938916e+06</td>\n",
       "      <td>4.000000</td>\n",
       "      <td>1.598900e+06</td>\n",
       "      <td>2.051160e+06</td>\n",
       "      <td>1.938916e+06</td>\n",
       "      <td>866562.470000</td>\n",
       "      <td>13.462875</td>\n",
       "      <td>941816.350000</td>\n",
       "      <td>851658.720900</td>\n",
       "      <td>941816.350000</td>\n",
       "      <td>851658.720900</td>\n",
       "    </tr>\n",
       "  </tbody>\n",
       "</table>\n",
       "</div>"
      ],
      "text/plain": [
       "         Impactado         Saldo  Saldo Promedio  Deuda Sistea,        Pasivo  \\\n",
       "count  1998.000000  1.998000e+03    1.998000e+03   1.998000e+03  1.998000e+03   \n",
       "mean      0.500000  4.804935e+05    1.617572e+05   2.483966e+05  2.417518e+04   \n",
       "std       0.500125  6.504861e+05    2.185488e+05   2.893199e+05  1.073012e+05   \n",
       "min       0.000000  1.099291e+04    3.886581e+03   3.050061e+03  0.000000e+00   \n",
       "50%       0.500000  2.442257e+05    8.222412e+04   1.540272e+05  2.558310e+03   \n",
       "90%       1.000000  1.248246e+06    4.178836e+05   5.992101e+05  3.996061e+04   \n",
       "92.5%     1.000000  1.567236e+06    5.279077e+05   7.111462e+05  6.034329e+04   \n",
       "95%       1.000000  1.954504e+06    6.553111e+05   8.592521e+05  9.877850e+04   \n",
       "97.5%     1.000000  2.606308e+06    8.687693e+05   1.081799e+06  2.140997e+05   \n",
       "max       1.000000  4.803209e+06    1.601070e+06   2.514941e+06  1.938916e+06   \n",
       "\n",
       "       Sector de Impacto        Venta   Venta Formal  Pasivo_desembolso  \\\n",
       "count        1998.000000  1.998000e+03  1.998000e+03       1.998000e+03   \n",
       "mean            3.049550  1.002791e+05  3.854919e+04       2.387133e+04   \n",
       "std             0.935072  1.183857e+05  9.858228e+04       1.069553e+05   \n",
       "min             1.000000  2.100000e+03  0.000000e+00       0.000000e+00   \n",
       "50%             3.000000  6.950000e+04  8.333000e+03       2.528565e+03   \n",
       "90%             4.000000  1.974299e+05  1.001341e+05       3.880008e+04   \n",
       "92.5%           4.000000  2.283600e+05  1.276840e+05       5.973770e+04   \n",
       "95%             4.000000  2.851900e+05  1.745169e+05       9.735610e+04   \n",
       "97.5%           4.000000  4.034495e+05  2.655683e+05       2.140997e+05   \n",
       "max             4.000000  1.598900e+06  2.051160e+06       1.938916e+06   \n",
       "\n",
       "       Deuda rezagada va  Deuda rezagada vr  pasivo rezagada va  \\\n",
       "count        1998.000000        1998.000000         1998.000000   \n",
       "mean         -951.555845           0.027933       -11914.081994   \n",
       "std         37336.241419           0.545281        49452.882274   \n",
       "min        -62467.720750          -1.000000      -167200.155500   \n",
       "50%         -2179.090000          -0.014269        -3174.290000   \n",
       "90%          9085.167000           0.075927         2027.907000   \n",
       "92.5%       15442.224250           0.133146         4425.744750   \n",
       "95%         28509.771000           0.218099        11151.622000   \n",
       "97.5%       59509.856750           0.504215        37193.201500   \n",
       "max        866562.470000          13.462875       941816.350000   \n",
       "\n",
       "       pasivo rezagada vr  Pasivo_desembolso da  Pasivo_desembolso dr  \n",
       "count         1998.000000           1998.000000           1998.000000  \n",
       "mean           852.139611          -8022.550882            852.446610  \n",
       "std          21057.347436          41940.290104          21057.338533  \n",
       "min             -1.000000         -96817.654000             -8.786353  \n",
       "50%             -0.550924          -2548.500000             -0.543144  \n",
       "90%              0.656644           2497.446000              0.671356  \n",
       "92.5%            1.430311           5063.794750              1.430311  \n",
       "95%              3.868939          12374.447500              3.868939  \n",
       "97.5%           77.020827          35769.403000             90.355652  \n",
       "max         851658.720900         941816.350000         851658.720900  "
      ]
     },
     "execution_count": 40,
     "metadata": {},
     "output_type": "execute_result"
    }
   ],
   "source": [
    "pp_df_top"
   ]
  },
  {
   "cell_type": "code",
   "execution_count": 41,
   "id": "66b45d95",
   "metadata": {},
   "outputs": [],
   "source": [
    "# Capeo de variables\n",
    "for var in numerical_columns:\n",
    "    value = pp_df_top.loc['95%', str(var)] # capeo todas las variables al 95%\n",
    "    data[str(var)] = np.where(data[str(var)] > value, value, data[str(var)])"
   ]
  },
  {
   "cell_type": "code",
   "execution_count": 42,
   "id": "b377aaa9",
   "metadata": {
    "scrolled": true
   },
   "outputs": [
    {
     "data": {
      "image/png": "[encoded data removed]",
      "text/plain": [
       "<Figure size 1008x360 with 1 Axes>"
      ]
     },
     "metadata": {
      "needs_background": "light"
     },
     "output_type": "display_data"
    }
   ],
   "source": [
    "fig, ax = plt.subplots()\n",
    "fig.set_size_inches(14,5)\n",
    "ax = sns.boxplot(data=data, orient='h')\n",
    "plt.title('Boxplot de verificación de reducción de valores atípicos')\n",
    "plt.xticks(rotation=90)\n",
    "plt.show()"
   ]
  },
  {
   "cell_type": "markdown",
   "id": "b1060f96",
   "metadata": {},
   "source": [
    "### 3.3.2 Detección Multivariante"
   ]
  },
  {
   "cell_type": "code",
   "execution_count": 43,
   "id": "f8c596c1",
   "metadata": {},
   "outputs": [],
   "source": [
    "x_all = data.copy()"
   ]
  },
  {
   "cell_type": "code",
   "execution_count": 44,
   "id": "93f954be",
   "metadata": {},
   "outputs": [
    {
     "data": {
      "text/plain": [
       "(1998, 17)"
      ]
     },
     "execution_count": 44,
     "metadata": {},
     "output_type": "execute_result"
    }
   ],
   "source": [
    "x_all.shape"
   ]
  },
  {
   "cell_type": "code",
   "execution_count": 45,
   "id": "286aa14d",
   "metadata": {},
   "outputs": [],
   "source": [
    "x = x_all[numerical_columns]\n",
    "x_cat = x_all[categorical_columns]"
   ]
  },
  {
   "cell_type": "code",
   "execution_count": 46,
   "id": "94a130c0",
   "metadata": {},
   "outputs": [
    {
     "data": {
      "text/html": [
       "<div>\n",
       "<style scoped>\n",
       "    .dataframe tbody tr th:only-of-type {\n",
       "        vertical-align: middle;\n",
       "    }\n",
       "\n",
       "    .dataframe tbody tr th {\n",
       "        vertical-align: top;\n",
       "    }\n",
       "\n",
       "    .dataframe thead th {\n",
       "        text-align: right;\n",
       "    }\n",
       "</style>\n",
       "<table border=\"1\" class=\"dataframe\">\n",
       "  <thead>\n",
       "    <tr style=\"text-align: right;\">\n",
       "      <th></th>\n",
       "      <th>Impactado</th>\n",
       "      <th>Saldo</th>\n",
       "      <th>Saldo Promedio</th>\n",
       "      <th>Deuda Sistea,</th>\n",
       "      <th>Pasivo</th>\n",
       "      <th>Sector de Impacto</th>\n",
       "      <th>Venta</th>\n",
       "      <th>Venta Formal</th>\n",
       "      <th>Pasivo_desembolso</th>\n",
       "      <th>Deuda rezagada va</th>\n",
       "      <th>Deuda rezagada vr</th>\n",
       "      <th>pasivo rezagada va</th>\n",
       "      <th>pasivo rezagada vr</th>\n",
       "      <th>Pasivo_desembolso da</th>\n",
       "      <th>Pasivo_desembolso dr</th>\n",
       "    </tr>\n",
       "  </thead>\n",
       "  <tbody>\n",
       "    <tr>\n",
       "      <th>1099</th>\n",
       "      <td>1.0</td>\n",
       "      <td>244225.71270</td>\n",
       "      <td>82224.11698</td>\n",
       "      <td>154027.21</td>\n",
       "      <td>2558.31</td>\n",
       "      <td>3.0</td>\n",
       "      <td>69500.0</td>\n",
       "      <td>8333.00</td>\n",
       "      <td>2528.565</td>\n",
       "      <td>-2179.09</td>\n",
       "      <td>-0.014269</td>\n",
       "      <td>-3174.29</td>\n",
       "      <td>-0.550924</td>\n",
       "      <td>-2548.50</td>\n",
       "      <td>-0.543144</td>\n",
       "    </tr>\n",
       "    <tr>\n",
       "      <th>82</th>\n",
       "      <td>0.0</td>\n",
       "      <td>15750.21954</td>\n",
       "      <td>5250.07318</td>\n",
       "      <td>569570.51</td>\n",
       "      <td>2558.31</td>\n",
       "      <td>4.0</td>\n",
       "      <td>47320.0</td>\n",
       "      <td>7612.92</td>\n",
       "      <td>2528.565</td>\n",
       "      <td>-3672.66</td>\n",
       "      <td>-0.006407</td>\n",
       "      <td>-3174.29</td>\n",
       "      <td>-0.550924</td>\n",
       "      <td>-2548.50</td>\n",
       "      <td>-0.543144</td>\n",
       "    </tr>\n",
       "    <tr>\n",
       "      <th>1976</th>\n",
       "      <td>1.0</td>\n",
       "      <td>300574.50830</td>\n",
       "      <td>100191.50280</td>\n",
       "      <td>109244.06</td>\n",
       "      <td>2558.31</td>\n",
       "      <td>3.0</td>\n",
       "      <td>23984.0</td>\n",
       "      <td>2143.33</td>\n",
       "      <td>2528.565</td>\n",
       "      <td>14057.32</td>\n",
       "      <td>0.147681</td>\n",
       "      <td>-3174.29</td>\n",
       "      <td>-0.550924</td>\n",
       "      <td>-2548.50</td>\n",
       "      <td>-0.543144</td>\n",
       "    </tr>\n",
       "    <tr>\n",
       "      <th>1114</th>\n",
       "      <td>1.0</td>\n",
       "      <td>622556.81900</td>\n",
       "      <td>207518.93970</td>\n",
       "      <td>204585.95</td>\n",
       "      <td>5.00</td>\n",
       "      <td>3.0</td>\n",
       "      <td>138880.0</td>\n",
       "      <td>16460.92</td>\n",
       "      <td>5.000</td>\n",
       "      <td>-3587.80</td>\n",
       "      <td>-0.017235</td>\n",
       "      <td>-12980.64</td>\n",
       "      <td>-0.999615</td>\n",
       "      <td>-12980.64</td>\n",
       "      <td>-0.999615</td>\n",
       "    </tr>\n",
       "    <tr>\n",
       "      <th>623</th>\n",
       "      <td>0.0</td>\n",
       "      <td>182349.88490</td>\n",
       "      <td>60783.29495</td>\n",
       "      <td>226728.76</td>\n",
       "      <td>2558.31</td>\n",
       "      <td>3.0</td>\n",
       "      <td>119200.0</td>\n",
       "      <td>106520.00</td>\n",
       "      <td>2528.565</td>\n",
       "      <td>-17348.41</td>\n",
       "      <td>-0.071078</td>\n",
       "      <td>-3174.29</td>\n",
       "      <td>-0.550924</td>\n",
       "      <td>-2548.50</td>\n",
       "      <td>-0.543144</td>\n",
       "    </tr>\n",
       "  </tbody>\n",
       "</table>\n",
       "</div>"
      ],
      "text/plain": [
       "      Impactado         Saldo  Saldo Promedio  Deuda Sistea,   Pasivo  \\\n",
       "1099        1.0  244225.71270     82224.11698      154027.21  2558.31   \n",
       "82          0.0   15750.21954      5250.07318      569570.51  2558.31   \n",
       "1976        1.0  300574.50830    100191.50280      109244.06  2558.31   \n",
       "1114        1.0  622556.81900    207518.93970      204585.95     5.00   \n",
       "623         0.0  182349.88490     60783.29495      226728.76  2558.31   \n",
       "\n",
       "      Sector de Impacto    Venta   Venta Formal  Pasivo_desembolso  \\\n",
       "1099                3.0   69500.0       8333.00           2528.565   \n",
       "82                  4.0   47320.0       7612.92           2528.565   \n",
       "1976                3.0   23984.0       2143.33           2528.565   \n",
       "1114                3.0  138880.0      16460.92              5.000   \n",
       "623                 3.0  119200.0     106520.00           2528.565   \n",
       "\n",
       "      Deuda rezagada va  Deuda rezagada vr  pasivo rezagada va  \\\n",
       "1099           -2179.09          -0.014269            -3174.29   \n",
       "82             -3672.66          -0.006407            -3174.29   \n",
       "1976           14057.32           0.147681            -3174.29   \n",
       "1114           -3587.80          -0.017235           -12980.64   \n",
       "623           -17348.41          -0.071078            -3174.29   \n",
       "\n",
       "      pasivo rezagada vr  Pasivo_desembolso da  Pasivo_desembolso dr  \n",
       "1099           -0.550924              -2548.50             -0.543144  \n",
       "82             -0.550924              -2548.50             -0.543144  \n",
       "1976           -0.550924              -2548.50             -0.543144  \n",
       "1114           -0.999615             -12980.64             -0.999615  \n",
       "623            -0.550924              -2548.50             -0.543144  "
      ]
     },
     "execution_count": 46,
     "metadata": {},
     "output_type": "execute_result"
    }
   ],
   "source": [
    "x.sample(5)"
   ]
  },
  {
   "cell_type": "code",
   "execution_count": 47,
   "id": "2d0d3c0c",
   "metadata": {},
   "outputs": [],
   "source": [
    "Sx = x.cov().values"
   ]
  },
  {
   "cell_type": "code",
   "execution_count": 48,
   "id": "5c82c5b9",
   "metadata": {},
   "outputs": [],
   "source": [
    "ISx = sp.linalg.inv(Sx)"
   ]
  },
  {
   "cell_type": "code",
   "execution_count": 49,
   "id": "8b25ce0f",
   "metadata": {},
   "outputs": [],
   "source": [
    "centroid = x.mean().values"
   ]
  },
  {
   "cell_type": "code",
   "execution_count": 50,
   "id": "828eb429",
   "metadata": {},
   "outputs": [],
   "source": [
    "def fn_mahalanobis(x, centroid, ISx):\n",
    "    m = []\n",
    "    # Calculo la DM para cada fila\n",
    "    for i in range(x.shape[0]):\n",
    "        m.append(mahalanobis(x.iloc[i, :], centroid, ISx))\n",
    "                 \n",
    "    return (m)"
   ]
  },
  {
   "cell_type": "code",
   "execution_count": 51,
   "id": "617e7a0a",
   "metadata": {},
   "outputs": [],
   "source": [
    "md = pd.DataFrame(fn_mahalanobis(x,centroid,ISx), columns=[\"md\"])\n",
    "x[\"MD\"] = md"
   ]
  },
  {
   "cell_type": "code",
   "execution_count": 52,
   "id": "103edb43",
   "metadata": {},
   "outputs": [
    {
     "data": {
      "text/html": [
       "<div>\n",
       "<style scoped>\n",
       "    .dataframe tbody tr th:only-of-type {\n",
       "        vertical-align: middle;\n",
       "    }\n",
       "\n",
       "    .dataframe tbody tr th {\n",
       "        vertical-align: top;\n",
       "    }\n",
       "\n",
       "    .dataframe thead th {\n",
       "        text-align: right;\n",
       "    }\n",
       "</style>\n",
       "<table border=\"1\" class=\"dataframe\">\n",
       "  <thead>\n",
       "    <tr style=\"text-align: right;\">\n",
       "      <th></th>\n",
       "      <th>Impactado</th>\n",
       "      <th>Saldo</th>\n",
       "      <th>Saldo Promedio</th>\n",
       "      <th>Deuda Sistea,</th>\n",
       "      <th>Pasivo</th>\n",
       "      <th>Sector de Impacto</th>\n",
       "      <th>Venta</th>\n",
       "      <th>Venta Formal</th>\n",
       "      <th>Pasivo_desembolso</th>\n",
       "      <th>Deuda rezagada va</th>\n",
       "      <th>Deuda rezagada vr</th>\n",
       "      <th>pasivo rezagada va</th>\n",
       "      <th>pasivo rezagada vr</th>\n",
       "      <th>Pasivo_desembolso da</th>\n",
       "      <th>Pasivo_desembolso dr</th>\n",
       "      <th>MD</th>\n",
       "      <th>Sector</th>\n",
       "      <th>Dep</th>\n",
       "    </tr>\n",
       "  </thead>\n",
       "  <tbody>\n",
       "    <tr>\n",
       "      <th>0</th>\n",
       "      <td>0.0</td>\n",
       "      <td>56643.100920</td>\n",
       "      <td>28321.550460</td>\n",
       "      <td>31365.7300</td>\n",
       "      <td>5876.82</td>\n",
       "      <td>3.0</td>\n",
       "      <td>108400.0</td>\n",
       "      <td>43741.08</td>\n",
       "      <td>5876.820</td>\n",
       "      <td>-800.65</td>\n",
       "      <td>-0.024891</td>\n",
       "      <td>830.82</td>\n",
       "      <td>0.164649</td>\n",
       "      <td>830.82</td>\n",
       "      <td>0.164649</td>\n",
       "      <td>2.095638</td>\n",
       "      <td>INDUSTRIA</td>\n",
       "      <td>Lima</td>\n",
       "    </tr>\n",
       "    <tr>\n",
       "      <th>1</th>\n",
       "      <td>0.0</td>\n",
       "      <td>190313.994600</td>\n",
       "      <td>63437.998180</td>\n",
       "      <td>64864.9900</td>\n",
       "      <td>4467.40</td>\n",
       "      <td>4.0</td>\n",
       "      <td>105300.0</td>\n",
       "      <td>69737.17</td>\n",
       "      <td>4467.400</td>\n",
       "      <td>-2810.52</td>\n",
       "      <td>-0.041529</td>\n",
       "      <td>-7043.43</td>\n",
       "      <td>-0.611896</td>\n",
       "      <td>-7043.43</td>\n",
       "      <td>-0.611896</td>\n",
       "      <td>2.149204</td>\n",
       "      <td>COMERCIO</td>\n",
       "      <td>Arequipa</td>\n",
       "    </tr>\n",
       "    <tr>\n",
       "      <th>2</th>\n",
       "      <td>0.0</td>\n",
       "      <td>547601.573600</td>\n",
       "      <td>182533.857900</td>\n",
       "      <td>200239.3200</td>\n",
       "      <td>5000.92</td>\n",
       "      <td>1.0</td>\n",
       "      <td>86600.0</td>\n",
       "      <td>79178.83</td>\n",
       "      <td>5000.920</td>\n",
       "      <td>653.68</td>\n",
       "      <td>0.003275</td>\n",
       "      <td>2000.92</td>\n",
       "      <td>0.666973</td>\n",
       "      <td>2000.92</td>\n",
       "      <td>0.666973</td>\n",
       "      <td>3.266699</td>\n",
       "      <td>SERVICIO</td>\n",
       "      <td>Amazonas</td>\n",
       "    </tr>\n",
       "    <tr>\n",
       "      <th>3</th>\n",
       "      <td>0.0</td>\n",
       "      <td>283914.208400</td>\n",
       "      <td>94638.069470</td>\n",
       "      <td>112945.1700</td>\n",
       "      <td>325.50</td>\n",
       "      <td>3.0</td>\n",
       "      <td>103000.0</td>\n",
       "      <td>0.00</td>\n",
       "      <td>325.500</td>\n",
       "      <td>14820.77</td>\n",
       "      <td>0.151041</td>\n",
       "      <td>-17128.30</td>\n",
       "      <td>-0.981351</td>\n",
       "      <td>-17128.30</td>\n",
       "      <td>-0.981351</td>\n",
       "      <td>2.529123</td>\n",
       "      <td>INDUSTRIA</td>\n",
       "      <td>Lima</td>\n",
       "    </tr>\n",
       "    <tr>\n",
       "      <th>4</th>\n",
       "      <td>0.0</td>\n",
       "      <td>142296.438400</td>\n",
       "      <td>47432.146120</td>\n",
       "      <td>144877.2100</td>\n",
       "      <td>0.00</td>\n",
       "      <td>4.0</td>\n",
       "      <td>172920.0</td>\n",
       "      <td>171999.33</td>\n",
       "      <td>0.000</td>\n",
       "      <td>17468.60</td>\n",
       "      <td>0.137107</td>\n",
       "      <td>-2071.80</td>\n",
       "      <td>-1.000000</td>\n",
       "      <td>-2071.80</td>\n",
       "      <td>-1.000000</td>\n",
       "      <td>4.744936</td>\n",
       "      <td>COMERCIO</td>\n",
       "      <td>Cusco</td>\n",
       "    </tr>\n",
       "    <tr>\n",
       "      <th>...</th>\n",
       "      <td>...</td>\n",
       "      <td>...</td>\n",
       "      <td>...</td>\n",
       "      <td>...</td>\n",
       "      <td>...</td>\n",
       "      <td>...</td>\n",
       "      <td>...</td>\n",
       "      <td>...</td>\n",
       "      <td>...</td>\n",
       "      <td>...</td>\n",
       "      <td>...</td>\n",
       "      <td>...</td>\n",
       "      <td>...</td>\n",
       "      <td>...</td>\n",
       "      <td>...</td>\n",
       "      <td>...</td>\n",
       "      <td>...</td>\n",
       "      <td>...</td>\n",
       "    </tr>\n",
       "    <tr>\n",
       "      <th>1993</th>\n",
       "      <td>1.0</td>\n",
       "      <td>10992.910395</td>\n",
       "      <td>3886.581480</td>\n",
       "      <td>3050.0606</td>\n",
       "      <td>2558.31</td>\n",
       "      <td>4.0</td>\n",
       "      <td>30000.0</td>\n",
       "      <td>4905.00</td>\n",
       "      <td>2528.565</td>\n",
       "      <td>-710.56</td>\n",
       "      <td>-0.304304</td>\n",
       "      <td>-3174.29</td>\n",
       "      <td>-0.550924</td>\n",
       "      <td>-2548.50</td>\n",
       "      <td>-0.543144</td>\n",
       "      <td>4.147654</td>\n",
       "      <td>COMERCIO</td>\n",
       "      <td>Lambayeque</td>\n",
       "    </tr>\n",
       "    <tr>\n",
       "      <th>1994</th>\n",
       "      <td>1.0</td>\n",
       "      <td>94650.626310</td>\n",
       "      <td>31550.208770</td>\n",
       "      <td>75502.8400</td>\n",
       "      <td>3029.48</td>\n",
       "      <td>4.0</td>\n",
       "      <td>32100.0</td>\n",
       "      <td>7034.00</td>\n",
       "      <td>3029.480</td>\n",
       "      <td>-5421.28</td>\n",
       "      <td>-0.066992</td>\n",
       "      <td>-10965.03</td>\n",
       "      <td>-0.783524</td>\n",
       "      <td>-10965.03</td>\n",
       "      <td>-0.783524</td>\n",
       "      <td>1.742230</td>\n",
       "      <td>COMERCIO</td>\n",
       "      <td>Arequipa</td>\n",
       "    </tr>\n",
       "    <tr>\n",
       "      <th>1995</th>\n",
       "      <td>1.0</td>\n",
       "      <td>747579.335100</td>\n",
       "      <td>249193.111700</td>\n",
       "      <td>843972.4900</td>\n",
       "      <td>593.99</td>\n",
       "      <td>3.0</td>\n",
       "      <td>180905.0</td>\n",
       "      <td>93482.00</td>\n",
       "      <td>593.990</td>\n",
       "      <td>6776.19</td>\n",
       "      <td>0.008094</td>\n",
       "      <td>-11589.60</td>\n",
       "      <td>-0.951247</td>\n",
       "      <td>-11589.60</td>\n",
       "      <td>-0.951247</td>\n",
       "      <td>4.832679</td>\n",
       "      <td>COMERCIO</td>\n",
       "      <td>Lima</td>\n",
       "    </tr>\n",
       "    <tr>\n",
       "      <th>1996</th>\n",
       "      <td>1.0</td>\n",
       "      <td>18077.981870</td>\n",
       "      <td>6025.993957</td>\n",
       "      <td>122633.1000</td>\n",
       "      <td>5312.64</td>\n",
       "      <td>3.0</td>\n",
       "      <td>69500.0</td>\n",
       "      <td>8333.00</td>\n",
       "      <td>5312.640</td>\n",
       "      <td>-3838.01</td>\n",
       "      <td>-0.030347</td>\n",
       "      <td>-18929.55</td>\n",
       "      <td>-0.780851</td>\n",
       "      <td>-18929.55</td>\n",
       "      <td>-0.780851</td>\n",
       "      <td>1.648988</td>\n",
       "      <td>COMERCIO</td>\n",
       "      <td>Lima</td>\n",
       "    </tr>\n",
       "    <tr>\n",
       "      <th>1997</th>\n",
       "      <td>1.0</td>\n",
       "      <td>286471.034700</td>\n",
       "      <td>97561.751050</td>\n",
       "      <td>269538.6100</td>\n",
       "      <td>2558.31</td>\n",
       "      <td>4.0</td>\n",
       "      <td>50514.0</td>\n",
       "      <td>4171.00</td>\n",
       "      <td>2528.565</td>\n",
       "      <td>-26220.40</td>\n",
       "      <td>-0.088655</td>\n",
       "      <td>-3174.29</td>\n",
       "      <td>-0.550924</td>\n",
       "      <td>-2548.50</td>\n",
       "      <td>-0.543144</td>\n",
       "      <td>2.415488</td>\n",
       "      <td>SERVICIO</td>\n",
       "      <td>Arequipa</td>\n",
       "    </tr>\n",
       "  </tbody>\n",
       "</table>\n",
       "<p>1998 rows × 18 columns</p>\n",
       "</div>"
      ],
      "text/plain": [
       "      Impactado          Saldo  Saldo Promedio  Deuda Sistea,   Pasivo  \\\n",
       "0           0.0   56643.100920    28321.550460     31365.7300  5876.82   \n",
       "1           0.0  190313.994600    63437.998180     64864.9900  4467.40   \n",
       "2           0.0  547601.573600   182533.857900    200239.3200  5000.92   \n",
       "3           0.0  283914.208400    94638.069470    112945.1700   325.50   \n",
       "4           0.0  142296.438400    47432.146120    144877.2100     0.00   \n",
       "...         ...            ...             ...            ...      ...   \n",
       "1993        1.0   10992.910395     3886.581480      3050.0606  2558.31   \n",
       "1994        1.0   94650.626310    31550.208770     75502.8400  3029.48   \n",
       "1995        1.0  747579.335100   249193.111700    843972.4900   593.99   \n",
       "1996        1.0   18077.981870     6025.993957    122633.1000  5312.64   \n",
       "1997        1.0  286471.034700    97561.751050    269538.6100  2558.31   \n",
       "\n",
       "      Sector de Impacto    Venta   Venta Formal  Pasivo_desembolso  \\\n",
       "0                   3.0  108400.0      43741.08           5876.820   \n",
       "1                   4.0  105300.0      69737.17           4467.400   \n",
       "2                   1.0   86600.0      79178.83           5000.920   \n",
       "3                   3.0  103000.0          0.00            325.500   \n",
       "4                   4.0  172920.0     171999.33              0.000   \n",
       "...                 ...       ...           ...                ...   \n",
       "1993                4.0   30000.0       4905.00           2528.565   \n",
       "1994                4.0   32100.0       7034.00           3029.480   \n",
       "1995                3.0  180905.0      93482.00            593.990   \n",
       "1996                3.0   69500.0       8333.00           5312.640   \n",
       "1997                4.0   50514.0       4171.00           2528.565   \n",
       "\n",
       "      Deuda rezagada va  Deuda rezagada vr  pasivo rezagada va  \\\n",
       "0               -800.65          -0.024891              830.82   \n",
       "1              -2810.52          -0.041529            -7043.43   \n",
       "2                653.68           0.003275             2000.92   \n",
       "3              14820.77           0.151041           -17128.30   \n",
       "4              17468.60           0.137107            -2071.80   \n",
       "...                 ...                ...                 ...   \n",
       "1993            -710.56          -0.304304            -3174.29   \n",
       "1994           -5421.28          -0.066992           -10965.03   \n",
       "1995            6776.19           0.008094           -11589.60   \n",
       "1996           -3838.01          -0.030347           -18929.55   \n",
       "1997          -26220.40          -0.088655            -3174.29   \n",
       "\n",
       "      pasivo rezagada vr  Pasivo_desembolso da  Pasivo_desembolso dr  \\\n",
       "0               0.164649                830.82              0.164649   \n",
       "1              -0.611896              -7043.43             -0.611896   \n",
       "2               0.666973               2000.92              0.666973   \n",
       "3              -0.981351             -17128.30             -0.981351   \n",
       "4              -1.000000              -2071.80             -1.000000   \n",
       "...                  ...                   ...                   ...   \n",
       "1993           -0.550924              -2548.50             -0.543144   \n",
       "1994           -0.783524             -10965.03             -0.783524   \n",
       "1995           -0.951247             -11589.60             -0.951247   \n",
       "1996           -0.780851             -18929.55             -0.780851   \n",
       "1997           -0.550924              -2548.50             -0.543144   \n",
       "\n",
       "            MD     Sector         Dep  \n",
       "0     2.095638  INDUSTRIA        Lima  \n",
       "1     2.149204   COMERCIO    Arequipa  \n",
       "2     3.266699   SERVICIO    Amazonas  \n",
       "3     2.529123  INDUSTRIA        Lima  \n",
       "4     4.744936   COMERCIO       Cusco  \n",
       "...        ...        ...         ...  \n",
       "1993  4.147654   COMERCIO  Lambayeque  \n",
       "1994  1.742230   COMERCIO    Arequipa  \n",
       "1995  4.832679   COMERCIO        Lima  \n",
       "1996  1.648988   COMERCIO        Lima  \n",
       "1997  2.415488   SERVICIO    Arequipa  \n",
       "\n",
       "[1998 rows x 18 columns]"
      ]
     },
     "execution_count": 52,
     "metadata": {},
     "output_type": "execute_result"
    }
   ],
   "source": [
    "new_x = pd.concat([x,x_cat], axis=1)\n",
    "new_x"
   ]
  },
  {
   "cell_type": "code",
   "execution_count": 53,
   "id": "fa243253",
   "metadata": {},
   "outputs": [
    {
     "data": {
      "image/png": "[encoded data removed]",
      "text/plain": [
       "<Figure size 1008x360 with 1 Axes>"
      ]
     },
     "metadata": {
      "needs_background": "light"
     },
     "output_type": "display_data"
    }
   ],
   "source": [
    "fig, ax = plt.subplots()\n",
    "fig.set_size_inches(14,5)\n",
    "ax.scatter(new_x.index, new_x.MD, alpha=0.5, s=25, c='green')\n",
    "plt.title('Visualización de las DM')\n",
    "plt.show()"
   ]
  },
  {
   "cell_type": "code",
   "execution_count": 54,
   "id": "06b72604",
   "metadata": {},
   "outputs": [],
   "source": [
    "# Umbral de corte\n",
    "cutoff = chi2.ppf(0.95, x.shape[1])"
   ]
  },
  {
   "cell_type": "code",
   "execution_count": 55,
   "id": "a895b91e",
   "metadata": {},
   "outputs": [
    {
     "data": {
      "text/plain": [
       "26.29622760486423"
      ]
     },
     "execution_count": 55,
     "metadata": {},
     "output_type": "execute_result"
    }
   ],
   "source": [
    "cutoff"
   ]
  },
  {
   "cell_type": "code",
   "execution_count": 56,
   "id": "b8c5d75a",
   "metadata": {},
   "outputs": [
    {
     "data": {
      "text/plain": [
       "(4, 18)"
      ]
     },
     "execution_count": 56,
     "metadata": {},
     "output_type": "execute_result"
    }
   ],
   "source": [
    "new_x.loc[new_x['MD'] > cutoff].shape"
   ]
  },
  {
   "cell_type": "markdown",
   "id": "871152f2",
   "metadata": {},
   "source": [
    "- Hay únicamente 4 obervaciones consideradas como outliers multivariados."
   ]
  },
  {
   "cell_type": "code",
   "execution_count": 57,
   "id": "46a90682",
   "metadata": {},
   "outputs": [],
   "source": [
    "treated_data = new_x.loc[new_x['MD'] < cutoff, :].drop('MD',axis=1)"
   ]
  },
  {
   "cell_type": "code",
   "execution_count": 58,
   "id": "89947f43",
   "metadata": {},
   "outputs": [],
   "source": [
    "#treated_data.to_excel(\"output/treated-data.xlsx\")"
   ]
  },
  {
   "cell_type": "code",
   "execution_count": 59,
   "id": "79d47254",
   "metadata": {},
   "outputs": [],
   "source": [
    "treated_data = treated_data.reset_index(drop=True)"
   ]
  },
  {
   "cell_type": "markdown",
   "id": "294ffaac",
   "metadata": {},
   "source": [
    "# 4. Feature Engineering"
   ]
  },
  {
   "cell_type": "code",
   "execution_count": 60,
   "id": "823c4710",
   "metadata": {},
   "outputs": [],
   "source": [
    "df = treated_data.copy()"
   ]
  },
  {
   "cell_type": "markdown",
   "id": "fc4b2f73",
   "metadata": {},
   "source": [
    "## 4.1 Ingeniería de variables categóricas"
   ]
  },
  {
   "cell_type": "markdown",
   "id": "10cd5658",
   "metadata": {},
   "source": [
    "- Observaré si las proporciones de las variables categóricas son realmente diferenciables:"
   ]
  },
  {
   "cell_type": "code",
   "execution_count": 61,
   "id": "5b1636c9",
   "metadata": {},
   "outputs": [
    {
     "data": {
      "text/plain": [
       "COMERCIO     1139\n",
       "SERVICIO      601\n",
       "INDUSTRIA     254\n",
       "Name: Sector, dtype: int64"
      ]
     },
     "execution_count": 61,
     "metadata": {},
     "output_type": "execute_result"
    }
   ],
   "source": [
    "df.Sector.value_counts()"
   ]
  },
  {
   "cell_type": "code",
   "execution_count": 62,
   "id": "62c23e38",
   "metadata": {},
   "outputs": [
    {
     "data": {
      "text/plain": [
       "Lima             722\n",
       "Arequipa         189\n",
       "Junín            118\n",
       "La Libertad      104\n",
       "Lambayeque        98\n",
       "San Martín        88\n",
       "Piura             87\n",
       "Áncash            74\n",
       "Cajamarca         55\n",
       "Ica               52\n",
       "Huánuco           52\n",
       "Cusco             48\n",
       "Tacna             36\n",
       "Callao            35\n",
       "Ucayali           34\n",
       "Pasco             28\n",
       "Ayacucho          27\n",
       "Tumbes            27\n",
       "Puno              26\n",
       "Amazonas          23\n",
       "Loreto            22\n",
       "Moquegua          18\n",
       "Apurímac          15\n",
       "Madre de Dios     14\n",
       "Huancavelica       2\n",
       "Name: Dep, dtype: int64"
      ]
     },
     "execution_count": 62,
     "metadata": {},
     "output_type": "execute_result"
    }
   ],
   "source": [
    "df.Dep.value_counts()"
   ]
  },
  {
   "cell_type": "markdown",
   "id": "a414933b",
   "metadata": {},
   "source": [
    "- Las proporciones están muy centralizadas. Se dejará sin tratamiento y si las métricas lo solicitan, se transformará la variable a categórica de 3 alternativas."
   ]
  },
  {
   "cell_type": "code",
   "execution_count": 63,
   "id": "2029392f",
   "metadata": {},
   "outputs": [],
   "source": [
    "#df['Dep'] = df.apply(lambda x: str('Lima'if x.Dep=='Lima' else 'Provincia' ),axis=1)"
   ]
  },
  {
   "cell_type": "code",
   "execution_count": 64,
   "id": "5f12c1ef",
   "metadata": {},
   "outputs": [
    {
     "data": {
      "text/plain": [
       "(1994, 17)"
      ]
     },
     "execution_count": 64,
     "metadata": {},
     "output_type": "execute_result"
    }
   ],
   "source": [
    "df.shape"
   ]
  },
  {
   "cell_type": "code",
   "execution_count": 65,
   "id": "9472f040",
   "metadata": {},
   "outputs": [],
   "source": [
    "df_numeric = df.select_dtypes(['int','float'])\n",
    "df_categorical = df.select_dtypes('object')"
   ]
  },
  {
   "cell_type": "code",
   "execution_count": 66,
   "id": "8f7316c0",
   "metadata": {},
   "outputs": [
    {
     "data": {
      "text/plain": [
       "((1994, 15), (1994, 2))"
      ]
     },
     "execution_count": 66,
     "metadata": {},
     "output_type": "execute_result"
    }
   ],
   "source": [
    "df_numeric.shape, df_categorical.shape"
   ]
  },
  {
   "cell_type": "code",
   "execution_count": 67,
   "id": "ec2339de",
   "metadata": {},
   "outputs": [],
   "source": [
    "from sklearn.preprocessing import LabelEncoder\n",
    "\n",
    "df_cat_to_num = pd.DataFrame()\n",
    "\n",
    "le = LabelEncoder()\n",
    "df_cat_to_num['Sector_num'] = le.fit_transform(df_categorical['Sector'])\n",
    "\n",
    "le = LabelEncoder()\n",
    "df_cat_to_num['Dep_num'] = le.fit_transform(df_categorical['Dep'])"
   ]
  },
  {
   "cell_type": "code",
   "execution_count": 68,
   "id": "d3caa6ca",
   "metadata": {},
   "outputs": [
    {
     "data": {
      "text/plain": [
       "((1994, 2), (1994, 2))"
      ]
     },
     "execution_count": 68,
     "metadata": {},
     "output_type": "execute_result"
    }
   ],
   "source": [
    "df_cat_to_num.shape, df_categorical.shape"
   ]
  },
  {
   "cell_type": "code",
   "execution_count": 69,
   "id": "996c9085",
   "metadata": {},
   "outputs": [
    {
     "data": {
      "text/html": [
       "<div>\n",
       "<style scoped>\n",
       "    .dataframe tbody tr th:only-of-type {\n",
       "        vertical-align: middle;\n",
       "    }\n",
       "\n",
       "    .dataframe tbody tr th {\n",
       "        vertical-align: top;\n",
       "    }\n",
       "\n",
       "    .dataframe thead th {\n",
       "        text-align: right;\n",
       "    }\n",
       "</style>\n",
       "<table border=\"1\" class=\"dataframe\">\n",
       "  <thead>\n",
       "    <tr style=\"text-align: right;\">\n",
       "      <th></th>\n",
       "      <th>Sector_num</th>\n",
       "      <th>Dep_num</th>\n",
       "    </tr>\n",
       "  </thead>\n",
       "  <tbody>\n",
       "    <tr>\n",
       "      <th>1365</th>\n",
       "      <td>0</td>\n",
       "      <td>18</td>\n",
       "    </tr>\n",
       "    <tr>\n",
       "      <th>1114</th>\n",
       "      <td>0</td>\n",
       "      <td>20</td>\n",
       "    </tr>\n",
       "    <tr>\n",
       "      <th>1572</th>\n",
       "      <td>1</td>\n",
       "      <td>13</td>\n",
       "    </tr>\n",
       "  </tbody>\n",
       "</table>\n",
       "</div>"
      ],
      "text/plain": [
       "      Sector_num  Dep_num\n",
       "1365           0       18\n",
       "1114           0       20\n",
       "1572           1       13"
      ]
     },
     "execution_count": 69,
     "metadata": {},
     "output_type": "execute_result"
    }
   ],
   "source": [
    "df_cat_to_num.sample(3)"
   ]
  },
  {
   "cell_type": "markdown",
   "id": "3f5f8f36",
   "metadata": {},
   "source": [
    "## 4.2 Ingeniería de variables numéricas"
   ]
  },
  {
   "cell_type": "code",
   "execution_count": 70,
   "id": "a917b1d3",
   "metadata": {},
   "outputs": [],
   "source": [
    "from sklearn.preprocessing import MinMaxScaler\n",
    "\n",
    "scaler = MinMaxScaler()\n",
    "df_numeric_no_target = df_numeric.drop('Impactado',axis=1)\n",
    "array_numeric = scaler.fit_transform(df_numeric_no_target)\n",
    "df_numeric_scaled = pd.DataFrame(array_numeric, columns=df_numeric_no_target.columns)"
   ]
  },
  {
   "cell_type": "markdown",
   "id": "0c379dd9",
   "metadata": {},
   "source": [
    "## 4.3 Creación de variables"
   ]
  },
  {
   "cell_type": "markdown",
   "id": "b4cb6fe9",
   "metadata": {},
   "source": [
    "- Agregaré una constante para diferenciar las variables que están aportando más al modelo."
   ]
  },
  {
   "cell_type": "code",
   "execution_count": 71,
   "id": "ca9d45d5",
   "metadata": {},
   "outputs": [],
   "source": [
    "df_numeric_scaled['Constante'] = 1"
   ]
  },
  {
   "cell_type": "code",
   "execution_count": 72,
   "id": "7427fc89",
   "metadata": {},
   "outputs": [
    {
     "data": {
      "text/plain": [
       "((1994, 15), (1994, 2), (1994, 1))"
      ]
     },
     "execution_count": 72,
     "metadata": {},
     "output_type": "execute_result"
    }
   ],
   "source": [
    "df_numeric_scaled.shape, df_cat_to_num.shape, df_numeric[['Impactado']].shape"
   ]
  },
  {
   "cell_type": "code",
   "execution_count": 73,
   "id": "6178ea56",
   "metadata": {},
   "outputs": [],
   "source": [
    "dataset = pd.concat([df_numeric_scaled, df_cat_to_num, df_numeric[['Impactado']]], axis=1)"
   ]
  },
  {
   "cell_type": "code",
   "execution_count": 74,
   "id": "6b1c58c0",
   "metadata": {},
   "outputs": [
    {
     "data": {
      "text/plain": [
       "(1994, 18)"
      ]
     },
     "execution_count": 74,
     "metadata": {},
     "output_type": "execute_result"
    }
   ],
   "source": [
    "dataset.shape"
   ]
  },
  {
   "cell_type": "markdown",
   "id": "f65a9bfe",
   "metadata": {},
   "source": [
    "- Calcularé los coeficientes de variación para la creación de variables robustas."
   ]
  },
  {
   "cell_type": "code",
   "execution_count": 75,
   "id": "142c831a",
   "metadata": {},
   "outputs": [],
   "source": [
    "all_cv = []\n",
    "\n",
    "for col in list (dataset.columns):\n",
    "    media = dataset[col].mean()\n",
    "    d_estandar = dataset[col].std()\n",
    "    Coef_variacion = d_estandar/media*100\n",
    "    value = round(Coef_variacion, 2)\n",
    "    all_cv.append(value)"
   ]
  },
  {
   "cell_type": "code",
   "execution_count": 76,
   "id": "de98f24a",
   "metadata": {},
   "outputs": [],
   "source": [
    "cv_table = pd.concat([\n",
    "    pd.DataFrame( {'Variable':list(dataset.columns)} ),\n",
    "    pd.DataFrame( {'CV':all_cv} )],\n",
    "    axis=1)"
   ]
  },
  {
   "cell_type": "code",
   "execution_count": 77,
   "id": "c32b6594",
   "metadata": {},
   "outputs": [
    {
     "data": {
      "text/html": [
       "<div>\n",
       "<style scoped>\n",
       "    .dataframe tbody tr th:only-of-type {\n",
       "        vertical-align: middle;\n",
       "    }\n",
       "\n",
       "    .dataframe tbody tr th {\n",
       "        vertical-align: top;\n",
       "    }\n",
       "\n",
       "    .dataframe thead th {\n",
       "        text-align: right;\n",
       "    }\n",
       "</style>\n",
       "<table border=\"1\" class=\"dataframe\">\n",
       "  <thead>\n",
       "    <tr style=\"text-align: right;\">\n",
       "      <th></th>\n",
       "      <th>Variable</th>\n",
       "      <th>CV</th>\n",
       "    </tr>\n",
       "  </thead>\n",
       "  <tbody>\n",
       "    <tr>\n",
       "      <th>0</th>\n",
       "      <td>Pasivo</td>\n",
       "      <td>209.76</td>\n",
       "    </tr>\n",
       "    <tr>\n",
       "      <th>1</th>\n",
       "      <td>Pasivo_desembolso</td>\n",
       "      <td>209.12</td>\n",
       "    </tr>\n",
       "    <tr>\n",
       "      <th>2</th>\n",
       "      <td>Venta Formal</td>\n",
       "      <td>158.66</td>\n",
       "    </tr>\n",
       "    <tr>\n",
       "      <th>3</th>\n",
       "      <td>pasivo rezagada vr</td>\n",
       "      <td>143.93</td>\n",
       "    </tr>\n",
       "    <tr>\n",
       "      <th>4</th>\n",
       "      <td>Sector_num</td>\n",
       "      <td>122.51</td>\n",
       "    </tr>\n",
       "    <tr>\n",
       "      <th>5</th>\n",
       "      <td>Saldo</td>\n",
       "      <td>119.55</td>\n",
       "    </tr>\n",
       "    <tr>\n",
       "      <th>6</th>\n",
       "      <td>Saldo Promedio</td>\n",
       "      <td>119.38</td>\n",
       "    </tr>\n",
       "    <tr>\n",
       "      <th>7</th>\n",
       "      <td>Impactado</td>\n",
       "      <td>100.03</td>\n",
       "    </tr>\n",
       "    <tr>\n",
       "      <th>8</th>\n",
       "      <td>Deuda Sistea,</td>\n",
       "      <td>99.79</td>\n",
       "    </tr>\n",
       "    <tr>\n",
       "      <th>9</th>\n",
       "      <td>Venta</td>\n",
       "      <td>80.58</td>\n",
       "    </tr>\n",
       "    <tr>\n",
       "      <th>10</th>\n",
       "      <td>Dep_num</td>\n",
       "      <td>48.43</td>\n",
       "    </tr>\n",
       "    <tr>\n",
       "      <th>11</th>\n",
       "      <td>Sector de Impacto</td>\n",
       "      <td>45.67</td>\n",
       "    </tr>\n",
       "    <tr>\n",
       "      <th>12</th>\n",
       "      <td>Pasivo_desembolso da</td>\n",
       "      <td>29.44</td>\n",
       "    </tr>\n",
       "    <tr>\n",
       "      <th>13</th>\n",
       "      <td>Deuda rezagada va</td>\n",
       "      <td>27.57</td>\n",
       "    </tr>\n",
       "    <tr>\n",
       "      <th>14</th>\n",
       "      <td>Pasivo_desembolso dr</td>\n",
       "      <td>26.82</td>\n",
       "    </tr>\n",
       "    <tr>\n",
       "      <th>15</th>\n",
       "      <td>pasivo rezagada va</td>\n",
       "      <td>23.74</td>\n",
       "    </tr>\n",
       "    <tr>\n",
       "      <th>16</th>\n",
       "      <td>Deuda rezagada vr</td>\n",
       "      <td>11.69</td>\n",
       "    </tr>\n",
       "    <tr>\n",
       "      <th>17</th>\n",
       "      <td>Constante</td>\n",
       "      <td>0.00</td>\n",
       "    </tr>\n",
       "  </tbody>\n",
       "</table>\n",
       "</div>"
      ],
      "text/plain": [
       "                Variable      CV\n",
       "0                 Pasivo  209.76\n",
       "1      Pasivo_desembolso  209.12\n",
       "2           Venta Formal  158.66\n",
       "3     pasivo rezagada vr  143.93\n",
       "4             Sector_num  122.51\n",
       "5                  Saldo  119.55\n",
       "6         Saldo Promedio  119.38\n",
       "7              Impactado  100.03\n",
       "8          Deuda Sistea,   99.79\n",
       "9                 Venta    80.58\n",
       "10               Dep_num   48.43\n",
       "11     Sector de Impacto   45.67\n",
       "12  Pasivo_desembolso da   29.44\n",
       "13     Deuda rezagada va   27.57\n",
       "14  Pasivo_desembolso dr   26.82\n",
       "15    pasivo rezagada va   23.74\n",
       "16     Deuda rezagada vr   11.69\n",
       "17             Constante    0.00"
      ]
     },
     "execution_count": 77,
     "metadata": {},
     "output_type": "execute_result"
    }
   ],
   "source": [
    "cv_table.sort_values('CV', ascending=False).reset_index(drop=True)"
   ]
  },
  {
   "cell_type": "markdown",
   "id": "52f7dbf2",
   "metadata": {},
   "source": [
    "- Creación de variables:"
   ]
  },
  {
   "cell_type": "code",
   "execution_count": 78,
   "id": "1d165348",
   "metadata": {},
   "outputs": [
    {
     "data": {
      "text/plain": [
       "Index(['Saldo', 'Saldo Promedio', 'Deuda Sistea,', 'Pasivo',\n",
       "       'Sector de Impacto', 'Venta ', 'Venta Formal', 'Pasivo_desembolso',\n",
       "       'Deuda rezagada va', 'Deuda rezagada vr', 'pasivo rezagada va',\n",
       "       'pasivo rezagada vr', 'Pasivo_desembolso da', 'Pasivo_desembolso dr',\n",
       "       'Constante', 'Sector_num', 'Dep_num', 'Impactado'],\n",
       "      dtype='object')"
      ]
     },
     "execution_count": 78,
     "metadata": {},
     "output_type": "execute_result"
    }
   ],
   "source": [
    "dataset.columns"
   ]
  },
  {
   "cell_type": "code",
   "execution_count": 79,
   "id": "4d6c756f",
   "metadata": {},
   "outputs": [],
   "source": [
    "dataset['pasivo_div_Pdesembolso'] = dataset['Pasivo_desembolso'] / (dataset['Pasivo'] + 1)\n",
    "dataset['saldo_div_venta'] = dataset['Saldo'] / (dataset['Venta '] + 1)"
   ]
  },
  {
   "cell_type": "code",
   "execution_count": 81,
   "id": "338d6d6c",
   "metadata": {},
   "outputs": [
    {
     "data": {
      "text/plain": [
       "Saldo                     0\n",
       "Saldo Promedio            0\n",
       "Deuda Sistea,             0\n",
       "Pasivo                    0\n",
       "Sector de Impacto         0\n",
       "Venta                     0\n",
       "Venta Formal              0\n",
       "Pasivo_desembolso         0\n",
       "Deuda rezagada va         0\n",
       "Deuda rezagada vr         0\n",
       "pasivo rezagada va        0\n",
       "pasivo rezagada vr        0\n",
       "Pasivo_desembolso da      0\n",
       "Pasivo_desembolso dr      0\n",
       "Constante                 0\n",
       "Sector_num                0\n",
       "Dep_num                   0\n",
       "Impactado                 0\n",
       "pasivo_div_Pdesembolso    0\n",
       "saldo_div_venta           0\n",
       "dtype: int64"
      ]
     },
     "execution_count": 81,
     "metadata": {},
     "output_type": "execute_result"
    }
   ],
   "source": [
    "dataset.isnull().sum()"
   ]
  },
  {
   "cell_type": "markdown",
   "id": "159e0d5f",
   "metadata": {},
   "source": [
    "# 5. Feature Selection"
   ]
  },
  {
   "cell_type": "code",
   "execution_count": 82,
   "id": "a5674217",
   "metadata": {},
   "outputs": [],
   "source": [
    "predictors = dataset.drop('Impactado',axis=1)\n",
    "target = dataset.Impactado"
   ]
  },
  {
   "cell_type": "code",
   "execution_count": 83,
   "id": "fc266695",
   "metadata": {},
   "outputs": [
    {
     "data": {
      "text/plain": [
       "((1994, 19), (1994,))"
      ]
     },
     "execution_count": 83,
     "metadata": {},
     "output_type": "execute_result"
    }
   ],
   "source": [
    "predictors.shape, target.shape"
   ]
  },
  {
   "cell_type": "code",
   "execution_count": 84,
   "id": "ed4e4f66",
   "metadata": {},
   "outputs": [
    {
     "data": {
      "text/plain": [
       "RandomForestClassifier(random_state=10)"
      ]
     },
     "execution_count": 84,
     "metadata": {},
     "output_type": "execute_result"
    }
   ],
   "source": [
    "from sklearn.ensemble import RandomForestClassifier\n",
    "\n",
    "rfc = RandomForestClassifier(random_state=10)\n",
    "rfc.fit(predictors, target)"
   ]
  },
  {
   "cell_type": "code",
   "execution_count": 85,
   "id": "4c7e3197",
   "metadata": {},
   "outputs": [],
   "source": [
    "importances_table = pd.concat([\n",
    "    pd.DataFrame( {'Variable':list(predictors.columns)} ),\n",
    "    pd.DataFrame( {'Importancia':list(rfc.feature_importances_)} )],\n",
    "    axis=1)"
   ]
  },
  {
   "cell_type": "code",
   "execution_count": 86,
   "id": "991c0dcd",
   "metadata": {},
   "outputs": [],
   "source": [
    "importances_table_sorted = importances_table.sort_values('Importancia',ascending=False).reset_index(drop=True)"
   ]
  },
  {
   "cell_type": "code",
   "execution_count": 87,
   "id": "da250fd5",
   "metadata": {},
   "outputs": [
    {
     "data": {
      "text/html": [
       "<div>\n",
       "<style scoped>\n",
       "    .dataframe tbody tr th:only-of-type {\n",
       "        vertical-align: middle;\n",
       "    }\n",
       "\n",
       "    .dataframe tbody tr th {\n",
       "        vertical-align: top;\n",
       "    }\n",
       "\n",
       "    .dataframe thead th {\n",
       "        text-align: right;\n",
       "    }\n",
       "</style>\n",
       "<table border=\"1\" class=\"dataframe\">\n",
       "  <thead>\n",
       "    <tr style=\"text-align: right;\">\n",
       "      <th></th>\n",
       "      <th>Variable</th>\n",
       "      <th>Importancia</th>\n",
       "    </tr>\n",
       "  </thead>\n",
       "  <tbody>\n",
       "    <tr>\n",
       "      <th>0</th>\n",
       "      <td>Dep_num</td>\n",
       "      <td>0.086550</td>\n",
       "    </tr>\n",
       "    <tr>\n",
       "      <th>1</th>\n",
       "      <td>Deuda Sistea,</td>\n",
       "      <td>0.085996</td>\n",
       "    </tr>\n",
       "    <tr>\n",
       "      <th>2</th>\n",
       "      <td>saldo_div_venta</td>\n",
       "      <td>0.076092</td>\n",
       "    </tr>\n",
       "    <tr>\n",
       "      <th>3</th>\n",
       "      <td>Venta</td>\n",
       "      <td>0.075664</td>\n",
       "    </tr>\n",
       "    <tr>\n",
       "      <th>4</th>\n",
       "      <td>Deuda rezagada vr</td>\n",
       "      <td>0.067231</td>\n",
       "    </tr>\n",
       "    <tr>\n",
       "      <th>5</th>\n",
       "      <td>Deuda rezagada va</td>\n",
       "      <td>0.066921</td>\n",
       "    </tr>\n",
       "    <tr>\n",
       "      <th>6</th>\n",
       "      <td>Saldo Promedio</td>\n",
       "      <td>0.065893</td>\n",
       "    </tr>\n",
       "    <tr>\n",
       "      <th>7</th>\n",
       "      <td>Saldo</td>\n",
       "      <td>0.062596</td>\n",
       "    </tr>\n",
       "    <tr>\n",
       "      <th>8</th>\n",
       "      <td>Venta Formal</td>\n",
       "      <td>0.056446</td>\n",
       "    </tr>\n",
       "    <tr>\n",
       "      <th>9</th>\n",
       "      <td>Pasivo_desembolso</td>\n",
       "      <td>0.049344</td>\n",
       "    </tr>\n",
       "    <tr>\n",
       "      <th>10</th>\n",
       "      <td>Pasivo</td>\n",
       "      <td>0.048986</td>\n",
       "    </tr>\n",
       "    <tr>\n",
       "      <th>11</th>\n",
       "      <td>pasivo_div_Pdesembolso</td>\n",
       "      <td>0.046769</td>\n",
       "    </tr>\n",
       "    <tr>\n",
       "      <th>12</th>\n",
       "      <td>Pasivo_desembolso da</td>\n",
       "      <td>0.042750</td>\n",
       "    </tr>\n",
       "    <tr>\n",
       "      <th>13</th>\n",
       "      <td>pasivo rezagada va</td>\n",
       "      <td>0.039796</td>\n",
       "    </tr>\n",
       "    <tr>\n",
       "      <th>14</th>\n",
       "      <td>Pasivo_desembolso dr</td>\n",
       "      <td>0.038312</td>\n",
       "    </tr>\n",
       "    <tr>\n",
       "      <th>15</th>\n",
       "      <td>pasivo rezagada vr</td>\n",
       "      <td>0.035833</td>\n",
       "    </tr>\n",
       "    <tr>\n",
       "      <th>16</th>\n",
       "      <td>Sector de Impacto</td>\n",
       "      <td>0.030375</td>\n",
       "    </tr>\n",
       "    <tr>\n",
       "      <th>17</th>\n",
       "      <td>Sector_num</td>\n",
       "      <td>0.024446</td>\n",
       "    </tr>\n",
       "    <tr>\n",
       "      <th>18</th>\n",
       "      <td>Constante</td>\n",
       "      <td>0.000000</td>\n",
       "    </tr>\n",
       "  </tbody>\n",
       "</table>\n",
       "</div>"
      ],
      "text/plain": [
       "                  Variable  Importancia\n",
       "0                  Dep_num     0.086550\n",
       "1            Deuda Sistea,     0.085996\n",
       "2          saldo_div_venta     0.076092\n",
       "3                   Venta      0.075664\n",
       "4        Deuda rezagada vr     0.067231\n",
       "5        Deuda rezagada va     0.066921\n",
       "6           Saldo Promedio     0.065893\n",
       "7                    Saldo     0.062596\n",
       "8             Venta Formal     0.056446\n",
       "9        Pasivo_desembolso     0.049344\n",
       "10                  Pasivo     0.048986\n",
       "11  pasivo_div_Pdesembolso     0.046769\n",
       "12    Pasivo_desembolso da     0.042750\n",
       "13      pasivo rezagada va     0.039796\n",
       "14    Pasivo_desembolso dr     0.038312\n",
       "15      pasivo rezagada vr     0.035833\n",
       "16       Sector de Impacto     0.030375\n",
       "17              Sector_num     0.024446\n",
       "18               Constante     0.000000"
      ]
     },
     "execution_count": 87,
     "metadata": {},
     "output_type": "execute_result"
    }
   ],
   "source": [
    "importances_table_sorted"
   ]
  },
  {
   "cell_type": "markdown",
   "id": "e8f94c1d",
   "metadata": {},
   "source": [
    "- El algoritmo considera que todas las variables aportan al modelo."
   ]
  },
  {
   "cell_type": "markdown",
   "id": "c177e4fc",
   "metadata": {},
   "source": [
    "# 6. Modelado"
   ]
  },
  {
   "cell_type": "markdown",
   "id": "dbd1a7ef",
   "metadata": {},
   "source": [
    "## 6.1 División del dataset"
   ]
  },
  {
   "cell_type": "code",
   "execution_count": 88,
   "id": "cb9cf594",
   "metadata": {},
   "outputs": [],
   "source": [
    "predictors.columns = ['saldo','saldo_promedio','deuda_sistea',\n",
    "                     'pasivo','sector_de_impacto','venta','venta_formal',\n",
    "                     'pasivo_desembolso','deuda_rezagada_va','deuda_rezagada_vr',\n",
    "                     'pasivo_rezagada_va','pasivo_rezagada_vr',\n",
    "                     'pasivo_desembolso_da','pasivo_desembolso_dr',\n",
    "                     'constante','sector_num','dep_num','pasivo_div_Pdesembolso','saldo_div_venta']"
   ]
  },
  {
   "cell_type": "code",
   "execution_count": 89,
   "id": "6f9cf58e",
   "metadata": {},
   "outputs": [],
   "source": [
    "from sklearn.model_selection import train_test_split\n",
    "\n",
    "X_train, X_test, y_train, y_test = train_test_split(predictors,\n",
    "                                                    target,\n",
    "                                                    test_size=0.33,\n",
    "                                                    random_state=10,\n",
    "                                                    stratify=target)"
   ]
  },
  {
   "cell_type": "code",
   "execution_count": 90,
   "id": "1b7042ec",
   "metadata": {},
   "outputs": [
    {
     "data": {
      "text/plain": [
       "((1335, 19), (659, 19))"
      ]
     },
     "execution_count": 90,
     "metadata": {},
     "output_type": "execute_result"
    }
   ],
   "source": [
    "X_train.shape, X_test.shape"
   ]
  },
  {
   "cell_type": "code",
   "execution_count": 91,
   "id": "2b9e8544",
   "metadata": {},
   "outputs": [
    {
     "data": {
      "text/plain": [
       "((1335,), (659,))"
      ]
     },
     "execution_count": 91,
     "metadata": {},
     "output_type": "execute_result"
    }
   ],
   "source": [
    "y_train.shape, y_test.shape"
   ]
  },
  {
   "cell_type": "markdown",
   "id": "285c4855",
   "metadata": {},
   "source": [
    "## 6.2 Desarrollo del modelo"
   ]
  },
  {
   "cell_type": "code",
   "execution_count": 92,
   "id": "ee728e12",
   "metadata": {},
   "outputs": [
    {
     "data": {
      "text/plain": [
       "0.0    997\n",
       "1.0    997\n",
       "Name: Impactado, dtype: int64"
      ]
     },
     "execution_count": 92,
     "metadata": {},
     "output_type": "execute_result"
    }
   ],
   "source": [
    "dataset.Impactado.value_counts()"
   ]
  },
  {
   "cell_type": "code",
   "execution_count": 154,
   "id": "2711cfda",
   "metadata": {},
   "outputs": [],
   "source": [
    "model = LGBMClassifier(n_estimators=300, n_jobs=-1, max_depth=7,random_state=10)"
   ]
  },
  {
   "cell_type": "code",
   "execution_count": 155,
   "id": "5a5f2565",
   "metadata": {},
   "outputs": [
    {
     "data": {
      "text/plain": [
       "LGBMClassifier(max_depth=7, n_estimators=300, random_state=10)"
      ]
     },
     "execution_count": 155,
     "metadata": {},
     "output_type": "execute_result"
    }
   ],
   "source": [
    "model.fit(X_train, y_train)"
   ]
  },
  {
   "cell_type": "code",
   "execution_count": 156,
   "id": "e3200b7e",
   "metadata": {},
   "outputs": [],
   "source": [
    "y_train_pred = model.predict(X_train)\n",
    "y_test_pred = model.predict(X_test)"
   ]
  },
  {
   "cell_type": "markdown",
   "id": "7a77260c",
   "metadata": {},
   "source": [
    "- Métricas para set de entrenamiento"
   ]
  },
  {
   "cell_type": "code",
   "execution_count": 157,
   "id": "a7cf201a",
   "metadata": {},
   "outputs": [
    {
     "name": "stdout",
     "output_type": "stream",
     "text": [
      "              precision    recall  f1-score   support\n",
      "\n",
      "           0       0.99      0.96      0.98       668\n",
      "           1       0.96      0.99      0.98       667\n",
      "\n",
      "    accuracy                           0.98      1335\n",
      "   macro avg       0.98      0.98      0.98      1335\n",
      "weighted avg       0.98      0.98      0.98      1335\n",
      "\n"
     ]
    }
   ],
   "source": [
    "from sklearn.metrics import classification_report\n",
    "\n",
    "print(classification_report(y_train, y_train_pred, target_names=['0', '1']))"
   ]
  },
  {
   "cell_type": "code",
   "execution_count": 158,
   "id": "c931a519",
   "metadata": {},
   "outputs": [
    {
     "data": {
      "image/png": "[encoded data removed]",
      "text/plain": [
       "<Figure size 432x288 with 2 Axes>"
      ]
     },
     "metadata": {
      "needs_background": "light"
     },
     "output_type": "display_data"
    }
   ],
   "source": [
    "from sklearn.metrics import confusion_matrix\n",
    "from sklearn.metrics import ConfusionMatrixDisplay\n",
    "\n",
    "cm_train = confusion_matrix(y_train, y_train_pred)\n",
    "\n",
    "conf_mat_train = ConfusionMatrixDisplay(confusion_matrix=cm_train,\n",
    "                              display_labels=model.classes_)\n",
    "conf_mat_train.plot()\n",
    "plt.show()"
   ]
  },
  {
   "cell_type": "markdown",
   "id": "494c4995",
   "metadata": {},
   "source": [
    "- Métricas para set de test"
   ]
  },
  {
   "cell_type": "code",
   "execution_count": 159,
   "id": "af8927e4",
   "metadata": {},
   "outputs": [
    {
     "name": "stdout",
     "output_type": "stream",
     "text": [
      "              precision    recall  f1-score   support\n",
      "\n",
      "           0       0.60      0.57      0.59       329\n",
      "           1       0.59      0.62      0.61       330\n",
      "\n",
      "    accuracy                           0.60       659\n",
      "   macro avg       0.60      0.60      0.60       659\n",
      "weighted avg       0.60      0.60      0.60       659\n",
      "\n"
     ]
    }
   ],
   "source": [
    "print(classification_report(y_test, y_test_pred, target_names=['0', '1']))"
   ]
  },
  {
   "cell_type": "code",
   "execution_count": 160,
   "id": "0bfeb5d6",
   "metadata": {},
   "outputs": [
    {
     "data": {
      "image/png": "[encoded data removed]",
      "text/plain": [
       "<Figure size 432x288 with 2 Axes>"
      ]
     },
     "metadata": {
      "needs_background": "light"
     },
     "output_type": "display_data"
    }
   ],
   "source": [
    "cm_test = confusion_matrix(y_test, y_test_pred)\n",
    "\n",
    "conf_mat_test = ConfusionMatrixDisplay(confusion_matrix=cm_test,\n",
    "                              display_labels=model.classes_)\n",
    "conf_mat_test.plot()\n",
    "plt.show()"
   ]
  },
  {
   "cell_type": "code",
   "execution_count": null,
   "id": "7b707b7f",
   "metadata": {},
   "outputs": [],
   "source": []
  },
  {
   "cell_type": "code",
   "execution_count": null,
   "id": "d45ae4c5",
   "metadata": {},
   "outputs": [],
   "source": []
  },
  {
   "cell_type": "code",
   "execution_count": null,
   "id": "635ba586",
   "metadata": {},
   "outputs": [],
   "source": []
  }
 ],
 "metadata": {
  "kernelspec": {
   "display_name": "Python 3 (ipykernel)",
   "language": "python",
   "name": "python3"
  },
  "language_info": {
   "codemirror_mode": {
    "name": "ipython",
    "version": 3
   },
   "file_extension": ".py",
   "mimetype": "text/x-python",
   "name": "python",
   "nbconvert_exporter": "python",
   "pygments_lexer": "ipython3",
   "version": "3.9.5"
  }
 },
 "nbformat": 4,
 "nbformat_minor": 5
}
