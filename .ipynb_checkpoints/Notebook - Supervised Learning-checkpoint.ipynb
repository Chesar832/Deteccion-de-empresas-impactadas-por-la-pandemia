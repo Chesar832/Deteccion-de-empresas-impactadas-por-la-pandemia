{
 "cells": [
  {
   "cell_type": "markdown",
   "id": "9da139d3",
   "metadata": {},
   "source": [
    "<h1><font color=\"#1d3557\" size=6>Trabajo Final - Módulo Supervised Learning</font></h1>"
   ]
  },
  {
   "cell_type": "markdown",
   "id": "87e79fcd",
   "metadata": {},
   "source": [
    "![banner](https://thumbs.dreamstime.com/b/cogs-gears-industrial-global-business-background-background-integration-binary-technology-banner-background-vector-illustration-180798145.jpg)"
   ]
  },
  {
   "cell_type": "markdown",
   "id": "988742d5",
   "metadata": {},
   "source": [
    "***Author:*** *Cesar Chalco Elias*"
   ]
  },
  {
   "cell_type": "markdown",
   "id": "be91af59",
   "metadata": {},
   "source": [
    "***Twitter:*** *[@chesar_che](https://twitter.com/chesar_che)*"
   ]
  },
  {
   "cell_type": "markdown",
   "id": "cbe5f300",
   "metadata": {},
   "source": [
    "**Propósito:** *Desarrollar un modelo de clasificación para conocer si determinada empresa se ha visto impactado por efecto de la pandemia. Para ello, se empleará un dataset con la actividad comercial de la empresa y se tratará de predecir la variable **Impactado**.*"
   ]
  },
  {
   "cell_type": "markdown",
   "id": "a3be780e",
   "metadata": {},
   "source": [
    "# 1. Introducción"
   ]
  },
  {
   "cell_type": "markdown",
   "id": "aad3848c",
   "metadata": {},
   "source": [
    "## 1.1 Carga de librerias"
   ]
  },
  {
   "cell_type": "code",
   "execution_count": 1,
   "id": "c2505346",
   "metadata": {},
   "outputs": [],
   "source": [
    "# Necessary Pips\n",
    "# pip install altair==4.2.0rc1\n",
    "# pip install openpyxl\n",
    "# pip install lightgbm"
   ]
  },
  {
   "cell_type": "code",
   "execution_count": 2,
   "id": "5c83939c",
   "metadata": {},
   "outputs": [],
   "source": [
    "import numpy as np\n",
    "import pandas as pd\n",
    "import random\n",
    "\n",
    "import altair as alt\n",
    "import seaborn as sns\n",
    "import matplotlib as mpl\n",
    "import matplotlib.pyplot as plt\n",
    "\n",
    "import missingno as msno\n",
    "\n",
    "from scipy.spatial.distance import mahalanobis\n",
    "import scipy as sp\n",
    "from scipy.stats import chi2\n",
    "\n",
    "import sklearn as skl\n",
    "from lightgbm import LGBMClassifier\n",
    "\n",
    "import warnings\n",
    "warnings.filterwarnings(\"ignore\")"
   ]
  },
  {
   "cell_type": "code",
   "execution_count": 3,
   "id": "d8322e70",
   "metadata": {},
   "outputs": [
    {
     "name": "stdout",
     "output_type": "stream",
     "text": [
      " ..:: VERSIONS ::..\n",
      " Numpy version: 1.22.1\n",
      " Pandas version: 1.3.4\n",
      " Altair version: 4.2.0rc1\n",
      " Seaborn version: 0.11.2\n",
      " Matplotlib version: 3.5.0\n",
      " Scikit Learn version: 1.0.1\n"
     ]
    }
   ],
   "source": [
    "print(' ..:: VERSIONS ::..')\n",
    "print(f' Numpy version: {np.__version__}')\n",
    "print(f' Pandas version: {pd.__version__}')\n",
    "print(f' Altair version: {alt.__version__}')\n",
    "print(f' Seaborn version: {sns.__version__}')\n",
    "print(f' Matplotlib version: {mpl.__version__}')\n",
    "print(f' Scikit Learn version: {skl.__version__}')"
   ]
  },
  {
   "cell_type": "code",
   "execution_count": 4,
   "id": "140dca02",
   "metadata": {},
   "outputs": [],
   "source": [
    "random.seed(10)"
   ]
  },
  {
   "cell_type": "markdown",
   "id": "b80ebb09",
   "metadata": {},
   "source": [
    "## 1.2 Carga del dataset"
   ]
  },
  {
   "cell_type": "markdown",
   "id": "035db470",
   "metadata": {},
   "source": [
    "- *Data Review:*"
   ]
  },
  {
   "cell_type": "markdown",
   "id": "ad537425",
   "metadata": {},
   "source": [
    "|    **VARIABLE**     |                **DESCRIPCIÓN**                      |\n",
    "| ---:                | :---                                                | \n",
    "|Sector               |\tSector donde trabaja la empresa|\n",
    "|Dep\t              | departamento|\n",
    "|Impactado\t          | target|\n",
    "|Saldo\t              | deuda de la empresa|\n",
    "|Desembolso_mes\t      | nueva deuda del mes de la empresa|\n",
    "|Saldo                | Promedio\tdeuda promedio de la empresa|\n",
    "|Deuda Sistea\t      | deuda que reporta en todo el sistema financiero|\n",
    "|Pasivo               | horros de la empresa|\n",
    "|Turismo\t          | pertenece a turismo?|\n",
    "|Sector de Impacto\t  | actividades económicas más impactadas por las empresas|\n",
    "|Venta                | ventas de la empresa|\n",
    "|Venta Formal\t      | venta formal de la empresa|\n",
    "|Pasivo_desembolso\t  | pasivo - desembolso|\n",
    "|Deuda rezagada va\t  |  variación de deuda absoluta|\n",
    "|Deuda rezagada vr\t  |  variación de deuda relativa|\n",
    "|pasivo rezagada va\t  |  variación de ahorros absoluta|\n",
    "|pasivo rezagada vr\t  | variación de ahorros relativa|\n",
    "|Pasivo_desembolso da |\tahorros menos desembolso diferencia absoluta|\n",
    "|Pasivo_desembolso dr |\tahorros menos desembolso diferencia relativa|"
   ]
  },
  {
   "cell_type": "markdown",
   "id": "4db8e627",
   "metadata": {},
   "source": [
    "- Lectura del dataset:"
   ]
  },
  {
   "cell_type": "code",
   "execution_count": 5,
   "id": "c86140a7",
   "metadata": {},
   "outputs": [],
   "source": [
    "path = 'data/file.csv'"
   ]
  },
  {
   "cell_type": "code",
   "execution_count": 6,
   "id": "75ea8294",
   "metadata": {},
   "outputs": [
    {
     "name": "stdout",
     "output_type": "stream",
     "text": [
      "Wall time: 16 ms\n"
     ]
    }
   ],
   "source": [
    "%%time\n",
    "raw_data = pd.read_csv(path, delimiter=';')"
   ]
  },
  {
   "cell_type": "code",
   "execution_count": 7,
   "id": "2bfd0799",
   "metadata": {},
   "outputs": [
    {
     "data": {
      "text/html": [
       "<div>\n",
       "<style scoped>\n",
       "    .dataframe tbody tr th:only-of-type {\n",
       "        vertical-align: middle;\n",
       "    }\n",
       "\n",
       "    .dataframe tbody tr th {\n",
       "        vertical-align: top;\n",
       "    }\n",
       "\n",
       "    .dataframe thead th {\n",
       "        text-align: right;\n",
       "    }\n",
       "</style>\n",
       "<table border=\"1\" class=\"dataframe\">\n",
       "  <thead>\n",
       "    <tr style=\"text-align: right;\">\n",
       "      <th></th>\n",
       "      <th>Sector</th>\n",
       "      <th>Dep</th>\n",
       "      <th>Impactado</th>\n",
       "      <th>Saldo</th>\n",
       "      <th>Desembolso_mes</th>\n",
       "      <th>Saldo Promedio</th>\n",
       "      <th>Deuda Sistea,</th>\n",
       "      <th>Pasivo</th>\n",
       "      <th>Turismo</th>\n",
       "      <th>Sector de Impacto</th>\n",
       "      <th>Venta</th>\n",
       "      <th>Venta Formal</th>\n",
       "      <th>Pasivo_desembolso</th>\n",
       "      <th>Deuda rezagada va</th>\n",
       "      <th>Deuda rezagada vr</th>\n",
       "      <th>pasivo rezagada va</th>\n",
       "      <th>pasivo rezagada vr</th>\n",
       "      <th>Pasivo_desembolso da</th>\n",
       "      <th>Pasivo_desembolso dr</th>\n",
       "    </tr>\n",
       "  </thead>\n",
       "  <tbody>\n",
       "    <tr>\n",
       "      <th>0</th>\n",
       "      <td>INDUSTRIA</td>\n",
       "      <td>Lima</td>\n",
       "      <td>0</td>\n",
       "      <td>56643.10092</td>\n",
       "      <td>0.0</td>\n",
       "      <td>28321.550460</td>\n",
       "      <td>31365.73</td>\n",
       "      <td>5876.82</td>\n",
       "      <td>0</td>\n",
       "      <td>3</td>\n",
       "      <td>108400.0</td>\n",
       "      <td>43741.08</td>\n",
       "      <td>5876.820</td>\n",
       "      <td>-800.65</td>\n",
       "      <td>-0.024891</td>\n",
       "      <td>830.82</td>\n",
       "      <td>0.164649</td>\n",
       "      <td>830.82</td>\n",
       "      <td>0.164649</td>\n",
       "    </tr>\n",
       "    <tr>\n",
       "      <th>1</th>\n",
       "      <td>COMERCIO</td>\n",
       "      <td>Arequipa</td>\n",
       "      <td>0</td>\n",
       "      <td>190313.99460</td>\n",
       "      <td>0.0</td>\n",
       "      <td>63437.998180</td>\n",
       "      <td>64864.99</td>\n",
       "      <td>4467.40</td>\n",
       "      <td>0</td>\n",
       "      <td>4</td>\n",
       "      <td>105300.0</td>\n",
       "      <td>69737.17</td>\n",
       "      <td>4467.400</td>\n",
       "      <td>-2810.52</td>\n",
       "      <td>-0.041529</td>\n",
       "      <td>-7043.43</td>\n",
       "      <td>-0.611896</td>\n",
       "      <td>-7043.43</td>\n",
       "      <td>-0.611896</td>\n",
       "    </tr>\n",
       "    <tr>\n",
       "      <th>2</th>\n",
       "      <td>SERVICIO</td>\n",
       "      <td>Amazonas</td>\n",
       "      <td>0</td>\n",
       "      <td>547601.57360</td>\n",
       "      <td>0.0</td>\n",
       "      <td>182533.857900</td>\n",
       "      <td>200239.32</td>\n",
       "      <td>5000.92</td>\n",
       "      <td>0</td>\n",
       "      <td>1</td>\n",
       "      <td>86600.0</td>\n",
       "      <td>79178.83</td>\n",
       "      <td>5000.920</td>\n",
       "      <td>653.68</td>\n",
       "      <td>0.003275</td>\n",
       "      <td>2000.92</td>\n",
       "      <td>0.666973</td>\n",
       "      <td>2000.92</td>\n",
       "      <td>0.666973</td>\n",
       "    </tr>\n",
       "    <tr>\n",
       "      <th>3</th>\n",
       "      <td>INDUSTRIA</td>\n",
       "      <td>Lima</td>\n",
       "      <td>0</td>\n",
       "      <td>283914.20840</td>\n",
       "      <td>0.0</td>\n",
       "      <td>94638.069470</td>\n",
       "      <td>112945.17</td>\n",
       "      <td>325.50</td>\n",
       "      <td>0</td>\n",
       "      <td>3</td>\n",
       "      <td>103000.0</td>\n",
       "      <td>0.00</td>\n",
       "      <td>325.500</td>\n",
       "      <td>14820.77</td>\n",
       "      <td>0.151041</td>\n",
       "      <td>-17128.30</td>\n",
       "      <td>-0.981351</td>\n",
       "      <td>-17128.30</td>\n",
       "      <td>-0.981351</td>\n",
       "    </tr>\n",
       "    <tr>\n",
       "      <th>4</th>\n",
       "      <td>COMERCIO</td>\n",
       "      <td>Cusco</td>\n",
       "      <td>0</td>\n",
       "      <td>142296.43840</td>\n",
       "      <td>0.0</td>\n",
       "      <td>47432.146120</td>\n",
       "      <td>144877.21</td>\n",
       "      <td>0.00</td>\n",
       "      <td>0</td>\n",
       "      <td>4</td>\n",
       "      <td>172920.0</td>\n",
       "      <td>171999.33</td>\n",
       "      <td>0.000</td>\n",
       "      <td>17468.60</td>\n",
       "      <td>0.137107</td>\n",
       "      <td>-2071.80</td>\n",
       "      <td>-1.000000</td>\n",
       "      <td>-2071.80</td>\n",
       "      <td>-1.000000</td>\n",
       "    </tr>\n",
       "    <tr>\n",
       "      <th>...</th>\n",
       "      <td>...</td>\n",
       "      <td>...</td>\n",
       "      <td>...</td>\n",
       "      <td>...</td>\n",
       "      <td>...</td>\n",
       "      <td>...</td>\n",
       "      <td>...</td>\n",
       "      <td>...</td>\n",
       "      <td>...</td>\n",
       "      <td>...</td>\n",
       "      <td>...</td>\n",
       "      <td>...</td>\n",
       "      <td>...</td>\n",
       "      <td>...</td>\n",
       "      <td>...</td>\n",
       "      <td>...</td>\n",
       "      <td>...</td>\n",
       "      <td>...</td>\n",
       "      <td>...</td>\n",
       "    </tr>\n",
       "    <tr>\n",
       "      <th>1993</th>\n",
       "      <td>COMERCIO</td>\n",
       "      <td>Lambayeque</td>\n",
       "      <td>1</td>\n",
       "      <td>4325.85076</td>\n",
       "      <td>0.0</td>\n",
       "      <td>1441.950253</td>\n",
       "      <td>1624.47</td>\n",
       "      <td>2558.31</td>\n",
       "      <td>0</td>\n",
       "      <td>4</td>\n",
       "      <td>30000.0</td>\n",
       "      <td>4905.00</td>\n",
       "      <td>2528.565</td>\n",
       "      <td>-710.56</td>\n",
       "      <td>-0.304304</td>\n",
       "      <td>-3174.29</td>\n",
       "      <td>-0.550924</td>\n",
       "      <td>-2548.50</td>\n",
       "      <td>-0.543144</td>\n",
       "    </tr>\n",
       "    <tr>\n",
       "      <th>1994</th>\n",
       "      <td>COMERCIO</td>\n",
       "      <td>Arequipa</td>\n",
       "      <td>1</td>\n",
       "      <td>94650.62631</td>\n",
       "      <td>0.0</td>\n",
       "      <td>31550.208770</td>\n",
       "      <td>75502.84</td>\n",
       "      <td>3029.48</td>\n",
       "      <td>0</td>\n",
       "      <td>4</td>\n",
       "      <td>32100.0</td>\n",
       "      <td>7034.00</td>\n",
       "      <td>3029.480</td>\n",
       "      <td>-5421.28</td>\n",
       "      <td>-0.066992</td>\n",
       "      <td>-10965.03</td>\n",
       "      <td>-0.783524</td>\n",
       "      <td>-10965.03</td>\n",
       "      <td>-0.783524</td>\n",
       "    </tr>\n",
       "    <tr>\n",
       "      <th>1995</th>\n",
       "      <td>COMERCIO</td>\n",
       "      <td>Lima</td>\n",
       "      <td>1</td>\n",
       "      <td>747579.33510</td>\n",
       "      <td>0.0</td>\n",
       "      <td>249193.111700</td>\n",
       "      <td>843972.49</td>\n",
       "      <td>593.99</td>\n",
       "      <td>0</td>\n",
       "      <td>3</td>\n",
       "      <td>180905.0</td>\n",
       "      <td>93482.00</td>\n",
       "      <td>593.990</td>\n",
       "      <td>6776.19</td>\n",
       "      <td>0.008094</td>\n",
       "      <td>-11589.60</td>\n",
       "      <td>-0.951247</td>\n",
       "      <td>-11589.60</td>\n",
       "      <td>-0.951247</td>\n",
       "    </tr>\n",
       "    <tr>\n",
       "      <th>1996</th>\n",
       "      <td>COMERCIO</td>\n",
       "      <td>Lima</td>\n",
       "      <td>1</td>\n",
       "      <td>18077.98187</td>\n",
       "      <td>0.0</td>\n",
       "      <td>6025.993957</td>\n",
       "      <td>122633.10</td>\n",
       "      <td>5312.64</td>\n",
       "      <td>0</td>\n",
       "      <td>3</td>\n",
       "      <td>69500.0</td>\n",
       "      <td>8333.00</td>\n",
       "      <td>5312.640</td>\n",
       "      <td>-3838.01</td>\n",
       "      <td>-0.030347</td>\n",
       "      <td>-18929.55</td>\n",
       "      <td>-0.780851</td>\n",
       "      <td>-18929.55</td>\n",
       "      <td>-0.780851</td>\n",
       "    </tr>\n",
       "    <tr>\n",
       "      <th>1997</th>\n",
       "      <td>SERVICIO</td>\n",
       "      <td>Arequipa</td>\n",
       "      <td>1</td>\n",
       "      <td>286471.03470</td>\n",
       "      <td>0.0</td>\n",
       "      <td>97561.751050</td>\n",
       "      <td>269538.61</td>\n",
       "      <td>2558.31</td>\n",
       "      <td>0</td>\n",
       "      <td>4</td>\n",
       "      <td>50514.0</td>\n",
       "      <td>4171.00</td>\n",
       "      <td>2528.565</td>\n",
       "      <td>-26220.40</td>\n",
       "      <td>-0.088655</td>\n",
       "      <td>-3174.29</td>\n",
       "      <td>-0.550924</td>\n",
       "      <td>-2548.50</td>\n",
       "      <td>-0.543144</td>\n",
       "    </tr>\n",
       "  </tbody>\n",
       "</table>\n",
       "<p>1998 rows × 19 columns</p>\n",
       "</div>"
      ],
      "text/plain": [
       "         Sector         Dep  Impactado         Saldo  Desembolso_mes  \\\n",
       "0     INDUSTRIA        Lima          0   56643.10092             0.0   \n",
       "1      COMERCIO    Arequipa          0  190313.99460             0.0   \n",
       "2      SERVICIO    Amazonas          0  547601.57360             0.0   \n",
       "3     INDUSTRIA        Lima          0  283914.20840             0.0   \n",
       "4      COMERCIO       Cusco          0  142296.43840             0.0   \n",
       "...         ...         ...        ...           ...             ...   \n",
       "1993   COMERCIO  Lambayeque          1    4325.85076             0.0   \n",
       "1994   COMERCIO    Arequipa          1   94650.62631             0.0   \n",
       "1995   COMERCIO        Lima          1  747579.33510             0.0   \n",
       "1996   COMERCIO        Lima          1   18077.98187             0.0   \n",
       "1997   SERVICIO    Arequipa          1  286471.03470             0.0   \n",
       "\n",
       "      Saldo Promedio  Deuda Sistea,   Pasivo  Turismo  Sector de Impacto  \\\n",
       "0       28321.550460       31365.73  5876.82        0                  3   \n",
       "1       63437.998180       64864.99  4467.40        0                  4   \n",
       "2      182533.857900      200239.32  5000.92        0                  1   \n",
       "3       94638.069470      112945.17   325.50        0                  3   \n",
       "4       47432.146120      144877.21     0.00        0                  4   \n",
       "...              ...            ...      ...      ...                ...   \n",
       "1993     1441.950253        1624.47  2558.31        0                  4   \n",
       "1994    31550.208770       75502.84  3029.48        0                  4   \n",
       "1995   249193.111700      843972.49   593.99        0                  3   \n",
       "1996     6025.993957      122633.10  5312.64        0                  3   \n",
       "1997    97561.751050      269538.61  2558.31        0                  4   \n",
       "\n",
       "        Venta   Venta Formal  Pasivo_desembolso  Deuda rezagada va  \\\n",
       "0     108400.0      43741.08           5876.820            -800.65   \n",
       "1     105300.0      69737.17           4467.400           -2810.52   \n",
       "2      86600.0      79178.83           5000.920             653.68   \n",
       "3     103000.0          0.00            325.500           14820.77   \n",
       "4     172920.0     171999.33              0.000           17468.60   \n",
       "...        ...           ...                ...                ...   \n",
       "1993   30000.0       4905.00           2528.565            -710.56   \n",
       "1994   32100.0       7034.00           3029.480           -5421.28   \n",
       "1995  180905.0      93482.00            593.990            6776.19   \n",
       "1996   69500.0       8333.00           5312.640           -3838.01   \n",
       "1997   50514.0       4171.00           2528.565          -26220.40   \n",
       "\n",
       "      Deuda rezagada vr  pasivo rezagada va  pasivo rezagada vr  \\\n",
       "0             -0.024891              830.82            0.164649   \n",
       "1             -0.041529            -7043.43           -0.611896   \n",
       "2              0.003275             2000.92            0.666973   \n",
       "3              0.151041           -17128.30           -0.981351   \n",
       "4              0.137107            -2071.80           -1.000000   \n",
       "...                 ...                 ...                 ...   \n",
       "1993          -0.304304            -3174.29           -0.550924   \n",
       "1994          -0.066992           -10965.03           -0.783524   \n",
       "1995           0.008094           -11589.60           -0.951247   \n",
       "1996          -0.030347           -18929.55           -0.780851   \n",
       "1997          -0.088655            -3174.29           -0.550924   \n",
       "\n",
       "      Pasivo_desembolso da  Pasivo_desembolso dr  \n",
       "0                   830.82              0.164649  \n",
       "1                 -7043.43             -0.611896  \n",
       "2                  2000.92              0.666973  \n",
       "3                -17128.30             -0.981351  \n",
       "4                 -2071.80             -1.000000  \n",
       "...                    ...                   ...  \n",
       "1993              -2548.50             -0.543144  \n",
       "1994             -10965.03             -0.783524  \n",
       "1995             -11589.60             -0.951247  \n",
       "1996             -18929.55             -0.780851  \n",
       "1997              -2548.50             -0.543144  \n",
       "\n",
       "[1998 rows x 19 columns]"
      ]
     },
     "execution_count": 7,
     "metadata": {},
     "output_type": "execute_result"
    }
   ],
   "source": [
    "raw_data"
   ]
  },
  {
   "cell_type": "markdown",
   "id": "52ff3742",
   "metadata": {},
   "source": [
    "# 2. Descripción del dataset"
   ]
  },
  {
   "cell_type": "markdown",
   "id": "91e8fe3c",
   "metadata": {},
   "source": [
    "## 2.1 Forma del dataset"
   ]
  },
  {
   "cell_type": "code",
   "execution_count": 8,
   "id": "b1fbdf1c",
   "metadata": {},
   "outputs": [
    {
     "data": {
      "text/plain": [
       "Index(['Sector', 'Dep', 'Impactado', 'Saldo', 'Desembolso_mes',\n",
       "       'Saldo Promedio', 'Deuda Sistea,', 'Pasivo', 'Turismo',\n",
       "       'Sector de Impacto', 'Venta ', 'Venta Formal', 'Pasivo_desembolso',\n",
       "       'Deuda rezagada va', 'Deuda rezagada vr', 'pasivo rezagada va',\n",
       "       'pasivo rezagada vr', 'Pasivo_desembolso da', 'Pasivo_desembolso dr'],\n",
       "      dtype='object')"
      ]
     },
     "execution_count": 8,
     "metadata": {},
     "output_type": "execute_result"
    }
   ],
   "source": [
    "raw_data.columns"
   ]
  },
  {
   "cell_type": "code",
   "execution_count": 9,
   "id": "f58cb688",
   "metadata": {},
   "outputs": [],
   "source": [
    "raw_data.columns = ['sector','dep','impactado','saldo','desembolso_mes',\n",
    "                   'saldo_promedio','deuda_sistea','pasivo','turismo',\n",
    "                   'sector_de_impacto','venta','venta_formal','pasivo_desembolso',\n",
    "                   'deuda_rezagada_va','deuda_rezagada_vr','pasivo_rezagada_va',\n",
    "                   'pasivo_rezagada_vr','pasivo_desembolso_da','pasivo_desembolso_dr']"
   ]
  },
  {
   "cell_type": "code",
   "execution_count": 10,
   "id": "06cc8890",
   "metadata": {},
   "outputs": [
    {
     "data": {
      "text/plain": [
       "Index(['sector', 'dep', 'impactado', 'saldo', 'desembolso_mes',\n",
       "       'saldo_promedio', 'deuda_sistea', 'pasivo', 'turismo',\n",
       "       'sector_de_impacto', 'venta', 'venta_formal', 'pasivo_desembolso',\n",
       "       'deuda_rezagada_va', 'deuda_rezagada_vr', 'pasivo_rezagada_va',\n",
       "       'pasivo_rezagada_vr', 'pasivo_desembolso_da', 'pasivo_desembolso_dr'],\n",
       "      dtype='object')"
      ]
     },
     "execution_count": 10,
     "metadata": {},
     "output_type": "execute_result"
    }
   ],
   "source": [
    "raw_data.columns"
   ]
  },
  {
   "cell_type": "code",
   "execution_count": 11,
   "id": "aff031c5",
   "metadata": {},
   "outputs": [
    {
     "data": {
      "text/plain": [
       "(1998, 19)"
      ]
     },
     "execution_count": 11,
     "metadata": {},
     "output_type": "execute_result"
    }
   ],
   "source": [
    "raw_data.shape"
   ]
  },
  {
   "cell_type": "markdown",
   "id": "c9acde26",
   "metadata": {},
   "source": [
    "## 2.2 Tipos de datos"
   ]
  },
  {
   "cell_type": "code",
   "execution_count": 12,
   "id": "031e16f7",
   "metadata": {},
   "outputs": [
    {
     "name": "stdout",
     "output_type": "stream",
     "text": [
      "<class 'pandas.core.frame.DataFrame'>\n",
      "RangeIndex: 1998 entries, 0 to 1997\n",
      "Data columns (total 19 columns):\n",
      " #   Column                Non-Null Count  Dtype  \n",
      "---  ------                --------------  -----  \n",
      " 0   sector                1998 non-null   object \n",
      " 1   dep                   1998 non-null   object \n",
      " 2   impactado             1998 non-null   int64  \n",
      " 3   saldo                 1998 non-null   float64\n",
      " 4   desembolso_mes        1998 non-null   float64\n",
      " 5   saldo_promedio        1998 non-null   float64\n",
      " 6   deuda_sistea          1998 non-null   float64\n",
      " 7   pasivo                1998 non-null   float64\n",
      " 8   turismo               1998 non-null   int64  \n",
      " 9   sector_de_impacto     1998 non-null   int64  \n",
      " 10  venta                 1998 non-null   float64\n",
      " 11  venta_formal          1998 non-null   float64\n",
      " 12  pasivo_desembolso     1998 non-null   float64\n",
      " 13  deuda_rezagada_va     1998 non-null   float64\n",
      " 14  deuda_rezagada_vr     1998 non-null   float64\n",
      " 15  pasivo_rezagada_va    1998 non-null   float64\n",
      " 16  pasivo_rezagada_vr    1998 non-null   float64\n",
      " 17  pasivo_desembolso_da  1998 non-null   float64\n",
      " 18  pasivo_desembolso_dr  1998 non-null   float64\n",
      "dtypes: float64(14), int64(3), object(2)\n",
      "memory usage: 296.7+ KB\n"
     ]
    }
   ],
   "source": [
    "raw_data.info()"
   ]
  },
  {
   "cell_type": "markdown",
   "id": "7870296f",
   "metadata": {},
   "source": [
    "## 2.3 Memoria usada"
   ]
  },
  {
   "cell_type": "code",
   "execution_count": 13,
   "id": "f5e48702",
   "metadata": {},
   "outputs": [
    {
     "data": {
      "text/plain": [
       "Index                      128\n",
       "sector                  130126\n",
       "dep                     134421\n",
       "impactado                15984\n",
       "saldo                    15984\n",
       "desembolso_mes           15984\n",
       "saldo_promedio           15984\n",
       "deuda_sistea             15984\n",
       "pasivo                   15984\n",
       "turismo                  15984\n",
       "sector_de_impacto        15984\n",
       "venta                    15984\n",
       "venta_formal             15984\n",
       "pasivo_desembolso        15984\n",
       "deuda_rezagada_va        15984\n",
       "deuda_rezagada_vr        15984\n",
       "pasivo_rezagada_va       15984\n",
       "pasivo_rezagada_vr       15984\n",
       "pasivo_desembolso_da     15984\n",
       "pasivo_desembolso_dr     15984\n",
       "dtype: int64"
      ]
     },
     "execution_count": 13,
     "metadata": {},
     "output_type": "execute_result"
    }
   ],
   "source": [
    "raw_data.memory_usage(deep=True)"
   ]
  },
  {
   "cell_type": "markdown",
   "id": "ebdb31c8",
   "metadata": {},
   "source": [
    "## 2.4 Observaciones duplicadas"
   ]
  },
  {
   "cell_type": "code",
   "execution_count": 14,
   "id": "1db518db",
   "metadata": {},
   "outputs": [],
   "source": [
    "duplicated_values = raw_data.duplicated()"
   ]
  },
  {
   "cell_type": "code",
   "execution_count": 15,
   "id": "a30de3b1",
   "metadata": {},
   "outputs": [
    {
     "data": {
      "text/html": [
       "<div>\n",
       "<style scoped>\n",
       "    .dataframe tbody tr th:only-of-type {\n",
       "        vertical-align: middle;\n",
       "    }\n",
       "\n",
       "    .dataframe tbody tr th {\n",
       "        vertical-align: top;\n",
       "    }\n",
       "\n",
       "    .dataframe thead th {\n",
       "        text-align: right;\n",
       "    }\n",
       "</style>\n",
       "<table border=\"1\" class=\"dataframe\">\n",
       "  <thead>\n",
       "    <tr style=\"text-align: right;\">\n",
       "      <th></th>\n",
       "      <th>sector</th>\n",
       "      <th>dep</th>\n",
       "      <th>impactado</th>\n",
       "      <th>saldo</th>\n",
       "      <th>desembolso_mes</th>\n",
       "      <th>saldo_promedio</th>\n",
       "      <th>deuda_sistea</th>\n",
       "      <th>pasivo</th>\n",
       "      <th>turismo</th>\n",
       "      <th>sector_de_impacto</th>\n",
       "      <th>venta</th>\n",
       "      <th>venta_formal</th>\n",
       "      <th>pasivo_desembolso</th>\n",
       "      <th>deuda_rezagada_va</th>\n",
       "      <th>deuda_rezagada_vr</th>\n",
       "      <th>pasivo_rezagada_va</th>\n",
       "      <th>pasivo_rezagada_vr</th>\n",
       "      <th>pasivo_desembolso_da</th>\n",
       "      <th>pasivo_desembolso_dr</th>\n",
       "    </tr>\n",
       "  </thead>\n",
       "  <tbody>\n",
       "    <tr>\n",
       "      <th>1942</th>\n",
       "      <td>COMERCIO</td>\n",
       "      <td>Callao</td>\n",
       "      <td>1</td>\n",
       "      <td>244225.7127</td>\n",
       "      <td>0.0</td>\n",
       "      <td>82224.11698</td>\n",
       "      <td>154027.21</td>\n",
       "      <td>2558.31</td>\n",
       "      <td>0</td>\n",
       "      <td>3</td>\n",
       "      <td>69500.0</td>\n",
       "      <td>8333.0</td>\n",
       "      <td>2528.565</td>\n",
       "      <td>-2179.09</td>\n",
       "      <td>-0.014269</td>\n",
       "      <td>-3174.29</td>\n",
       "      <td>-0.550924</td>\n",
       "      <td>-2548.5</td>\n",
       "      <td>-0.543144</td>\n",
       "    </tr>\n",
       "    <tr>\n",
       "      <th>1469</th>\n",
       "      <td>COMERCIO</td>\n",
       "      <td>Lima</td>\n",
       "      <td>1</td>\n",
       "      <td>244225.7127</td>\n",
       "      <td>0.0</td>\n",
       "      <td>82224.11698</td>\n",
       "      <td>154027.21</td>\n",
       "      <td>2558.31</td>\n",
       "      <td>0</td>\n",
       "      <td>3</td>\n",
       "      <td>69500.0</td>\n",
       "      <td>8333.0</td>\n",
       "      <td>2528.565</td>\n",
       "      <td>-2179.09</td>\n",
       "      <td>-0.014269</td>\n",
       "      <td>-3174.29</td>\n",
       "      <td>-0.550924</td>\n",
       "      <td>-2548.5</td>\n",
       "      <td>-0.543144</td>\n",
       "    </tr>\n",
       "    <tr>\n",
       "      <th>1259</th>\n",
       "      <td>INDUSTRIA</td>\n",
       "      <td>Lima</td>\n",
       "      <td>1</td>\n",
       "      <td>244225.7127</td>\n",
       "      <td>0.0</td>\n",
       "      <td>82224.11698</td>\n",
       "      <td>154027.21</td>\n",
       "      <td>2558.31</td>\n",
       "      <td>0</td>\n",
       "      <td>3</td>\n",
       "      <td>69500.0</td>\n",
       "      <td>8333.0</td>\n",
       "      <td>2528.565</td>\n",
       "      <td>-2179.09</td>\n",
       "      <td>-0.014269</td>\n",
       "      <td>-3174.29</td>\n",
       "      <td>-0.550924</td>\n",
       "      <td>-2548.5</td>\n",
       "      <td>-0.543144</td>\n",
       "    </tr>\n",
       "    <tr>\n",
       "      <th>293</th>\n",
       "      <td>SERVICIO</td>\n",
       "      <td>La Libertad</td>\n",
       "      <td>0</td>\n",
       "      <td>244225.7127</td>\n",
       "      <td>0.0</td>\n",
       "      <td>82224.11698</td>\n",
       "      <td>154027.21</td>\n",
       "      <td>2558.31</td>\n",
       "      <td>0</td>\n",
       "      <td>3</td>\n",
       "      <td>69500.0</td>\n",
       "      <td>8333.0</td>\n",
       "      <td>2528.565</td>\n",
       "      <td>-2179.09</td>\n",
       "      <td>-0.014269</td>\n",
       "      <td>-3174.29</td>\n",
       "      <td>-0.550924</td>\n",
       "      <td>-2548.5</td>\n",
       "      <td>-0.543144</td>\n",
       "    </tr>\n",
       "    <tr>\n",
       "      <th>1312</th>\n",
       "      <td>SERVICIO</td>\n",
       "      <td>Amazonas</td>\n",
       "      <td>1</td>\n",
       "      <td>244225.7127</td>\n",
       "      <td>0.0</td>\n",
       "      <td>82224.11698</td>\n",
       "      <td>154027.21</td>\n",
       "      <td>2558.31</td>\n",
       "      <td>0</td>\n",
       "      <td>3</td>\n",
       "      <td>69500.0</td>\n",
       "      <td>8333.0</td>\n",
       "      <td>2528.565</td>\n",
       "      <td>-2179.09</td>\n",
       "      <td>-0.014269</td>\n",
       "      <td>-3174.29</td>\n",
       "      <td>-0.550924</td>\n",
       "      <td>-2548.5</td>\n",
       "      <td>-0.543144</td>\n",
       "    </tr>\n",
       "    <tr>\n",
       "      <th>1861</th>\n",
       "      <td>COMERCIO</td>\n",
       "      <td>Callao</td>\n",
       "      <td>1</td>\n",
       "      <td>244225.7127</td>\n",
       "      <td>0.0</td>\n",
       "      <td>82224.11698</td>\n",
       "      <td>154027.21</td>\n",
       "      <td>2558.31</td>\n",
       "      <td>0</td>\n",
       "      <td>3</td>\n",
       "      <td>69500.0</td>\n",
       "      <td>8333.0</td>\n",
       "      <td>2528.565</td>\n",
       "      <td>-2179.09</td>\n",
       "      <td>-0.014269</td>\n",
       "      <td>-3174.29</td>\n",
       "      <td>-0.550924</td>\n",
       "      <td>-2548.5</td>\n",
       "      <td>-0.543144</td>\n",
       "    </tr>\n",
       "    <tr>\n",
       "      <th>255</th>\n",
       "      <td>SERVICIO</td>\n",
       "      <td>Lima</td>\n",
       "      <td>0</td>\n",
       "      <td>244225.7127</td>\n",
       "      <td>0.0</td>\n",
       "      <td>82224.11698</td>\n",
       "      <td>154027.21</td>\n",
       "      <td>2558.31</td>\n",
       "      <td>0</td>\n",
       "      <td>3</td>\n",
       "      <td>69500.0</td>\n",
       "      <td>8333.0</td>\n",
       "      <td>2528.565</td>\n",
       "      <td>-2179.09</td>\n",
       "      <td>-0.014269</td>\n",
       "      <td>-3174.29</td>\n",
       "      <td>-0.550924</td>\n",
       "      <td>-2548.5</td>\n",
       "      <td>-0.543144</td>\n",
       "    </tr>\n",
       "    <tr>\n",
       "      <th>1258</th>\n",
       "      <td>COMERCIO</td>\n",
       "      <td>Lima</td>\n",
       "      <td>1</td>\n",
       "      <td>244225.7127</td>\n",
       "      <td>0.0</td>\n",
       "      <td>82224.11698</td>\n",
       "      <td>154027.21</td>\n",
       "      <td>2558.31</td>\n",
       "      <td>0</td>\n",
       "      <td>3</td>\n",
       "      <td>69500.0</td>\n",
       "      <td>8333.0</td>\n",
       "      <td>2528.565</td>\n",
       "      <td>-2179.09</td>\n",
       "      <td>-0.014269</td>\n",
       "      <td>-3174.29</td>\n",
       "      <td>-0.550924</td>\n",
       "      <td>-2548.5</td>\n",
       "      <td>-0.543144</td>\n",
       "    </tr>\n",
       "    <tr>\n",
       "      <th>1949</th>\n",
       "      <td>SERVICIO</td>\n",
       "      <td>Ucayali</td>\n",
       "      <td>1</td>\n",
       "      <td>244225.7127</td>\n",
       "      <td>0.0</td>\n",
       "      <td>82224.11698</td>\n",
       "      <td>154027.21</td>\n",
       "      <td>2558.31</td>\n",
       "      <td>0</td>\n",
       "      <td>3</td>\n",
       "      <td>69500.0</td>\n",
       "      <td>8333.0</td>\n",
       "      <td>2528.565</td>\n",
       "      <td>-2179.09</td>\n",
       "      <td>-0.014269</td>\n",
       "      <td>-3174.29</td>\n",
       "      <td>-0.550924</td>\n",
       "      <td>-2548.5</td>\n",
       "      <td>-0.543144</td>\n",
       "    </tr>\n",
       "    <tr>\n",
       "      <th>1673</th>\n",
       "      <td>SERVICIO</td>\n",
       "      <td>Áncash</td>\n",
       "      <td>1</td>\n",
       "      <td>244225.7127</td>\n",
       "      <td>0.0</td>\n",
       "      <td>82224.11698</td>\n",
       "      <td>154027.21</td>\n",
       "      <td>2558.31</td>\n",
       "      <td>0</td>\n",
       "      <td>3</td>\n",
       "      <td>69500.0</td>\n",
       "      <td>8333.0</td>\n",
       "      <td>2528.565</td>\n",
       "      <td>-2179.09</td>\n",
       "      <td>-0.014269</td>\n",
       "      <td>-3174.29</td>\n",
       "      <td>-0.550924</td>\n",
       "      <td>-2548.5</td>\n",
       "      <td>-0.543144</td>\n",
       "    </tr>\n",
       "  </tbody>\n",
       "</table>\n",
       "</div>"
      ],
      "text/plain": [
       "         sector          dep  impactado        saldo  desembolso_mes  \\\n",
       "1942   COMERCIO       Callao          1  244225.7127             0.0   \n",
       "1469   COMERCIO         Lima          1  244225.7127             0.0   \n",
       "1259  INDUSTRIA         Lima          1  244225.7127             0.0   \n",
       "293    SERVICIO  La Libertad          0  244225.7127             0.0   \n",
       "1312   SERVICIO     Amazonas          1  244225.7127             0.0   \n",
       "1861   COMERCIO       Callao          1  244225.7127             0.0   \n",
       "255    SERVICIO         Lima          0  244225.7127             0.0   \n",
       "1258   COMERCIO         Lima          1  244225.7127             0.0   \n",
       "1949   SERVICIO      Ucayali          1  244225.7127             0.0   \n",
       "1673   SERVICIO       Áncash          1  244225.7127             0.0   \n",
       "\n",
       "      saldo_promedio  deuda_sistea   pasivo  turismo  sector_de_impacto  \\\n",
       "1942     82224.11698     154027.21  2558.31        0                  3   \n",
       "1469     82224.11698     154027.21  2558.31        0                  3   \n",
       "1259     82224.11698     154027.21  2558.31        0                  3   \n",
       "293      82224.11698     154027.21  2558.31        0                  3   \n",
       "1312     82224.11698     154027.21  2558.31        0                  3   \n",
       "1861     82224.11698     154027.21  2558.31        0                  3   \n",
       "255      82224.11698     154027.21  2558.31        0                  3   \n",
       "1258     82224.11698     154027.21  2558.31        0                  3   \n",
       "1949     82224.11698     154027.21  2558.31        0                  3   \n",
       "1673     82224.11698     154027.21  2558.31        0                  3   \n",
       "\n",
       "        venta  venta_formal  pasivo_desembolso  deuda_rezagada_va  \\\n",
       "1942  69500.0        8333.0           2528.565           -2179.09   \n",
       "1469  69500.0        8333.0           2528.565           -2179.09   \n",
       "1259  69500.0        8333.0           2528.565           -2179.09   \n",
       "293   69500.0        8333.0           2528.565           -2179.09   \n",
       "1312  69500.0        8333.0           2528.565           -2179.09   \n",
       "1861  69500.0        8333.0           2528.565           -2179.09   \n",
       "255   69500.0        8333.0           2528.565           -2179.09   \n",
       "1258  69500.0        8333.0           2528.565           -2179.09   \n",
       "1949  69500.0        8333.0           2528.565           -2179.09   \n",
       "1673  69500.0        8333.0           2528.565           -2179.09   \n",
       "\n",
       "      deuda_rezagada_vr  pasivo_rezagada_va  pasivo_rezagada_vr  \\\n",
       "1942          -0.014269            -3174.29           -0.550924   \n",
       "1469          -0.014269            -3174.29           -0.550924   \n",
       "1259          -0.014269            -3174.29           -0.550924   \n",
       "293           -0.014269            -3174.29           -0.550924   \n",
       "1312          -0.014269            -3174.29           -0.550924   \n",
       "1861          -0.014269            -3174.29           -0.550924   \n",
       "255           -0.014269            -3174.29           -0.550924   \n",
       "1258          -0.014269            -3174.29           -0.550924   \n",
       "1949          -0.014269            -3174.29           -0.550924   \n",
       "1673          -0.014269            -3174.29           -0.550924   \n",
       "\n",
       "      pasivo_desembolso_da  pasivo_desembolso_dr  \n",
       "1942               -2548.5             -0.543144  \n",
       "1469               -2548.5             -0.543144  \n",
       "1259               -2548.5             -0.543144  \n",
       "293                -2548.5             -0.543144  \n",
       "1312               -2548.5             -0.543144  \n",
       "1861               -2548.5             -0.543144  \n",
       "255                -2548.5             -0.543144  \n",
       "1258               -2548.5             -0.543144  \n",
       "1949               -2548.5             -0.543144  \n",
       "1673               -2548.5             -0.543144  "
      ]
     },
     "execution_count": 15,
     "metadata": {},
     "output_type": "execute_result"
    }
   ],
   "source": [
    "raw_data.loc[duplicated_values].sample(10)"
   ]
  },
  {
   "cell_type": "code",
   "execution_count": 16,
   "id": "0741b137",
   "metadata": {},
   "outputs": [
    {
     "data": {
      "text/plain": [
       "99"
      ]
     },
     "execution_count": 16,
     "metadata": {},
     "output_type": "execute_result"
    }
   ],
   "source": [
    "raw_data.loc[duplicated_values].shape[0]"
   ]
  },
  {
   "cell_type": "markdown",
   "id": "046b4943",
   "metadata": {},
   "source": [
    "- Por ser data sintética, voy a asumir que la repetición de los valores en las 99 filas es propia de la generación de valores al momento de crear el conjunto de datos. Por lo tanto, los valores no van a ser removviods del dataset."
   ]
  },
  {
   "cell_type": "markdown",
   "id": "83d39294",
   "metadata": {},
   "source": [
    "## 2.5 Cantidad de zero values"
   ]
  },
  {
   "cell_type": "code",
   "execution_count": 17,
   "id": "55707dde",
   "metadata": {},
   "outputs": [
    {
     "data": {
      "text/plain": [
       "sector                   0.000000\n",
       "dep                      0.000000\n",
       "impactado               50.000000\n",
       "saldo                    0.000000\n",
       "desembolso_mes          99.799800\n",
       "saldo_promedio           0.000000\n",
       "deuda_sistea             0.100100\n",
       "pasivo                   5.255255\n",
       "turismo                 94.494494\n",
       "sector_de_impacto        0.000000\n",
       "venta                    0.000000\n",
       "venta_formal            19.919920\n",
       "pasivo_desembolso        5.255255\n",
       "deuda_rezagada_va        2.602603\n",
       "deuda_rezagada_vr        2.552553\n",
       "pasivo_rezagada_va       2.252252\n",
       "pasivo_rezagada_vr       0.900901\n",
       "pasivo_desembolso_da     2.252252\n",
       "pasivo_desembolso_dr     0.900901\n",
       "dtype: float64"
      ]
     },
     "execution_count": 17,
     "metadata": {},
     "output_type": "execute_result"
    }
   ],
   "source": [
    "(raw_data == 0).mean() * 100"
   ]
  },
  {
   "cell_type": "markdown",
   "id": "7caff851",
   "metadata": {},
   "source": [
    "- Las variables **Desenbolso_mes** y **Turismo** tienen cantidades excesivamente altas de ceros, lo que hace que aporten muy poco al modelo a desarrollar. Debido a ello, serán removidas del dataset."
   ]
  },
  {
   "cell_type": "markdown",
   "id": "226f1499",
   "metadata": {},
   "source": [
    "# 3. Tratamiento del dataset"
   ]
  },
  {
   "cell_type": "code",
   "execution_count": 18,
   "id": "1d51d4c7",
   "metadata": {},
   "outputs": [],
   "source": [
    "data = raw_data.copy()"
   ]
  },
  {
   "cell_type": "markdown",
   "id": "d32b15f3",
   "metadata": {},
   "source": [
    "## 3.1 Tratamiento de zero values"
   ]
  },
  {
   "cell_type": "code",
   "execution_count": 19,
   "id": "0226b5b5",
   "metadata": {},
   "outputs": [
    {
     "data": {
      "text/plain": [
       "(1998, 19)"
      ]
     },
     "execution_count": 19,
     "metadata": {},
     "output_type": "execute_result"
    }
   ],
   "source": [
    "data.shape"
   ]
  },
  {
   "cell_type": "code",
   "execution_count": 20,
   "id": "f86bc287",
   "metadata": {},
   "outputs": [],
   "source": [
    "data = data.drop(['desembolso_mes','turismo'],axis=1)"
   ]
  },
  {
   "cell_type": "code",
   "execution_count": 21,
   "id": "fccb8000",
   "metadata": {},
   "outputs": [
    {
     "data": {
      "text/plain": [
       "(1998, 17)"
      ]
     },
     "execution_count": 21,
     "metadata": {},
     "output_type": "execute_result"
    }
   ],
   "source": [
    "data.shape"
   ]
  },
  {
   "cell_type": "code",
   "execution_count": 22,
   "id": "ecf2bb09",
   "metadata": {},
   "outputs": [
    {
     "data": {
      "text/plain": [
       "sector                   0.000000\n",
       "dep                      0.000000\n",
       "impactado               50.000000\n",
       "saldo                    0.000000\n",
       "saldo_promedio           0.000000\n",
       "deuda_sistea             0.100100\n",
       "pasivo                   5.255255\n",
       "sector_de_impacto        0.000000\n",
       "venta                    0.000000\n",
       "venta_formal            19.919920\n",
       "pasivo_desembolso        5.255255\n",
       "deuda_rezagada_va        2.602603\n",
       "deuda_rezagada_vr        2.552553\n",
       "pasivo_rezagada_va       2.252252\n",
       "pasivo_rezagada_vr       0.900901\n",
       "pasivo_desembolso_da     2.252252\n",
       "pasivo_desembolso_dr     0.900901\n",
       "dtype: float64"
      ]
     },
     "execution_count": 22,
     "metadata": {},
     "output_type": "execute_result"
    }
   ],
   "source": [
    "(data == 0).mean() * 100"
   ]
  },
  {
   "cell_type": "markdown",
   "id": "68b24532",
   "metadata": {},
   "source": [
    "## 3.2 Tratamiento de valores perdidos"
   ]
  },
  {
   "cell_type": "code",
   "execution_count": 23,
   "id": "0b2b7b4c",
   "metadata": {},
   "outputs": [
    {
     "data": {
      "image/png": "[encoded data removed]",
      "text/plain": [
       "<Figure size 1008x216 with 2 Axes>"
      ]
     },
     "metadata": {
      "needs_background": "light"
     },
     "output_type": "display_data"
    }
   ],
   "source": [
    "msno.matrix(data,\n",
    "           color=(0.0, 0.35, 0.45),\n",
    "           figsize=(14,3),\n",
    "           fontsize=10)\n",
    "plt.show()"
   ]
  },
  {
   "cell_type": "code",
   "execution_count": 24,
   "id": "ab33a985",
   "metadata": {},
   "outputs": [
    {
     "data": {
      "text/plain": [
       "sector                  0.0\n",
       "dep                     0.0\n",
       "impactado               0.0\n",
       "saldo                   0.0\n",
       "saldo_promedio          0.0\n",
       "deuda_sistea            0.0\n",
       "pasivo                  0.0\n",
       "sector_de_impacto       0.0\n",
       "venta                   0.0\n",
       "venta_formal            0.0\n",
       "pasivo_desembolso       0.0\n",
       "deuda_rezagada_va       0.0\n",
       "deuda_rezagada_vr       0.0\n",
       "pasivo_rezagada_va      0.0\n",
       "pasivo_rezagada_vr      0.0\n",
       "pasivo_desembolso_da    0.0\n",
       "pasivo_desembolso_dr    0.0\n",
       "dtype: float64"
      ]
     },
     "execution_count": 24,
     "metadata": {},
     "output_type": "execute_result"
    }
   ],
   "source": [
    "data.isnull().mean()"
   ]
  },
  {
   "cell_type": "markdown",
   "id": "da831ab8",
   "metadata": {},
   "source": [
    "- El dataset no cuenta con missing values en su contenido."
   ]
  },
  {
   "cell_type": "markdown",
   "id": "88e19b2a",
   "metadata": {},
   "source": [
    "## 3.3 Tratamiento de valores atípicos"
   ]
  },
  {
   "cell_type": "code",
   "execution_count": 25,
   "id": "4cee0dae",
   "metadata": {},
   "outputs": [],
   "source": [
    "numerical_columns = list(data.select_dtypes(['int','float']).columns)"
   ]
  },
  {
   "cell_type": "code",
   "execution_count": 26,
   "id": "3e91cecf",
   "metadata": {},
   "outputs": [],
   "source": [
    "categorical_columns = list(data.select_dtypes(['object']).columns)"
   ]
  },
  {
   "cell_type": "code",
   "execution_count": 27,
   "id": "3e560987",
   "metadata": {},
   "outputs": [
    {
     "data": {
      "image/png": "[encoded data removed]",
      "text/plain": [
       "<Figure size 720x360 with 1 Axes>"
      ]
     },
     "metadata": {
      "needs_background": "light"
     },
     "output_type": "display_data"
    }
   ],
   "source": [
    "fig, ax = plt.subplots()\n",
    "fig.set_size_inches(10,5)\n",
    "ax = sns.boxplot(data=data)\n",
    "plt.xticks(rotation=90)\n",
    "plt.show()"
   ]
  },
  {
   "cell_type": "markdown",
   "id": "cc787221",
   "metadata": {},
   "source": [
    "- A partir de los diagramas de caja y bigotes realizados, se infiere que existen outliers tanto por encima como por debajo de la distribución de las variables."
   ]
  },
  {
   "cell_type": "markdown",
   "id": "cac0c4e8",
   "metadata": {},
   "source": [
    "### 3.3.1 Detección univariante"
   ]
  },
  {
   "cell_type": "code",
   "execution_count": 28,
   "id": "ced3016c",
   "metadata": {},
   "outputs": [],
   "source": [
    "low_pp = list(np.arange(0.01,0.11,0.01))\n",
    "high_pp = list(np.arange(0.91,1.01,0.01))\n",
    "\n",
    "low_pp = [round(x, 2) for x in low_pp]\n",
    "high_pp = [round(x, 2) for x in high_pp]"
   ]
  },
  {
   "cell_type": "markdown",
   "id": "d299936d",
   "metadata": {},
   "source": [
    "#### 3.3.1.1 Detección de valores atípicos inferiores"
   ]
  },
  {
   "cell_type": "code",
   "execution_count": 29,
   "id": "ef20703e",
   "metadata": {},
   "outputs": [],
   "source": [
    "def get_min_outliers_ratio(df):\n",
    "    df_columns = list(df.columns)\n",
    "    for column in df_columns:\n",
    "        print()\n",
    "        max_value = round(float(df.loc['max', str(column)]), 2)\n",
    "        min_value = round(float(df.loc['min', str(column)]), 2)\n",
    "        pp_value_01 = round(float(df.loc['2.5%', str(column)]), 2)\n",
    "        pp_value_02 = round(float(df.loc['5%', str(column)]), 2)\n",
    "        pp_value_03 = round(float(df.loc['7.5%', str(column)]), 2)\n",
    "        if max_value > 1.0:\n",
    "            if pp_value_01!=0 and pp_value_02!=0 and pp_value_03!=0 and min_value!=0:\n",
    "                ratio_01 = round(pp_value_01 / min_value, 3)\n",
    "                ratio_02 = round(pp_value_02 / pp_value_01, 3)\n",
    "                ratio_03 = round(pp_value_03 / pp_value_02, 3)\n",
    "                print(f' → Ratios of <<{column}>> column: (2.5% → {ratio_01}) (5% → {ratio_02}) (7.5% → {ratio_03})')\n",
    "            else:\n",
    "                print(f'{column} column: Min:{min_value} (2.5% → {pp_value_01}) (5% → {pp_value_02}) (7.5% → {pp_value_03})')\n",
    "            "
   ]
  },
  {
   "cell_type": "code",
   "execution_count": 30,
   "id": "cecdefc1",
   "metadata": {},
   "outputs": [
    {
     "data": {
      "text/html": [
       "<div>\n",
       "<style scoped>\n",
       "    .dataframe tbody tr th:only-of-type {\n",
       "        vertical-align: middle;\n",
       "    }\n",
       "\n",
       "    .dataframe tbody tr th {\n",
       "        vertical-align: top;\n",
       "    }\n",
       "\n",
       "    .dataframe thead th {\n",
       "        text-align: right;\n",
       "    }\n",
       "</style>\n",
       "<table border=\"1\" class=\"dataframe\">\n",
       "  <thead>\n",
       "    <tr style=\"text-align: right;\">\n",
       "      <th></th>\n",
       "      <th>impactado</th>\n",
       "      <th>saldo</th>\n",
       "      <th>saldo_promedio</th>\n",
       "      <th>deuda_sistea</th>\n",
       "      <th>pasivo</th>\n",
       "      <th>sector_de_impacto</th>\n",
       "      <th>venta</th>\n",
       "      <th>venta_formal</th>\n",
       "      <th>pasivo_desembolso</th>\n",
       "      <th>deuda_rezagada_va</th>\n",
       "      <th>deuda_rezagada_vr</th>\n",
       "      <th>pasivo_rezagada_va</th>\n",
       "      <th>pasivo_rezagada_vr</th>\n",
       "      <th>pasivo_desembolso_da</th>\n",
       "      <th>pasivo_desembolso_dr</th>\n",
       "    </tr>\n",
       "  </thead>\n",
       "  <tbody>\n",
       "    <tr>\n",
       "      <th>0.01</th>\n",
       "      <td>0.0</td>\n",
       "      <td>4226.383573</td>\n",
       "      <td>1440.960725</td>\n",
       "      <td>3050.0606</td>\n",
       "      <td>0.000</td>\n",
       "      <td>1.0</td>\n",
       "      <td>8438.800</td>\n",
       "      <td>0.0</td>\n",
       "      <td>0.000</td>\n",
       "      <td>-109204.6321</td>\n",
       "      <td>-0.445818</td>\n",
       "      <td>-273180.3756</td>\n",
       "      <td>-1.000000</td>\n",
       "      <td>-263517.558700</td>\n",
       "      <td>-1.000000</td>\n",
       "    </tr>\n",
       "    <tr>\n",
       "      <th>0.02</th>\n",
       "      <td>0.0</td>\n",
       "      <td>8898.615559</td>\n",
       "      <td>2966.205187</td>\n",
       "      <td>5557.0296</td>\n",
       "      <td>0.000</td>\n",
       "      <td>1.0</td>\n",
       "      <td>10988.000</td>\n",
       "      <td>0.0</td>\n",
       "      <td>0.000</td>\n",
       "      <td>-72542.7630</td>\n",
       "      <td>-0.331955</td>\n",
       "      <td>-190543.7046</td>\n",
       "      <td>-1.000000</td>\n",
       "      <td>-167321.930000</td>\n",
       "      <td>-1.000000</td>\n",
       "    </tr>\n",
       "    <tr>\n",
       "      <th>0.03</th>\n",
       "      <td>0.0</td>\n",
       "      <td>12606.189688</td>\n",
       "      <td>4253.240977</td>\n",
       "      <td>9081.8360</td>\n",
       "      <td>0.000</td>\n",
       "      <td>1.0</td>\n",
       "      <td>12494.556</td>\n",
       "      <td>0.0</td>\n",
       "      <td>0.000</td>\n",
       "      <td>-58835.9132</td>\n",
       "      <td>-0.267181</td>\n",
       "      <td>-149911.0163</td>\n",
       "      <td>-1.000000</td>\n",
       "      <td>-136225.557800</td>\n",
       "      <td>-1.000000</td>\n",
       "    </tr>\n",
       "    <tr>\n",
       "      <th>0.04</th>\n",
       "      <td>0.0</td>\n",
       "      <td>15120.316451</td>\n",
       "      <td>5101.376660</td>\n",
       "      <td>12190.7872</td>\n",
       "      <td>0.000</td>\n",
       "      <td>1.0</td>\n",
       "      <td>13900.000</td>\n",
       "      <td>0.0</td>\n",
       "      <td>0.000</td>\n",
       "      <td>-42749.3384</td>\n",
       "      <td>-0.230498</td>\n",
       "      <td>-124101.8844</td>\n",
       "      <td>-0.999988</td>\n",
       "      <td>-116029.036800</td>\n",
       "      <td>-1.000000</td>\n",
       "    </tr>\n",
       "    <tr>\n",
       "      <th>0.05</th>\n",
       "      <td>0.0</td>\n",
       "      <td>21229.753742</td>\n",
       "      <td>7171.513270</td>\n",
       "      <td>14838.2440</td>\n",
       "      <td>0.000</td>\n",
       "      <td>1.0</td>\n",
       "      <td>15334.700</td>\n",
       "      <td>0.0</td>\n",
       "      <td>0.000</td>\n",
       "      <td>-35249.2295</td>\n",
       "      <td>-0.189747</td>\n",
       "      <td>-106232.1870</td>\n",
       "      <td>-0.999950</td>\n",
       "      <td>-96817.654000</td>\n",
       "      <td>-0.999975</td>\n",
       "    </tr>\n",
       "    <tr>\n",
       "      <th>0.06</th>\n",
       "      <td>0.0</td>\n",
       "      <td>24504.322660</td>\n",
       "      <td>8305.609052</td>\n",
       "      <td>17149.1006</td>\n",
       "      <td>0.010</td>\n",
       "      <td>1.0</td>\n",
       "      <td>16496.400</td>\n",
       "      <td>0.0</td>\n",
       "      <td>0.010</td>\n",
       "      <td>-31671.3450</td>\n",
       "      <td>-0.162475</td>\n",
       "      <td>-89867.5576</td>\n",
       "      <td>-0.999847</td>\n",
       "      <td>-79292.809200</td>\n",
       "      <td>-0.999908</td>\n",
       "    </tr>\n",
       "    <tr>\n",
       "      <th>0.07</th>\n",
       "      <td>0.0</td>\n",
       "      <td>28049.073013</td>\n",
       "      <td>9754.568781</td>\n",
       "      <td>19990.3211</td>\n",
       "      <td>0.030</td>\n",
       "      <td>1.0</td>\n",
       "      <td>18000.000</td>\n",
       "      <td>0.0</td>\n",
       "      <td>0.030</td>\n",
       "      <td>-27835.6097</td>\n",
       "      <td>-0.138851</td>\n",
       "      <td>-76923.8176</td>\n",
       "      <td>-0.998800</td>\n",
       "      <td>-62107.734000</td>\n",
       "      <td>-0.999597</td>\n",
       "    </tr>\n",
       "    <tr>\n",
       "      <th>0.08</th>\n",
       "      <td>0.0</td>\n",
       "      <td>31663.023579</td>\n",
       "      <td>10726.183318</td>\n",
       "      <td>22431.5208</td>\n",
       "      <td>0.080</td>\n",
       "      <td>1.0</td>\n",
       "      <td>18916.000</td>\n",
       "      <td>0.0</td>\n",
       "      <td>0.080</td>\n",
       "      <td>-23945.4000</td>\n",
       "      <td>-0.124413</td>\n",
       "      <td>-61236.7996</td>\n",
       "      <td>-0.996521</td>\n",
       "      <td>-54227.573600</td>\n",
       "      <td>-0.997274</td>\n",
       "    </tr>\n",
       "    <tr>\n",
       "      <th>0.09</th>\n",
       "      <td>0.0</td>\n",
       "      <td>38104.808823</td>\n",
       "      <td>12960.639614</td>\n",
       "      <td>25040.9255</td>\n",
       "      <td>0.190</td>\n",
       "      <td>1.0</td>\n",
       "      <td>20014.600</td>\n",
       "      <td>0.0</td>\n",
       "      <td>0.190</td>\n",
       "      <td>-21112.9590</td>\n",
       "      <td>-0.109323</td>\n",
       "      <td>-54228.8153</td>\n",
       "      <td>-0.991687</td>\n",
       "      <td>-47951.281562</td>\n",
       "      <td>-0.992751</td>\n",
       "    </tr>\n",
       "    <tr>\n",
       "      <th>0.10</th>\n",
       "      <td>0.0</td>\n",
       "      <td>41870.820594</td>\n",
       "      <td>14085.242928</td>\n",
       "      <td>28318.5400</td>\n",
       "      <td>0.427</td>\n",
       "      <td>1.0</td>\n",
       "      <td>21140.700</td>\n",
       "      <td>0.0</td>\n",
       "      <td>0.411</td>\n",
       "      <td>-19305.8390</td>\n",
       "      <td>-0.101173</td>\n",
       "      <td>-48702.9970</td>\n",
       "      <td>-0.983606</td>\n",
       "      <td>-43019.353000</td>\n",
       "      <td>-0.984125</td>\n",
       "    </tr>\n",
       "  </tbody>\n",
       "</table>\n",
       "</div>"
      ],
      "text/plain": [
       "      impactado         saldo  saldo_promedio  deuda_sistea  pasivo  \\\n",
       "0.01        0.0   4226.383573     1440.960725     3050.0606   0.000   \n",
       "0.02        0.0   8898.615559     2966.205187     5557.0296   0.000   \n",
       "0.03        0.0  12606.189688     4253.240977     9081.8360   0.000   \n",
       "0.04        0.0  15120.316451     5101.376660    12190.7872   0.000   \n",
       "0.05        0.0  21229.753742     7171.513270    14838.2440   0.000   \n",
       "0.06        0.0  24504.322660     8305.609052    17149.1006   0.010   \n",
       "0.07        0.0  28049.073013     9754.568781    19990.3211   0.030   \n",
       "0.08        0.0  31663.023579    10726.183318    22431.5208   0.080   \n",
       "0.09        0.0  38104.808823    12960.639614    25040.9255   0.190   \n",
       "0.10        0.0  41870.820594    14085.242928    28318.5400   0.427   \n",
       "\n",
       "      sector_de_impacto      venta  venta_formal  pasivo_desembolso  \\\n",
       "0.01                1.0   8438.800           0.0              0.000   \n",
       "0.02                1.0  10988.000           0.0              0.000   \n",
       "0.03                1.0  12494.556           0.0              0.000   \n",
       "0.04                1.0  13900.000           0.0              0.000   \n",
       "0.05                1.0  15334.700           0.0              0.000   \n",
       "0.06                1.0  16496.400           0.0              0.010   \n",
       "0.07                1.0  18000.000           0.0              0.030   \n",
       "0.08                1.0  18916.000           0.0              0.080   \n",
       "0.09                1.0  20014.600           0.0              0.190   \n",
       "0.10                1.0  21140.700           0.0              0.411   \n",
       "\n",
       "      deuda_rezagada_va  deuda_rezagada_vr  pasivo_rezagada_va  \\\n",
       "0.01       -109204.6321          -0.445818        -273180.3756   \n",
       "0.02        -72542.7630          -0.331955        -190543.7046   \n",
       "0.03        -58835.9132          -0.267181        -149911.0163   \n",
       "0.04        -42749.3384          -0.230498        -124101.8844   \n",
       "0.05        -35249.2295          -0.189747        -106232.1870   \n",
       "0.06        -31671.3450          -0.162475         -89867.5576   \n",
       "0.07        -27835.6097          -0.138851         -76923.8176   \n",
       "0.08        -23945.4000          -0.124413         -61236.7996   \n",
       "0.09        -21112.9590          -0.109323         -54228.8153   \n",
       "0.10        -19305.8390          -0.101173         -48702.9970   \n",
       "\n",
       "      pasivo_rezagada_vr  pasivo_desembolso_da  pasivo_desembolso_dr  \n",
       "0.01           -1.000000        -263517.558700             -1.000000  \n",
       "0.02           -1.000000        -167321.930000             -1.000000  \n",
       "0.03           -1.000000        -136225.557800             -1.000000  \n",
       "0.04           -0.999988        -116029.036800             -1.000000  \n",
       "0.05           -0.999950         -96817.654000             -0.999975  \n",
       "0.06           -0.999847         -79292.809200             -0.999908  \n",
       "0.07           -0.998800         -62107.734000             -0.999597  \n",
       "0.08           -0.996521         -54227.573600             -0.997274  \n",
       "0.09           -0.991687         -47951.281562             -0.992751  \n",
       "0.10           -0.983606         -43019.353000             -0.984125  "
      ]
     },
     "execution_count": 30,
     "metadata": {},
     "output_type": "execute_result"
    }
   ],
   "source": [
    "data[numerical_columns].quantile(low_pp)"
   ]
  },
  {
   "cell_type": "code",
   "execution_count": 31,
   "id": "a0b52647",
   "metadata": {},
   "outputs": [
    {
     "name": "stdout",
     "output_type": "stream",
     "text": [
      "\n",
      "\n",
      " → Ratios of <<saldo>> column: (2.5% → 99.286) (5% → 1.931) (7.5% → 1.432)\n",
      "\n",
      " → Ratios of <<saldo_promedio>> column: (2.5% → 70.206) (5% → 1.845) (7.5% → 1.423)\n",
      "\n",
      "deuda_sistea column: Min:0.0 (2.5% → 8017.67) (5% → 14838.24) (7.5% → 21192.86)\n",
      "\n",
      "pasivo column: Min:0.0 (2.5% → 0.0) (5% → 0.0) (7.5% → 0.05)\n",
      "\n",
      " → Ratios of <<sector_de_impacto>> column: (2.5% → 1.0) (5% → 1.0) (7.5% → 1.0)\n",
      "\n",
      " → Ratios of <<venta>> column: (2.5% → 5.712) (5% → 1.278) (7.5% → 1.193)\n",
      "\n",
      "venta_formal column: Min:0.0 (2.5% → 0.0) (5% → 0.0) (7.5% → 0.0)\n",
      "\n",
      "pasivo_desembolso column: Min:-5284.57 (2.5% → 0.0) (5% → 0.0) (7.5% → 0.04)\n",
      "\n",
      " → Ratios of <<deuda_rezagada_va>> column: (2.5% → 0.078) (5% → 0.564) (7.5% → 0.727)\n",
      "\n",
      " → Ratios of <<deuda_rezagada_vr>> column: (2.5% → 0.29) (5% → 0.655) (7.5% → 0.684)\n",
      "\n",
      " → Ratios of <<pasivo_rezagada_va>> column: (2.5% → 0.074) (5% → 0.635) (7.5% → 0.637)\n",
      "\n",
      " → Ratios of <<pasivo_rezagada_vr>> column: (2.5% → 1.0) (5% → 1.0) (7.5% → 1.0)\n",
      "\n",
      " → Ratios of <<pasivo_desembolso_da>> column: (2.5% → 0.066) (5% → 0.646) (7.5% → 0.577)\n",
      "\n",
      " → Ratios of <<pasivo_desembolso_dr>> column: (2.5% → 0.114) (5% → 1.0) (7.5% → 1.0)\n"
     ]
    }
   ],
   "source": [
    "get_min_outliers_ratio(data.describe(percentiles=[0.025, 0.05, 0.075]))"
   ]
  },
  {
   "cell_type": "code",
   "execution_count": 32,
   "id": "220e026b",
   "metadata": {},
   "outputs": [
    {
     "data": {
      "image/png": "[encoded data removed]",
      "text/plain": [
       "<Figure size 1008x360 with 1 Axes>"
      ]
     },
     "metadata": {
      "needs_background": "light"
     },
     "output_type": "display_data"
    }
   ],
   "source": [
    "fig, ax = plt.subplots()\n",
    "fig.set_size_inches(14,5)\n",
    "ax = sns.boxplot(data=data, orient='h')\n",
    "plt.title('Boxplot de apoyo')\n",
    "plt.xticks(rotation=90)\n",
    "plt.show()"
   ]
  },
  {
   "cell_type": "markdown",
   "id": "85cb1951",
   "metadata": {},
   "source": [
    "- Las variables **saldo y saldo promedio** serán capeadas al 2.5%.\n",
    "- La variable **Deuda sistea,** será capeada al 1%.\n",
    "- La variable **Sector de impacto** no presenta evidencia de valores atípicos, y pese a que lo hubiese, no debería ser tratada porque representa sectores (variable categórica ordinal). Lo mejor es no transformarla o por otro lado, hacerla dicotómica en múltiples variables con valores de 1 y 0.\n",
    "- La variable **Pasivo_desembolso** será capeada al 5%.\n",
    "- La variable **Deuda rezagada va** será capeada al 2.5%.\n",
    "- La variable **pasivo rezagada va** será capeada al 7.5%.\n",
    "- La variable **Pasivo_desembolso da** será capeada al 5%."
   ]
  },
  {
   "cell_type": "code",
   "execution_count": 33,
   "id": "de91947c",
   "metadata": {},
   "outputs": [],
   "source": [
    "suspects_low = {'saldo':'2.5%',\n",
    "                'saldo_promedio':'2.5%',\n",
    "                'deuda_sistea':'1%',\n",
    "                'pasivo_desembolso':'5%',\n",
    "                'deuda_rezagada_va':'2.5%',\n",
    "                'pasivo_rezagada_va':'7.5%',\n",
    "                'pasivo_desembolso_da':'5%'}"
   ]
  },
  {
   "cell_type": "code",
   "execution_count": 34,
   "id": "73509992",
   "metadata": {},
   "outputs": [],
   "source": [
    "pp_df_low = data[suspects_low].describe(percentiles=[0.01,0.025,0.05,0.075])"
   ]
  },
  {
   "cell_type": "code",
   "execution_count": 35,
   "id": "e5ba2495",
   "metadata": {},
   "outputs": [
    {
     "data": {
      "text/html": [
       "<div>\n",
       "<style scoped>\n",
       "    .dataframe tbody tr th:only-of-type {\n",
       "        vertical-align: middle;\n",
       "    }\n",
       "\n",
       "    .dataframe tbody tr th {\n",
       "        vertical-align: top;\n",
       "    }\n",
       "\n",
       "    .dataframe thead th {\n",
       "        text-align: right;\n",
       "    }\n",
       "</style>\n",
       "<table border=\"1\" class=\"dataframe\">\n",
       "  <thead>\n",
       "    <tr style=\"text-align: right;\">\n",
       "      <th></th>\n",
       "      <th>saldo</th>\n",
       "      <th>saldo_promedio</th>\n",
       "      <th>deuda_sistea</th>\n",
       "      <th>pasivo_desembolso</th>\n",
       "      <th>deuda_rezagada_va</th>\n",
       "      <th>pasivo_rezagada_va</th>\n",
       "      <th>pasivo_desembolso_da</th>\n",
       "    </tr>\n",
       "  </thead>\n",
       "  <tbody>\n",
       "    <tr>\n",
       "      <th>count</th>\n",
       "      <td>1.998000e+03</td>\n",
       "      <td>1.998000e+03</td>\n",
       "      <td>1.998000e+03</td>\n",
       "      <td>1.998000e+03</td>\n",
       "      <td>1998.000000</td>\n",
       "      <td>1.998000e+03</td>\n",
       "      <td>1.998000e+03</td>\n",
       "    </tr>\n",
       "    <tr>\n",
       "      <th>mean</th>\n",
       "      <td>4.803591e+05</td>\n",
       "      <td>1.617075e+05</td>\n",
       "      <td>2.483788e+05</td>\n",
       "      <td>2.386792e+04</td>\n",
       "      <td>-3084.037157</td>\n",
       "      <td>-1.743134e+04</td>\n",
       "      <td>-1.478298e+04</td>\n",
       "    </tr>\n",
       "    <tr>\n",
       "      <th>std</th>\n",
       "      <td>6.505839e+05</td>\n",
       "      <td>2.185849e+05</td>\n",
       "      <td>2.893351e+05</td>\n",
       "      <td>1.069562e+05</td>\n",
       "      <td>48407.921291</td>\n",
       "      <td>9.419234e+04</td>\n",
       "      <td>8.635662e+04</td>\n",
       "    </tr>\n",
       "    <tr>\n",
       "      <th>min</th>\n",
       "      <td>1.107169e+02</td>\n",
       "      <td>5.535847e+01</td>\n",
       "      <td>0.000000e+00</td>\n",
       "      <td>-5.284572e+03</td>\n",
       "      <td>-800000.000000</td>\n",
       "      <td>-2.265108e+06</td>\n",
       "      <td>-2.265108e+06</td>\n",
       "    </tr>\n",
       "    <tr>\n",
       "      <th>1%</th>\n",
       "      <td>4.226384e+03</td>\n",
       "      <td>1.440961e+03</td>\n",
       "      <td>3.050061e+03</td>\n",
       "      <td>0.000000e+00</td>\n",
       "      <td>-109204.632100</td>\n",
       "      <td>-2.731804e+05</td>\n",
       "      <td>-2.635176e+05</td>\n",
       "    </tr>\n",
       "    <tr>\n",
       "      <th>2.5%</th>\n",
       "      <td>1.099291e+04</td>\n",
       "      <td>3.886581e+03</td>\n",
       "      <td>8.017665e+03</td>\n",
       "      <td>0.000000e+00</td>\n",
       "      <td>-62467.720750</td>\n",
       "      <td>-1.672002e+05</td>\n",
       "      <td>-1.499077e+05</td>\n",
       "    </tr>\n",
       "    <tr>\n",
       "      <th>5%</th>\n",
       "      <td>2.122975e+04</td>\n",
       "      <td>7.171513e+03</td>\n",
       "      <td>1.483824e+04</td>\n",
       "      <td>0.000000e+00</td>\n",
       "      <td>-35249.229500</td>\n",
       "      <td>-1.062322e+05</td>\n",
       "      <td>-9.681765e+04</td>\n",
       "    </tr>\n",
       "    <tr>\n",
       "      <th>7.5%</th>\n",
       "      <td>3.039396e+04</td>\n",
       "      <td>1.020160e+04</td>\n",
       "      <td>2.119286e+04</td>\n",
       "      <td>4.000000e-02</td>\n",
       "      <td>-25613.174250</td>\n",
       "      <td>-6.768852e+04</td>\n",
       "      <td>-5.586430e+04</td>\n",
       "    </tr>\n",
       "    <tr>\n",
       "      <th>50%</th>\n",
       "      <td>2.442257e+05</td>\n",
       "      <td>8.222412e+04</td>\n",
       "      <td>1.540272e+05</td>\n",
       "      <td>2.528565e+03</td>\n",
       "      <td>-2179.090000</td>\n",
       "      <td>-3.174290e+03</td>\n",
       "      <td>-2.548500e+03</td>\n",
       "    </tr>\n",
       "    <tr>\n",
       "      <th>max</th>\n",
       "      <td>4.803209e+06</td>\n",
       "      <td>1.601070e+06</td>\n",
       "      <td>2.514941e+06</td>\n",
       "      <td>1.938916e+06</td>\n",
       "      <td>866562.470000</td>\n",
       "      <td>9.418163e+05</td>\n",
       "      <td>9.418163e+05</td>\n",
       "    </tr>\n",
       "  </tbody>\n",
       "</table>\n",
       "</div>"
      ],
      "text/plain": [
       "              saldo  saldo_promedio  deuda_sistea  pasivo_desembolso  \\\n",
       "count  1.998000e+03    1.998000e+03  1.998000e+03       1.998000e+03   \n",
       "mean   4.803591e+05    1.617075e+05  2.483788e+05       2.386792e+04   \n",
       "std    6.505839e+05    2.185849e+05  2.893351e+05       1.069562e+05   \n",
       "min    1.107169e+02    5.535847e+01  0.000000e+00      -5.284572e+03   \n",
       "1%     4.226384e+03    1.440961e+03  3.050061e+03       0.000000e+00   \n",
       "2.5%   1.099291e+04    3.886581e+03  8.017665e+03       0.000000e+00   \n",
       "5%     2.122975e+04    7.171513e+03  1.483824e+04       0.000000e+00   \n",
       "7.5%   3.039396e+04    1.020160e+04  2.119286e+04       4.000000e-02   \n",
       "50%    2.442257e+05    8.222412e+04  1.540272e+05       2.528565e+03   \n",
       "max    4.803209e+06    1.601070e+06  2.514941e+06       1.938916e+06   \n",
       "\n",
       "       deuda_rezagada_va  pasivo_rezagada_va  pasivo_desembolso_da  \n",
       "count        1998.000000        1.998000e+03          1.998000e+03  \n",
       "mean        -3084.037157       -1.743134e+04         -1.478298e+04  \n",
       "std         48407.921291        9.419234e+04          8.635662e+04  \n",
       "min       -800000.000000       -2.265108e+06         -2.265108e+06  \n",
       "1%        -109204.632100       -2.731804e+05         -2.635176e+05  \n",
       "2.5%       -62467.720750       -1.672002e+05         -1.499077e+05  \n",
       "5%         -35249.229500       -1.062322e+05         -9.681765e+04  \n",
       "7.5%       -25613.174250       -6.768852e+04         -5.586430e+04  \n",
       "50%         -2179.090000       -3.174290e+03         -2.548500e+03  \n",
       "max        866562.470000        9.418163e+05          9.418163e+05  "
      ]
     },
     "execution_count": 35,
     "metadata": {},
     "output_type": "execute_result"
    }
   ],
   "source": [
    "pp_df_low"
   ]
  },
  {
   "cell_type": "code",
   "execution_count": 36,
   "id": "81da4b4d",
   "metadata": {},
   "outputs": [],
   "source": [
    "# Capeo de variables\n",
    "for var in suspects_low:\n",
    "    value = pp_df_low.loc[suspects_low[var], str(var)]\n",
    "    data[str(var)] = np.where(data[str(var)] < value, value, data[str(var)])"
   ]
  },
  {
   "cell_type": "code",
   "execution_count": 37,
   "id": "e66e401c",
   "metadata": {},
   "outputs": [
    {
     "data": {
      "image/png": "[encoded data removed]",
      "text/plain": [
       "<Figure size 1008x360 with 1 Axes>"
      ]
     },
     "metadata": {
      "needs_background": "light"
     },
     "output_type": "display_data"
    }
   ],
   "source": [
    "fig, ax = plt.subplots()\n",
    "fig.set_size_inches(14,5)\n",
    "ax = sns.boxplot(data=data, orient='h')\n",
    "plt.title('Boxplot de verificación de reducción de valores atípicos')\n",
    "plt.xticks(rotation=90)\n",
    "plt.show()"
   ]
  },
  {
   "cell_type": "code",
   "execution_count": 38,
   "id": "97a7e1db",
   "metadata": {},
   "outputs": [
    {
     "data": {
      "image/png": "[encoded data removed]",
      "text/plain": [
       "<Figure size 1008x360 with 3 Axes>"
      ]
     },
     "metadata": {
      "needs_background": "light"
     },
     "output_type": "display_data"
    }
   ],
   "source": [
    "fig, ax = plt.subplots(3,1)\n",
    "fig.set_size_inches(14,5)\n",
    "ax[0].set_title(\"deuda_rezagada_va\")\n",
    "sns.boxplot(data=data, x=\"deuda_rezagada_va\", ax=ax[0])\n",
    "ax[0].set_xlabel('')\n",
    "ax[1].set_title(\"pasivo_rezagada_va\")\n",
    "sns.boxplot(data=data, x=\"pasivo_rezagada_va\", ax=ax[1])\n",
    "ax[1].set_xlabel('')\n",
    "ax[2].set_title(\"pasivo_desembolso_da\")\n",
    "sns.boxplot(data=data, x=\"pasivo_desembolso_da\",ax=ax[2])\n",
    "plt.xticks(rotation=90)\n",
    "ax[2].set_xlabel('')\n",
    "fig.tight_layout()\n",
    "plt.show()"
   ]
  },
  {
   "cell_type": "markdown",
   "id": "6db88781",
   "metadata": {},
   "source": [
    "- Estas 3 variables aún tienen gran cantidad de valores atípicos en su nivel inferior, pese al tratamiento realizado, pero se seguirá con el desarrollo para evaluar si más adelante implican una reducción de rendimiento en el algoritmo o no."
   ]
  },
  {
   "cell_type": "markdown",
   "id": "e0aaa969",
   "metadata": {},
   "source": [
    "#### 3.3.1.2 Detección de valores atípicos superiores"
   ]
  },
  {
   "cell_type": "code",
   "execution_count": 39,
   "id": "c5e58e8b",
   "metadata": {},
   "outputs": [],
   "source": [
    "def get_max_outliers_ratio(df):\n",
    "    df_columns = list(df.columns)\n",
    "    for column in df_columns:\n",
    "        print()\n",
    "        max_value = round(float(df.loc['max', str(column)]), 2)\n",
    "        min_value = round(float(df.loc['min', str(column)]), 2)\n",
    "        pp_value_01 = round(float(df.loc['92.5%', str(column)]), 2)\n",
    "        pp_value_02 = round(float(df.loc['95%', str(column)]), 2)\n",
    "        pp_value_03 = round(float(df.loc['97.5%', str(column)]), 2)\n",
    "        if max_value > 1.0:\n",
    "            if pp_value_01!=0 and pp_value_02!=0 and pp_value_03!=0 and max_value!=0:\n",
    "                ratio_01 = round(pp_value_02 / pp_value_01, 3)\n",
    "                ratio_02 = round(pp_value_03 / pp_value_02, 3)\n",
    "                ratio_03 = round(max_value / pp_value_03, 3)\n",
    "                print(f' → Ratios of <<{column}>> column: (92.5%-95% → {ratio_01}) (95-97.5%% → {ratio_02}) (97.5%-max → {ratio_03})')\n",
    "            else:\n",
    "                print('ERROR')\n",
    "            "
   ]
  },
  {
   "cell_type": "code",
   "execution_count": 40,
   "id": "fded16dd",
   "metadata": {},
   "outputs": [
    {
     "data": {
      "text/html": [
       "<div>\n",
       "<style scoped>\n",
       "    .dataframe tbody tr th:only-of-type {\n",
       "        vertical-align: middle;\n",
       "    }\n",
       "\n",
       "    .dataframe tbody tr th {\n",
       "        vertical-align: top;\n",
       "    }\n",
       "\n",
       "    .dataframe thead th {\n",
       "        text-align: right;\n",
       "    }\n",
       "</style>\n",
       "<table border=\"1\" class=\"dataframe\">\n",
       "  <thead>\n",
       "    <tr style=\"text-align: right;\">\n",
       "      <th></th>\n",
       "      <th>impactado</th>\n",
       "      <th>saldo</th>\n",
       "      <th>saldo_promedio</th>\n",
       "      <th>deuda_sistea</th>\n",
       "      <th>pasivo</th>\n",
       "      <th>sector_de_impacto</th>\n",
       "      <th>venta</th>\n",
       "      <th>venta_formal</th>\n",
       "      <th>pasivo_desembolso</th>\n",
       "      <th>deuda_rezagada_va</th>\n",
       "      <th>deuda_rezagada_vr</th>\n",
       "      <th>pasivo_rezagada_va</th>\n",
       "      <th>pasivo_rezagada_vr</th>\n",
       "      <th>pasivo_desembolso_da</th>\n",
       "      <th>pasivo_desembolso_dr</th>\n",
       "    </tr>\n",
       "  </thead>\n",
       "  <tbody>\n",
       "    <tr>\n",
       "      <th>0.91</th>\n",
       "      <td>1.0</td>\n",
       "      <td>1.374676e+06</td>\n",
       "      <td>4.625547e+05</td>\n",
       "      <td>6.326905e+05</td>\n",
       "      <td>4.672841e+04</td>\n",
       "      <td>4.0</td>\n",
       "      <td>208441.60</td>\n",
       "      <td>1.118369e+05</td>\n",
       "      <td>4.582617e+04</td>\n",
       "      <td>10986.9160</td>\n",
       "      <td>0.097099</td>\n",
       "      <td>2721.3318</td>\n",
       "      <td>0.868561</td>\n",
       "      <td>3221.407800</td>\n",
       "      <td>0.890909</td>\n",
       "    </tr>\n",
       "    <tr>\n",
       "      <th>0.92</th>\n",
       "      <td>1.0</td>\n",
       "      <td>1.495366e+06</td>\n",
       "      <td>5.005225e+05</td>\n",
       "      <td>6.859386e+05</td>\n",
       "      <td>5.439849e+04</td>\n",
       "      <td>4.0</td>\n",
       "      <td>219962.00</td>\n",
       "      <td>1.227113e+05</td>\n",
       "      <td>5.336609e+04</td>\n",
       "      <td>13961.1952</td>\n",
       "      <td>0.123199</td>\n",
       "      <td>3942.5176</td>\n",
       "      <td>1.267219</td>\n",
       "      <td>4315.479200</td>\n",
       "      <td>1.267219</td>\n",
       "    </tr>\n",
       "    <tr>\n",
       "      <th>0.93</th>\n",
       "      <td>1.0</td>\n",
       "      <td>1.620680e+06</td>\n",
       "      <td>5.413288e+05</td>\n",
       "      <td>7.420213e+05</td>\n",
       "      <td>7.037620e+04</td>\n",
       "      <td>4.0</td>\n",
       "      <td>238375.18</td>\n",
       "      <td>1.333197e+05</td>\n",
       "      <td>6.544317e+04</td>\n",
       "      <td>17200.3634</td>\n",
       "      <td>0.147177</td>\n",
       "      <td>5215.4855</td>\n",
       "      <td>1.751382</td>\n",
       "      <td>6026.562800</td>\n",
       "      <td>1.751382</td>\n",
       "    </tr>\n",
       "    <tr>\n",
       "      <th>0.94</th>\n",
       "      <td>1.0</td>\n",
       "      <td>1.762212e+06</td>\n",
       "      <td>5.952822e+05</td>\n",
       "      <td>7.935966e+05</td>\n",
       "      <td>8.471576e+04</td>\n",
       "      <td>4.0</td>\n",
       "      <td>260713.00</td>\n",
       "      <td>1.573550e+05</td>\n",
       "      <td>8.150748e+04</td>\n",
       "      <td>22080.1464</td>\n",
       "      <td>0.185025</td>\n",
       "      <td>7805.0506</td>\n",
       "      <td>2.376331</td>\n",
       "      <td>8211.371000</td>\n",
       "      <td>2.376331</td>\n",
       "    </tr>\n",
       "    <tr>\n",
       "      <th>0.95</th>\n",
       "      <td>1.0</td>\n",
       "      <td>1.954504e+06</td>\n",
       "      <td>6.553111e+05</td>\n",
       "      <td>8.592521e+05</td>\n",
       "      <td>9.877850e+04</td>\n",
       "      <td>4.0</td>\n",
       "      <td>285190.00</td>\n",
       "      <td>1.745169e+05</td>\n",
       "      <td>9.735610e+04</td>\n",
       "      <td>28509.7710</td>\n",
       "      <td>0.218099</td>\n",
       "      <td>11151.6220</td>\n",
       "      <td>3.868939</td>\n",
       "      <td>12374.447500</td>\n",
       "      <td>3.868939</td>\n",
       "    </tr>\n",
       "    <tr>\n",
       "      <th>0.96</th>\n",
       "      <td>1.0</td>\n",
       "      <td>2.210817e+06</td>\n",
       "      <td>7.485636e+05</td>\n",
       "      <td>9.345147e+05</td>\n",
       "      <td>1.272317e+05</td>\n",
       "      <td>4.0</td>\n",
       "      <td>310087.36</td>\n",
       "      <td>2.023185e+05</td>\n",
       "      <td>1.250932e+05</td>\n",
       "      <td>38992.1576</td>\n",
       "      <td>0.291889</td>\n",
       "      <td>16989.3000</td>\n",
       "      <td>7.334902</td>\n",
       "      <td>17488.372800</td>\n",
       "      <td>7.657806</td>\n",
       "    </tr>\n",
       "    <tr>\n",
       "      <th>0.97</th>\n",
       "      <td>1.0</td>\n",
       "      <td>2.485721e+06</td>\n",
       "      <td>8.374722e+05</td>\n",
       "      <td>1.012212e+06</td>\n",
       "      <td>1.911314e+05</td>\n",
       "      <td>4.0</td>\n",
       "      <td>357559.24</td>\n",
       "      <td>2.490516e+05</td>\n",
       "      <td>1.911314e+05</td>\n",
       "      <td>49594.5005</td>\n",
       "      <td>0.417744</td>\n",
       "      <td>28164.3329</td>\n",
       "      <td>15.392125</td>\n",
       "      <td>28008.873700</td>\n",
       "      <td>18.391204</td>\n",
       "    </tr>\n",
       "    <tr>\n",
       "      <th>0.98</th>\n",
       "      <td>1.0</td>\n",
       "      <td>2.763574e+06</td>\n",
       "      <td>9.211915e+05</td>\n",
       "      <td>1.189859e+06</td>\n",
       "      <td>2.706813e+05</td>\n",
       "      <td>4.0</td>\n",
       "      <td>438036.18</td>\n",
       "      <td>2.918742e+05</td>\n",
       "      <td>2.613144e+05</td>\n",
       "      <td>79799.2114</td>\n",
       "      <td>0.629506</td>\n",
       "      <td>46248.8754</td>\n",
       "      <td>197.280711</td>\n",
       "      <td>44517.806309</td>\n",
       "      <td>221.789883</td>\n",
       "    </tr>\n",
       "    <tr>\n",
       "      <th>0.99</th>\n",
       "      <td>1.0</td>\n",
       "      <td>3.213483e+06</td>\n",
       "      <td>1.076076e+06</td>\n",
       "      <td>1.373476e+06</td>\n",
       "      <td>4.275611e+05</td>\n",
       "      <td>4.0</td>\n",
       "      <td>630749.24</td>\n",
       "      <td>4.480324e+05</td>\n",
       "      <td>3.870960e+05</td>\n",
       "      <td>100500.0868</td>\n",
       "      <td>1.178728</td>\n",
       "      <td>102654.3230</td>\n",
       "      <td>3659.833571</td>\n",
       "      <td>117444.219295</td>\n",
       "      <td>3659.833571</td>\n",
       "    </tr>\n",
       "    <tr>\n",
       "      <th>1.00</th>\n",
       "      <td>1.0</td>\n",
       "      <td>4.803209e+06</td>\n",
       "      <td>1.601070e+06</td>\n",
       "      <td>2.514941e+06</td>\n",
       "      <td>1.938916e+06</td>\n",
       "      <td>4.0</td>\n",
       "      <td>1598900.00</td>\n",
       "      <td>2.051160e+06</td>\n",
       "      <td>1.938916e+06</td>\n",
       "      <td>866562.4700</td>\n",
       "      <td>13.462875</td>\n",
       "      <td>941816.3500</td>\n",
       "      <td>851658.720900</td>\n",
       "      <td>941816.350000</td>\n",
       "      <td>851658.720900</td>\n",
       "    </tr>\n",
       "  </tbody>\n",
       "</table>\n",
       "</div>"
      ],
      "text/plain": [
       "      impactado         saldo  saldo_promedio  deuda_sistea        pasivo  \\\n",
       "0.91        1.0  1.374676e+06    4.625547e+05  6.326905e+05  4.672841e+04   \n",
       "0.92        1.0  1.495366e+06    5.005225e+05  6.859386e+05  5.439849e+04   \n",
       "0.93        1.0  1.620680e+06    5.413288e+05  7.420213e+05  7.037620e+04   \n",
       "0.94        1.0  1.762212e+06    5.952822e+05  7.935966e+05  8.471576e+04   \n",
       "0.95        1.0  1.954504e+06    6.553111e+05  8.592521e+05  9.877850e+04   \n",
       "0.96        1.0  2.210817e+06    7.485636e+05  9.345147e+05  1.272317e+05   \n",
       "0.97        1.0  2.485721e+06    8.374722e+05  1.012212e+06  1.911314e+05   \n",
       "0.98        1.0  2.763574e+06    9.211915e+05  1.189859e+06  2.706813e+05   \n",
       "0.99        1.0  3.213483e+06    1.076076e+06  1.373476e+06  4.275611e+05   \n",
       "1.00        1.0  4.803209e+06    1.601070e+06  2.514941e+06  1.938916e+06   \n",
       "\n",
       "      sector_de_impacto       venta  venta_formal  pasivo_desembolso  \\\n",
       "0.91                4.0   208441.60  1.118369e+05       4.582617e+04   \n",
       "0.92                4.0   219962.00  1.227113e+05       5.336609e+04   \n",
       "0.93                4.0   238375.18  1.333197e+05       6.544317e+04   \n",
       "0.94                4.0   260713.00  1.573550e+05       8.150748e+04   \n",
       "0.95                4.0   285190.00  1.745169e+05       9.735610e+04   \n",
       "0.96                4.0   310087.36  2.023185e+05       1.250932e+05   \n",
       "0.97                4.0   357559.24  2.490516e+05       1.911314e+05   \n",
       "0.98                4.0   438036.18  2.918742e+05       2.613144e+05   \n",
       "0.99                4.0   630749.24  4.480324e+05       3.870960e+05   \n",
       "1.00                4.0  1598900.00  2.051160e+06       1.938916e+06   \n",
       "\n",
       "      deuda_rezagada_va  deuda_rezagada_vr  pasivo_rezagada_va  \\\n",
       "0.91         10986.9160           0.097099           2721.3318   \n",
       "0.92         13961.1952           0.123199           3942.5176   \n",
       "0.93         17200.3634           0.147177           5215.4855   \n",
       "0.94         22080.1464           0.185025           7805.0506   \n",
       "0.95         28509.7710           0.218099          11151.6220   \n",
       "0.96         38992.1576           0.291889          16989.3000   \n",
       "0.97         49594.5005           0.417744          28164.3329   \n",
       "0.98         79799.2114           0.629506          46248.8754   \n",
       "0.99        100500.0868           1.178728         102654.3230   \n",
       "1.00        866562.4700          13.462875         941816.3500   \n",
       "\n",
       "      pasivo_rezagada_vr  pasivo_desembolso_da  pasivo_desembolso_dr  \n",
       "0.91            0.868561           3221.407800              0.890909  \n",
       "0.92            1.267219           4315.479200              1.267219  \n",
       "0.93            1.751382           6026.562800              1.751382  \n",
       "0.94            2.376331           8211.371000              2.376331  \n",
       "0.95            3.868939          12374.447500              3.868939  \n",
       "0.96            7.334902          17488.372800              7.657806  \n",
       "0.97           15.392125          28008.873700             18.391204  \n",
       "0.98          197.280711          44517.806309            221.789883  \n",
       "0.99         3659.833571         117444.219295           3659.833571  \n",
       "1.00       851658.720900         941816.350000         851658.720900  "
      ]
     },
     "execution_count": 40,
     "metadata": {},
     "output_type": "execute_result"
    }
   ],
   "source": [
    "data[numerical_columns].quantile(high_pp)"
   ]
  },
  {
   "cell_type": "code",
   "execution_count": 41,
   "id": "5095a8b8",
   "metadata": {},
   "outputs": [
    {
     "name": "stdout",
     "output_type": "stream",
     "text": [
      "\n",
      "\n",
      " → Ratios of <<saldo>> column: (92.5%-95% → 1.247) (95-97.5%% → 1.333) (97.5%-max → 1.843)\n",
      "\n",
      " → Ratios of <<saldo_promedio>> column: (92.5%-95% → 1.241) (95-97.5%% → 1.326) (97.5%-max → 1.843)\n",
      "\n",
      " → Ratios of <<deuda_sistea>> column: (92.5%-95% → 1.208) (95-97.5%% → 1.259) (97.5%-max → 2.325)\n",
      "\n",
      " → Ratios of <<pasivo>> column: (92.5%-95% → 1.637) (95-97.5%% → 2.167) (97.5%-max → 9.056)\n",
      "\n",
      " → Ratios of <<sector_de_impacto>> column: (92.5%-95% → 1.0) (95-97.5%% → 1.0) (97.5%-max → 1.0)\n",
      "\n",
      " → Ratios of <<venta>> column: (92.5%-95% → 1.249) (95-97.5%% → 1.415) (97.5%-max → 3.963)\n",
      "\n",
      " → Ratios of <<venta_formal>> column: (92.5%-95% → 1.367) (95-97.5%% → 1.522) (97.5%-max → 7.724)\n",
      "\n",
      " → Ratios of <<pasivo_desembolso>> column: (92.5%-95% → 1.63) (95-97.5%% → 2.199) (97.5%-max → 9.056)\n",
      "\n",
      " → Ratios of <<deuda_rezagada_va>> column: (92.5%-95% → 1.846) (95-97.5%% → 2.087) (97.5%-max → 14.562)\n",
      "\n",
      " → Ratios of <<deuda_rezagada_vr>> column: (92.5%-95% → 1.692) (95-97.5%% → 2.273) (97.5%-max → 26.92)\n",
      "\n",
      " → Ratios of <<pasivo_rezagada_va>> column: (92.5%-95% → 2.52) (95-97.5%% → 3.335) (97.5%-max → 25.322)\n",
      "\n",
      " → Ratios of <<pasivo_rezagada_vr>> column: (92.5%-95% → 2.706) (95-97.5%% → 19.902) (97.5%-max → 11057.631)\n",
      "\n",
      " → Ratios of <<pasivo_desembolso_da>> column: (92.5%-95% → 2.444) (95-97.5%% → 2.891) (97.5%-max → 26.33)\n",
      "\n",
      " → Ratios of <<pasivo_desembolso_dr>> column: (92.5%-95% → 2.706) (95-97.5%% → 23.349) (97.5%-max → 9425.174)\n"
     ]
    }
   ],
   "source": [
    "get_max_outliers_ratio(data.describe(percentiles=[0.925, 0.95, 0.975]))"
   ]
  },
  {
   "cell_type": "code",
   "execution_count": 42,
   "id": "59c1fac4",
   "metadata": {},
   "outputs": [
    {
     "data": {
      "image/png": "[encoded data removed]",
      "text/plain": [
       "<Figure size 1008x360 with 1 Axes>"
      ]
     },
     "metadata": {
      "needs_background": "light"
     },
     "output_type": "display_data"
    }
   ],
   "source": [
    "fig, ax = plt.subplots()\n",
    "fig.set_size_inches(14,5)\n",
    "ax = sns.boxplot(data=data, orient='h')\n",
    "plt.title('Boxplot de apoyo')\n",
    "plt.xticks(rotation=90)\n",
    "plt.show()"
   ]
  },
  {
   "cell_type": "code",
   "execution_count": 43,
   "id": "af00f41d",
   "metadata": {},
   "outputs": [],
   "source": [
    "pp_df_top = data[numerical_columns].describe(percentiles=[0.90, 0.925, 0.95, 0.975])"
   ]
  },
  {
   "cell_type": "code",
   "execution_count": 44,
   "id": "61be20d8",
   "metadata": {},
   "outputs": [
    {
     "data": {
      "text/html": [
       "<div>\n",
       "<style scoped>\n",
       "    .dataframe tbody tr th:only-of-type {\n",
       "        vertical-align: middle;\n",
       "    }\n",
       "\n",
       "    .dataframe tbody tr th {\n",
       "        vertical-align: top;\n",
       "    }\n",
       "\n",
       "    .dataframe thead th {\n",
       "        text-align: right;\n",
       "    }\n",
       "</style>\n",
       "<table border=\"1\" class=\"dataframe\">\n",
       "  <thead>\n",
       "    <tr style=\"text-align: right;\">\n",
       "      <th></th>\n",
       "      <th>impactado</th>\n",
       "      <th>saldo</th>\n",
       "      <th>saldo_promedio</th>\n",
       "      <th>deuda_sistea</th>\n",
       "      <th>pasivo</th>\n",
       "      <th>sector_de_impacto</th>\n",
       "      <th>venta</th>\n",
       "      <th>venta_formal</th>\n",
       "      <th>pasivo_desembolso</th>\n",
       "      <th>deuda_rezagada_va</th>\n",
       "      <th>deuda_rezagada_vr</th>\n",
       "      <th>pasivo_rezagada_va</th>\n",
       "      <th>pasivo_rezagada_vr</th>\n",
       "      <th>pasivo_desembolso_da</th>\n",
       "      <th>pasivo_desembolso_dr</th>\n",
       "    </tr>\n",
       "  </thead>\n",
       "  <tbody>\n",
       "    <tr>\n",
       "      <th>count</th>\n",
       "      <td>1998.000000</td>\n",
       "      <td>1.998000e+03</td>\n",
       "      <td>1.998000e+03</td>\n",
       "      <td>1.998000e+03</td>\n",
       "      <td>1.998000e+03</td>\n",
       "      <td>1998.000000</td>\n",
       "      <td>1.998000e+03</td>\n",
       "      <td>1.998000e+03</td>\n",
       "      <td>1.998000e+03</td>\n",
       "      <td>1998.000000</td>\n",
       "      <td>1998.000000</td>\n",
       "      <td>1998.000000</td>\n",
       "      <td>1998.000000</td>\n",
       "      <td>1998.000000</td>\n",
       "      <td>1998.000000</td>\n",
       "    </tr>\n",
       "    <tr>\n",
       "      <th>mean</th>\n",
       "      <td>0.500000</td>\n",
       "      <td>4.804935e+05</td>\n",
       "      <td>1.617572e+05</td>\n",
       "      <td>2.483966e+05</td>\n",
       "      <td>2.417518e+04</td>\n",
       "      <td>3.049550</td>\n",
       "      <td>1.002791e+05</td>\n",
       "      <td>3.854919e+04</td>\n",
       "      <td>2.387133e+04</td>\n",
       "      <td>-951.555845</td>\n",
       "      <td>0.027933</td>\n",
       "      <td>-7306.920795</td>\n",
       "      <td>852.139611</td>\n",
       "      <td>-8022.550882</td>\n",
       "      <td>852.446610</td>\n",
       "    </tr>\n",
       "    <tr>\n",
       "      <th>std</th>\n",
       "      <td>0.500125</td>\n",
       "      <td>6.504861e+05</td>\n",
       "      <td>2.185488e+05</td>\n",
       "      <td>2.893199e+05</td>\n",
       "      <td>1.073012e+05</td>\n",
       "      <td>0.935072</td>\n",
       "      <td>1.183857e+05</td>\n",
       "      <td>9.858228e+04</td>\n",
       "      <td>1.069553e+05</td>\n",
       "      <td>37336.241419</td>\n",
       "      <td>0.545281</td>\n",
       "      <td>39192.027040</td>\n",
       "      <td>21057.347436</td>\n",
       "      <td>41940.290104</td>\n",
       "      <td>21057.338533</td>\n",
       "    </tr>\n",
       "    <tr>\n",
       "      <th>min</th>\n",
       "      <td>0.000000</td>\n",
       "      <td>1.099291e+04</td>\n",
       "      <td>3.886581e+03</td>\n",
       "      <td>3.050061e+03</td>\n",
       "      <td>0.000000e+00</td>\n",
       "      <td>1.000000</td>\n",
       "      <td>2.100000e+03</td>\n",
       "      <td>0.000000e+00</td>\n",
       "      <td>0.000000e+00</td>\n",
       "      <td>-62467.720750</td>\n",
       "      <td>-1.000000</td>\n",
       "      <td>-67688.516250</td>\n",
       "      <td>-1.000000</td>\n",
       "      <td>-96817.654000</td>\n",
       "      <td>-8.786353</td>\n",
       "    </tr>\n",
       "    <tr>\n",
       "      <th>50%</th>\n",
       "      <td>0.500000</td>\n",
       "      <td>2.442257e+05</td>\n",
       "      <td>8.222412e+04</td>\n",
       "      <td>1.540272e+05</td>\n",
       "      <td>2.558310e+03</td>\n",
       "      <td>3.000000</td>\n",
       "      <td>6.950000e+04</td>\n",
       "      <td>8.333000e+03</td>\n",
       "      <td>2.528565e+03</td>\n",
       "      <td>-2179.090000</td>\n",
       "      <td>-0.014269</td>\n",
       "      <td>-3174.290000</td>\n",
       "      <td>-0.550924</td>\n",
       "      <td>-2548.500000</td>\n",
       "      <td>-0.543144</td>\n",
       "    </tr>\n",
       "    <tr>\n",
       "      <th>90%</th>\n",
       "      <td>1.000000</td>\n",
       "      <td>1.248246e+06</td>\n",
       "      <td>4.178836e+05</td>\n",
       "      <td>5.992101e+05</td>\n",
       "      <td>3.996061e+04</td>\n",
       "      <td>4.000000</td>\n",
       "      <td>1.974299e+05</td>\n",
       "      <td>1.001341e+05</td>\n",
       "      <td>3.880008e+04</td>\n",
       "      <td>9085.167000</td>\n",
       "      <td>0.075927</td>\n",
       "      <td>2027.907000</td>\n",
       "      <td>0.656644</td>\n",
       "      <td>2497.446000</td>\n",
       "      <td>0.671356</td>\n",
       "    </tr>\n",
       "    <tr>\n",
       "      <th>92.5%</th>\n",
       "      <td>1.000000</td>\n",
       "      <td>1.567236e+06</td>\n",
       "      <td>5.279077e+05</td>\n",
       "      <td>7.111462e+05</td>\n",
       "      <td>6.034329e+04</td>\n",
       "      <td>4.000000</td>\n",
       "      <td>2.283600e+05</td>\n",
       "      <td>1.276840e+05</td>\n",
       "      <td>5.973770e+04</td>\n",
       "      <td>15442.224250</td>\n",
       "      <td>0.133146</td>\n",
       "      <td>4425.744750</td>\n",
       "      <td>1.430311</td>\n",
       "      <td>5063.794750</td>\n",
       "      <td>1.430311</td>\n",
       "    </tr>\n",
       "    <tr>\n",
       "      <th>95%</th>\n",
       "      <td>1.000000</td>\n",
       "      <td>1.954504e+06</td>\n",
       "      <td>6.553111e+05</td>\n",
       "      <td>8.592521e+05</td>\n",
       "      <td>9.877850e+04</td>\n",
       "      <td>4.000000</td>\n",
       "      <td>2.851900e+05</td>\n",
       "      <td>1.745169e+05</td>\n",
       "      <td>9.735610e+04</td>\n",
       "      <td>28509.771000</td>\n",
       "      <td>0.218099</td>\n",
       "      <td>11151.622000</td>\n",
       "      <td>3.868939</td>\n",
       "      <td>12374.447500</td>\n",
       "      <td>3.868939</td>\n",
       "    </tr>\n",
       "    <tr>\n",
       "      <th>97.5%</th>\n",
       "      <td>1.000000</td>\n",
       "      <td>2.606308e+06</td>\n",
       "      <td>8.687693e+05</td>\n",
       "      <td>1.081799e+06</td>\n",
       "      <td>2.140997e+05</td>\n",
       "      <td>4.000000</td>\n",
       "      <td>4.034495e+05</td>\n",
       "      <td>2.655683e+05</td>\n",
       "      <td>2.140997e+05</td>\n",
       "      <td>59509.856750</td>\n",
       "      <td>0.504215</td>\n",
       "      <td>37193.201500</td>\n",
       "      <td>77.020827</td>\n",
       "      <td>35769.403000</td>\n",
       "      <td>90.355652</td>\n",
       "    </tr>\n",
       "    <tr>\n",
       "      <th>max</th>\n",
       "      <td>1.000000</td>\n",
       "      <td>4.803209e+06</td>\n",
       "      <td>1.601070e+06</td>\n",
       "      <td>2.514941e+06</td>\n",
       "      <td>1.938916e+06</td>\n",
       "      <td>4.000000</td>\n",
       "      <td>1.598900e+06</td>\n",
       "      <td>2.051160e+06</td>\n",
       "      <td>1.938916e+06</td>\n",
       "      <td>866562.470000</td>\n",
       "      <td>13.462875</td>\n",
       "      <td>941816.350000</td>\n",
       "      <td>851658.720900</td>\n",
       "      <td>941816.350000</td>\n",
       "      <td>851658.720900</td>\n",
       "    </tr>\n",
       "  </tbody>\n",
       "</table>\n",
       "</div>"
      ],
      "text/plain": [
       "         impactado         saldo  saldo_promedio  deuda_sistea        pasivo  \\\n",
       "count  1998.000000  1.998000e+03    1.998000e+03  1.998000e+03  1.998000e+03   \n",
       "mean      0.500000  4.804935e+05    1.617572e+05  2.483966e+05  2.417518e+04   \n",
       "std       0.500125  6.504861e+05    2.185488e+05  2.893199e+05  1.073012e+05   \n",
       "min       0.000000  1.099291e+04    3.886581e+03  3.050061e+03  0.000000e+00   \n",
       "50%       0.500000  2.442257e+05    8.222412e+04  1.540272e+05  2.558310e+03   \n",
       "90%       1.000000  1.248246e+06    4.178836e+05  5.992101e+05  3.996061e+04   \n",
       "92.5%     1.000000  1.567236e+06    5.279077e+05  7.111462e+05  6.034329e+04   \n",
       "95%       1.000000  1.954504e+06    6.553111e+05  8.592521e+05  9.877850e+04   \n",
       "97.5%     1.000000  2.606308e+06    8.687693e+05  1.081799e+06  2.140997e+05   \n",
       "max       1.000000  4.803209e+06    1.601070e+06  2.514941e+06  1.938916e+06   \n",
       "\n",
       "       sector_de_impacto         venta  venta_formal  pasivo_desembolso  \\\n",
       "count        1998.000000  1.998000e+03  1.998000e+03       1.998000e+03   \n",
       "mean            3.049550  1.002791e+05  3.854919e+04       2.387133e+04   \n",
       "std             0.935072  1.183857e+05  9.858228e+04       1.069553e+05   \n",
       "min             1.000000  2.100000e+03  0.000000e+00       0.000000e+00   \n",
       "50%             3.000000  6.950000e+04  8.333000e+03       2.528565e+03   \n",
       "90%             4.000000  1.974299e+05  1.001341e+05       3.880008e+04   \n",
       "92.5%           4.000000  2.283600e+05  1.276840e+05       5.973770e+04   \n",
       "95%             4.000000  2.851900e+05  1.745169e+05       9.735610e+04   \n",
       "97.5%           4.000000  4.034495e+05  2.655683e+05       2.140997e+05   \n",
       "max             4.000000  1.598900e+06  2.051160e+06       1.938916e+06   \n",
       "\n",
       "       deuda_rezagada_va  deuda_rezagada_vr  pasivo_rezagada_va  \\\n",
       "count        1998.000000        1998.000000         1998.000000   \n",
       "mean         -951.555845           0.027933        -7306.920795   \n",
       "std         37336.241419           0.545281        39192.027040   \n",
       "min        -62467.720750          -1.000000       -67688.516250   \n",
       "50%         -2179.090000          -0.014269        -3174.290000   \n",
       "90%          9085.167000           0.075927         2027.907000   \n",
       "92.5%       15442.224250           0.133146         4425.744750   \n",
       "95%         28509.771000           0.218099        11151.622000   \n",
       "97.5%       59509.856750           0.504215        37193.201500   \n",
       "max        866562.470000          13.462875       941816.350000   \n",
       "\n",
       "       pasivo_rezagada_vr  pasivo_desembolso_da  pasivo_desembolso_dr  \n",
       "count         1998.000000           1998.000000           1998.000000  \n",
       "mean           852.139611          -8022.550882            852.446610  \n",
       "std          21057.347436          41940.290104          21057.338533  \n",
       "min             -1.000000         -96817.654000             -8.786353  \n",
       "50%             -0.550924          -2548.500000             -0.543144  \n",
       "90%              0.656644           2497.446000              0.671356  \n",
       "92.5%            1.430311           5063.794750              1.430311  \n",
       "95%              3.868939          12374.447500              3.868939  \n",
       "97.5%           77.020827          35769.403000             90.355652  \n",
       "max         851658.720900         941816.350000         851658.720900  "
      ]
     },
     "execution_count": 44,
     "metadata": {},
     "output_type": "execute_result"
    }
   ],
   "source": [
    "pp_df_top"
   ]
  },
  {
   "cell_type": "code",
   "execution_count": 45,
   "id": "66b45d95",
   "metadata": {},
   "outputs": [],
   "source": [
    "# Capeo de variables\n",
    "for var in numerical_columns:\n",
    "    value = pp_df_top.loc['92.5%', str(var)] # capeo todas las variables al 92.5%\n",
    "    data[str(var)] = np.where(data[str(var)] > value, value, data[str(var)])"
   ]
  },
  {
   "cell_type": "code",
   "execution_count": 46,
   "id": "b377aaa9",
   "metadata": {
    "scrolled": true
   },
   "outputs": [
    {
     "data": {
      "image/png": "[encoded data removed]",
      "text/plain": [
       "<Figure size 1008x360 with 1 Axes>"
      ]
     },
     "metadata": {
      "needs_background": "light"
     },
     "output_type": "display_data"
    }
   ],
   "source": [
    "fig, ax = plt.subplots()\n",
    "fig.set_size_inches(14,5)\n",
    "ax = sns.boxplot(data=data, orient='h')\n",
    "plt.title('Boxplot de verificación de reducción de valores atípicos')\n",
    "plt.xticks(rotation=90)\n",
    "plt.show()"
   ]
  },
  {
   "cell_type": "markdown",
   "id": "b1060f96",
   "metadata": {},
   "source": [
    "### 3.3.2 Detección Multivariante"
   ]
  },
  {
   "cell_type": "code",
   "execution_count": 47,
   "id": "f8c596c1",
   "metadata": {},
   "outputs": [],
   "source": [
    "x_all = data.copy()"
   ]
  },
  {
   "cell_type": "code",
   "execution_count": 48,
   "id": "93f954be",
   "metadata": {},
   "outputs": [
    {
     "data": {
      "text/plain": [
       "(1998, 17)"
      ]
     },
     "execution_count": 48,
     "metadata": {},
     "output_type": "execute_result"
    }
   ],
   "source": [
    "x_all.shape"
   ]
  },
  {
   "cell_type": "code",
   "execution_count": 49,
   "id": "286aa14d",
   "metadata": {},
   "outputs": [],
   "source": [
    "x = x_all[numerical_columns]\n",
    "x_cat = x_all[categorical_columns]"
   ]
  },
  {
   "cell_type": "code",
   "execution_count": 50,
   "id": "5f835150",
   "metadata": {},
   "outputs": [
    {
     "data": {
      "text/plain": [
       "((1998, 15), (1998, 2))"
      ]
     },
     "execution_count": 50,
     "metadata": {},
     "output_type": "execute_result"
    }
   ],
   "source": [
    "x.shape, x_cat.shape"
   ]
  },
  {
   "cell_type": "code",
   "execution_count": 51,
   "id": "94a130c0",
   "metadata": {},
   "outputs": [
    {
     "data": {
      "text/html": [
       "<div>\n",
       "<style scoped>\n",
       "    .dataframe tbody tr th:only-of-type {\n",
       "        vertical-align: middle;\n",
       "    }\n",
       "\n",
       "    .dataframe tbody tr th {\n",
       "        vertical-align: top;\n",
       "    }\n",
       "\n",
       "    .dataframe thead th {\n",
       "        text-align: right;\n",
       "    }\n",
       "</style>\n",
       "<table border=\"1\" class=\"dataframe\">\n",
       "  <thead>\n",
       "    <tr style=\"text-align: right;\">\n",
       "      <th></th>\n",
       "      <th>impactado</th>\n",
       "      <th>saldo</th>\n",
       "      <th>saldo_promedio</th>\n",
       "      <th>deuda_sistea</th>\n",
       "      <th>pasivo</th>\n",
       "      <th>sector_de_impacto</th>\n",
       "      <th>venta</th>\n",
       "      <th>venta_formal</th>\n",
       "      <th>pasivo_desembolso</th>\n",
       "      <th>deuda_rezagada_va</th>\n",
       "      <th>deuda_rezagada_vr</th>\n",
       "      <th>pasivo_rezagada_va</th>\n",
       "      <th>pasivo_rezagada_vr</th>\n",
       "      <th>pasivo_desembolso_da</th>\n",
       "      <th>pasivo_desembolso_dr</th>\n",
       "    </tr>\n",
       "  </thead>\n",
       "  <tbody>\n",
       "    <tr>\n",
       "      <th>702</th>\n",
       "      <td>0.0</td>\n",
       "      <td>183508.1986</td>\n",
       "      <td>61169.39952</td>\n",
       "      <td>254580.51</td>\n",
       "      <td>1033.55</td>\n",
       "      <td>2.0</td>\n",
       "      <td>50000.0</td>\n",
       "      <td>5000.00</td>\n",
       "      <td>1033.550</td>\n",
       "      <td>-3030.66</td>\n",
       "      <td>-0.011764</td>\n",
       "      <td>1033.55000</td>\n",
       "      <td>-0.550924</td>\n",
       "      <td>1033.550</td>\n",
       "      <td>-0.543144</td>\n",
       "    </tr>\n",
       "    <tr>\n",
       "      <th>1935</th>\n",
       "      <td>1.0</td>\n",
       "      <td>146714.0546</td>\n",
       "      <td>48904.68486</td>\n",
       "      <td>50776.90</td>\n",
       "      <td>9.31</td>\n",
       "      <td>3.0</td>\n",
       "      <td>53750.0</td>\n",
       "      <td>8765.33</td>\n",
       "      <td>9.310</td>\n",
       "      <td>-4231.08</td>\n",
       "      <td>-0.076918</td>\n",
       "      <td>-3447.76000</td>\n",
       "      <td>-0.997307</td>\n",
       "      <td>-3447.760</td>\n",
       "      <td>-0.997307</td>\n",
       "    </tr>\n",
       "    <tr>\n",
       "      <th>373</th>\n",
       "      <td>0.0</td>\n",
       "      <td>962423.2744</td>\n",
       "      <td>320807.75810</td>\n",
       "      <td>374411.92</td>\n",
       "      <td>200.81</td>\n",
       "      <td>3.0</td>\n",
       "      <td>88035.0</td>\n",
       "      <td>52441.25</td>\n",
       "      <td>200.810</td>\n",
       "      <td>-16071.85</td>\n",
       "      <td>-0.041159</td>\n",
       "      <td>-67688.51625</td>\n",
       "      <td>-0.998906</td>\n",
       "      <td>-96817.654</td>\n",
       "      <td>-0.998906</td>\n",
       "    </tr>\n",
       "    <tr>\n",
       "      <th>563</th>\n",
       "      <td>0.0</td>\n",
       "      <td>308444.7521</td>\n",
       "      <td>102814.91740</td>\n",
       "      <td>117536.88</td>\n",
       "      <td>0.01</td>\n",
       "      <td>4.0</td>\n",
       "      <td>138450.0</td>\n",
       "      <td>0.00</td>\n",
       "      <td>0.010</td>\n",
       "      <td>11209.12</td>\n",
       "      <td>0.105420</td>\n",
       "      <td>0.00000</td>\n",
       "      <td>0.000000</td>\n",
       "      <td>0.000</td>\n",
       "      <td>0.000000</td>\n",
       "    </tr>\n",
       "    <tr>\n",
       "      <th>1714</th>\n",
       "      <td>1.0</td>\n",
       "      <td>225956.5283</td>\n",
       "      <td>75318.84276</td>\n",
       "      <td>89359.48</td>\n",
       "      <td>2558.31</td>\n",
       "      <td>3.0</td>\n",
       "      <td>55715.0</td>\n",
       "      <td>0.00</td>\n",
       "      <td>2528.565</td>\n",
       "      <td>-318.87</td>\n",
       "      <td>-0.003556</td>\n",
       "      <td>-3174.29000</td>\n",
       "      <td>-0.550924</td>\n",
       "      <td>-2548.500</td>\n",
       "      <td>-0.543144</td>\n",
       "    </tr>\n",
       "  </tbody>\n",
       "</table>\n",
       "</div>"
      ],
      "text/plain": [
       "      impactado        saldo  saldo_promedio  deuda_sistea   pasivo  \\\n",
       "702         0.0  183508.1986     61169.39952     254580.51  1033.55   \n",
       "1935        1.0  146714.0546     48904.68486      50776.90     9.31   \n",
       "373         0.0  962423.2744    320807.75810     374411.92   200.81   \n",
       "563         0.0  308444.7521    102814.91740     117536.88     0.01   \n",
       "1714        1.0  225956.5283     75318.84276      89359.48  2558.31   \n",
       "\n",
       "      sector_de_impacto     venta  venta_formal  pasivo_desembolso  \\\n",
       "702                 2.0   50000.0       5000.00           1033.550   \n",
       "1935                3.0   53750.0       8765.33              9.310   \n",
       "373                 3.0   88035.0      52441.25            200.810   \n",
       "563                 4.0  138450.0          0.00              0.010   \n",
       "1714                3.0   55715.0          0.00           2528.565   \n",
       "\n",
       "      deuda_rezagada_va  deuda_rezagada_vr  pasivo_rezagada_va  \\\n",
       "702            -3030.66          -0.011764          1033.55000   \n",
       "1935           -4231.08          -0.076918         -3447.76000   \n",
       "373           -16071.85          -0.041159        -67688.51625   \n",
       "563            11209.12           0.105420             0.00000   \n",
       "1714            -318.87          -0.003556         -3174.29000   \n",
       "\n",
       "      pasivo_rezagada_vr  pasivo_desembolso_da  pasivo_desembolso_dr  \n",
       "702            -0.550924              1033.550             -0.543144  \n",
       "1935           -0.997307             -3447.760             -0.997307  \n",
       "373            -0.998906            -96817.654             -0.998906  \n",
       "563             0.000000                 0.000              0.000000  \n",
       "1714           -0.550924             -2548.500             -0.543144  "
      ]
     },
     "execution_count": 51,
     "metadata": {},
     "output_type": "execute_result"
    }
   ],
   "source": [
    "x.sample(5)"
   ]
  },
  {
   "cell_type": "code",
   "execution_count": 52,
   "id": "2d0d3c0c",
   "metadata": {},
   "outputs": [],
   "source": [
    "Sx = x.cov().values"
   ]
  },
  {
   "cell_type": "code",
   "execution_count": 53,
   "id": "5c82c5b9",
   "metadata": {},
   "outputs": [],
   "source": [
    "ISx = sp.linalg.inv(Sx)"
   ]
  },
  {
   "cell_type": "code",
   "execution_count": 54,
   "id": "8b25ce0f",
   "metadata": {},
   "outputs": [],
   "source": [
    "centroid = x.mean().values"
   ]
  },
  {
   "cell_type": "code",
   "execution_count": 55,
   "id": "828eb429",
   "metadata": {},
   "outputs": [],
   "source": [
    "def fn_mahalanobis(x, centroid, ISx):\n",
    "    m = []\n",
    "    # Calculo la DM para cada fila\n",
    "    for i in range(x.shape[0]):\n",
    "        m.append(mahalanobis(x.iloc[i, :], centroid, ISx))\n",
    "                 \n",
    "    return (m)"
   ]
  },
  {
   "cell_type": "code",
   "execution_count": 56,
   "id": "617e7a0a",
   "metadata": {},
   "outputs": [],
   "source": [
    "md = pd.DataFrame(fn_mahalanobis(x,centroid,ISx), columns=[\"md\"])\n",
    "x[\"MD\"] = md"
   ]
  },
  {
   "cell_type": "code",
   "execution_count": 57,
   "id": "103edb43",
   "metadata": {},
   "outputs": [
    {
     "data": {
      "text/html": [
       "<div>\n",
       "<style scoped>\n",
       "    .dataframe tbody tr th:only-of-type {\n",
       "        vertical-align: middle;\n",
       "    }\n",
       "\n",
       "    .dataframe tbody tr th {\n",
       "        vertical-align: top;\n",
       "    }\n",
       "\n",
       "    .dataframe thead th {\n",
       "        text-align: right;\n",
       "    }\n",
       "</style>\n",
       "<table border=\"1\" class=\"dataframe\">\n",
       "  <thead>\n",
       "    <tr style=\"text-align: right;\">\n",
       "      <th></th>\n",
       "      <th>impactado</th>\n",
       "      <th>saldo</th>\n",
       "      <th>saldo_promedio</th>\n",
       "      <th>deuda_sistea</th>\n",
       "      <th>pasivo</th>\n",
       "      <th>sector_de_impacto</th>\n",
       "      <th>venta</th>\n",
       "      <th>venta_formal</th>\n",
       "      <th>pasivo_desembolso</th>\n",
       "      <th>deuda_rezagada_va</th>\n",
       "      <th>deuda_rezagada_vr</th>\n",
       "      <th>pasivo_rezagada_va</th>\n",
       "      <th>pasivo_rezagada_vr</th>\n",
       "      <th>pasivo_desembolso_da</th>\n",
       "      <th>pasivo_desembolso_dr</th>\n",
       "      <th>MD</th>\n",
       "      <th>sector</th>\n",
       "      <th>dep</th>\n",
       "    </tr>\n",
       "  </thead>\n",
       "  <tbody>\n",
       "    <tr>\n",
       "      <th>0</th>\n",
       "      <td>0.0</td>\n",
       "      <td>56643.100920</td>\n",
       "      <td>28321.550460</td>\n",
       "      <td>31365.7300</td>\n",
       "      <td>5876.82</td>\n",
       "      <td>3.0</td>\n",
       "      <td>108400.0</td>\n",
       "      <td>43741.080</td>\n",
       "      <td>5876.820</td>\n",
       "      <td>-800.65000</td>\n",
       "      <td>-0.024891</td>\n",
       "      <td>830.82</td>\n",
       "      <td>0.164649</td>\n",
       "      <td>830.82</td>\n",
       "      <td>0.164649</td>\n",
       "      <td>2.558554</td>\n",
       "      <td>INDUSTRIA</td>\n",
       "      <td>Lima</td>\n",
       "    </tr>\n",
       "    <tr>\n",
       "      <th>1</th>\n",
       "      <td>0.0</td>\n",
       "      <td>190313.994600</td>\n",
       "      <td>63437.998180</td>\n",
       "      <td>64864.9900</td>\n",
       "      <td>4467.40</td>\n",
       "      <td>4.0</td>\n",
       "      <td>105300.0</td>\n",
       "      <td>69737.170</td>\n",
       "      <td>4467.400</td>\n",
       "      <td>-2810.52000</td>\n",
       "      <td>-0.041529</td>\n",
       "      <td>-7043.43</td>\n",
       "      <td>-0.611896</td>\n",
       "      <td>-7043.43</td>\n",
       "      <td>-0.611896</td>\n",
       "      <td>2.356606</td>\n",
       "      <td>COMERCIO</td>\n",
       "      <td>Arequipa</td>\n",
       "    </tr>\n",
       "    <tr>\n",
       "      <th>2</th>\n",
       "      <td>0.0</td>\n",
       "      <td>547601.573600</td>\n",
       "      <td>182533.857900</td>\n",
       "      <td>200239.3200</td>\n",
       "      <td>5000.92</td>\n",
       "      <td>1.0</td>\n",
       "      <td>86600.0</td>\n",
       "      <td>79178.830</td>\n",
       "      <td>5000.920</td>\n",
       "      <td>653.68000</td>\n",
       "      <td>0.003275</td>\n",
       "      <td>2000.92</td>\n",
       "      <td>0.666973</td>\n",
       "      <td>2000.92</td>\n",
       "      <td>0.666973</td>\n",
       "      <td>3.776162</td>\n",
       "      <td>SERVICIO</td>\n",
       "      <td>Amazonas</td>\n",
       "    </tr>\n",
       "    <tr>\n",
       "      <th>3</th>\n",
       "      <td>0.0</td>\n",
       "      <td>283914.208400</td>\n",
       "      <td>94638.069470</td>\n",
       "      <td>112945.1700</td>\n",
       "      <td>325.50</td>\n",
       "      <td>3.0</td>\n",
       "      <td>103000.0</td>\n",
       "      <td>0.000</td>\n",
       "      <td>325.500</td>\n",
       "      <td>14820.77000</td>\n",
       "      <td>0.133146</td>\n",
       "      <td>-17128.30</td>\n",
       "      <td>-0.981351</td>\n",
       "      <td>-17128.30</td>\n",
       "      <td>-0.981351</td>\n",
       "      <td>2.676896</td>\n",
       "      <td>INDUSTRIA</td>\n",
       "      <td>Lima</td>\n",
       "    </tr>\n",
       "    <tr>\n",
       "      <th>4</th>\n",
       "      <td>0.0</td>\n",
       "      <td>142296.438400</td>\n",
       "      <td>47432.146120</td>\n",
       "      <td>144877.2100</td>\n",
       "      <td>0.00</td>\n",
       "      <td>4.0</td>\n",
       "      <td>172920.0</td>\n",
       "      <td>127683.962</td>\n",
       "      <td>0.000</td>\n",
       "      <td>15442.22425</td>\n",
       "      <td>0.133146</td>\n",
       "      <td>-2071.80</td>\n",
       "      <td>-1.000000</td>\n",
       "      <td>-2071.80</td>\n",
       "      <td>-1.000000</td>\n",
       "      <td>4.496472</td>\n",
       "      <td>COMERCIO</td>\n",
       "      <td>Cusco</td>\n",
       "    </tr>\n",
       "    <tr>\n",
       "      <th>...</th>\n",
       "      <td>...</td>\n",
       "      <td>...</td>\n",
       "      <td>...</td>\n",
       "      <td>...</td>\n",
       "      <td>...</td>\n",
       "      <td>...</td>\n",
       "      <td>...</td>\n",
       "      <td>...</td>\n",
       "      <td>...</td>\n",
       "      <td>...</td>\n",
       "      <td>...</td>\n",
       "      <td>...</td>\n",
       "      <td>...</td>\n",
       "      <td>...</td>\n",
       "      <td>...</td>\n",
       "      <td>...</td>\n",
       "      <td>...</td>\n",
       "      <td>...</td>\n",
       "    </tr>\n",
       "    <tr>\n",
       "      <th>1993</th>\n",
       "      <td>1.0</td>\n",
       "      <td>10992.910395</td>\n",
       "      <td>3886.581480</td>\n",
       "      <td>3050.0606</td>\n",
       "      <td>2558.31</td>\n",
       "      <td>4.0</td>\n",
       "      <td>30000.0</td>\n",
       "      <td>4905.000</td>\n",
       "      <td>2528.565</td>\n",
       "      <td>-710.56000</td>\n",
       "      <td>-0.304304</td>\n",
       "      <td>-3174.29</td>\n",
       "      <td>-0.550924</td>\n",
       "      <td>-2548.50</td>\n",
       "      <td>-0.543144</td>\n",
       "      <td>4.330457</td>\n",
       "      <td>COMERCIO</td>\n",
       "      <td>Lambayeque</td>\n",
       "    </tr>\n",
       "    <tr>\n",
       "      <th>1994</th>\n",
       "      <td>1.0</td>\n",
       "      <td>94650.626310</td>\n",
       "      <td>31550.208770</td>\n",
       "      <td>75502.8400</td>\n",
       "      <td>3029.48</td>\n",
       "      <td>4.0</td>\n",
       "      <td>32100.0</td>\n",
       "      <td>7034.000</td>\n",
       "      <td>3029.480</td>\n",
       "      <td>-5421.28000</td>\n",
       "      <td>-0.066992</td>\n",
       "      <td>-10965.03</td>\n",
       "      <td>-0.783524</td>\n",
       "      <td>-10965.03</td>\n",
       "      <td>-0.783524</td>\n",
       "      <td>1.800943</td>\n",
       "      <td>COMERCIO</td>\n",
       "      <td>Arequipa</td>\n",
       "    </tr>\n",
       "    <tr>\n",
       "      <th>1995</th>\n",
       "      <td>1.0</td>\n",
       "      <td>747579.335100</td>\n",
       "      <td>249193.111700</td>\n",
       "      <td>711146.1765</td>\n",
       "      <td>593.99</td>\n",
       "      <td>3.0</td>\n",
       "      <td>180905.0</td>\n",
       "      <td>93482.000</td>\n",
       "      <td>593.990</td>\n",
       "      <td>6776.19000</td>\n",
       "      <td>0.008094</td>\n",
       "      <td>-11589.60</td>\n",
       "      <td>-0.951247</td>\n",
       "      <td>-11589.60</td>\n",
       "      <td>-0.951247</td>\n",
       "      <td>4.624891</td>\n",
       "      <td>COMERCIO</td>\n",
       "      <td>Lima</td>\n",
       "    </tr>\n",
       "    <tr>\n",
       "      <th>1996</th>\n",
       "      <td>1.0</td>\n",
       "      <td>18077.981870</td>\n",
       "      <td>6025.993957</td>\n",
       "      <td>122633.1000</td>\n",
       "      <td>5312.64</td>\n",
       "      <td>3.0</td>\n",
       "      <td>69500.0</td>\n",
       "      <td>8333.000</td>\n",
       "      <td>5312.640</td>\n",
       "      <td>-3838.01000</td>\n",
       "      <td>-0.030347</td>\n",
       "      <td>-18929.55</td>\n",
       "      <td>-0.780851</td>\n",
       "      <td>-18929.55</td>\n",
       "      <td>-0.780851</td>\n",
       "      <td>1.751050</td>\n",
       "      <td>COMERCIO</td>\n",
       "      <td>Lima</td>\n",
       "    </tr>\n",
       "    <tr>\n",
       "      <th>1997</th>\n",
       "      <td>1.0</td>\n",
       "      <td>286471.034700</td>\n",
       "      <td>97561.751050</td>\n",
       "      <td>269538.6100</td>\n",
       "      <td>2558.31</td>\n",
       "      <td>4.0</td>\n",
       "      <td>50514.0</td>\n",
       "      <td>4171.000</td>\n",
       "      <td>2528.565</td>\n",
       "      <td>-26220.40000</td>\n",
       "      <td>-0.088655</td>\n",
       "      <td>-3174.29</td>\n",
       "      <td>-0.550924</td>\n",
       "      <td>-2548.50</td>\n",
       "      <td>-0.543144</td>\n",
       "      <td>2.511986</td>\n",
       "      <td>SERVICIO</td>\n",
       "      <td>Arequipa</td>\n",
       "    </tr>\n",
       "  </tbody>\n",
       "</table>\n",
       "<p>1998 rows × 18 columns</p>\n",
       "</div>"
      ],
      "text/plain": [
       "      impactado          saldo  saldo_promedio  deuda_sistea   pasivo  \\\n",
       "0           0.0   56643.100920    28321.550460    31365.7300  5876.82   \n",
       "1           0.0  190313.994600    63437.998180    64864.9900  4467.40   \n",
       "2           0.0  547601.573600   182533.857900   200239.3200  5000.92   \n",
       "3           0.0  283914.208400    94638.069470   112945.1700   325.50   \n",
       "4           0.0  142296.438400    47432.146120   144877.2100     0.00   \n",
       "...         ...            ...             ...           ...      ...   \n",
       "1993        1.0   10992.910395     3886.581480     3050.0606  2558.31   \n",
       "1994        1.0   94650.626310    31550.208770    75502.8400  3029.48   \n",
       "1995        1.0  747579.335100   249193.111700   711146.1765   593.99   \n",
       "1996        1.0   18077.981870     6025.993957   122633.1000  5312.64   \n",
       "1997        1.0  286471.034700    97561.751050   269538.6100  2558.31   \n",
       "\n",
       "      sector_de_impacto     venta  venta_formal  pasivo_desembolso  \\\n",
       "0                   3.0  108400.0     43741.080           5876.820   \n",
       "1                   4.0  105300.0     69737.170           4467.400   \n",
       "2                   1.0   86600.0     79178.830           5000.920   \n",
       "3                   3.0  103000.0         0.000            325.500   \n",
       "4                   4.0  172920.0    127683.962              0.000   \n",
       "...                 ...       ...           ...                ...   \n",
       "1993                4.0   30000.0      4905.000           2528.565   \n",
       "1994                4.0   32100.0      7034.000           3029.480   \n",
       "1995                3.0  180905.0     93482.000            593.990   \n",
       "1996                3.0   69500.0      8333.000           5312.640   \n",
       "1997                4.0   50514.0      4171.000           2528.565   \n",
       "\n",
       "      deuda_rezagada_va  deuda_rezagada_vr  pasivo_rezagada_va  \\\n",
       "0            -800.65000          -0.024891              830.82   \n",
       "1           -2810.52000          -0.041529            -7043.43   \n",
       "2             653.68000           0.003275             2000.92   \n",
       "3           14820.77000           0.133146           -17128.30   \n",
       "4           15442.22425           0.133146            -2071.80   \n",
       "...                 ...                ...                 ...   \n",
       "1993         -710.56000          -0.304304            -3174.29   \n",
       "1994        -5421.28000          -0.066992           -10965.03   \n",
       "1995         6776.19000           0.008094           -11589.60   \n",
       "1996        -3838.01000          -0.030347           -18929.55   \n",
       "1997       -26220.40000          -0.088655            -3174.29   \n",
       "\n",
       "      pasivo_rezagada_vr  pasivo_desembolso_da  pasivo_desembolso_dr  \\\n",
       "0               0.164649                830.82              0.164649   \n",
       "1              -0.611896              -7043.43             -0.611896   \n",
       "2               0.666973               2000.92              0.666973   \n",
       "3              -0.981351             -17128.30             -0.981351   \n",
       "4              -1.000000              -2071.80             -1.000000   \n",
       "...                  ...                   ...                   ...   \n",
       "1993           -0.550924              -2548.50             -0.543144   \n",
       "1994           -0.783524             -10965.03             -0.783524   \n",
       "1995           -0.951247             -11589.60             -0.951247   \n",
       "1996           -0.780851             -18929.55             -0.780851   \n",
       "1997           -0.550924              -2548.50             -0.543144   \n",
       "\n",
       "            MD     sector         dep  \n",
       "0     2.558554  INDUSTRIA        Lima  \n",
       "1     2.356606   COMERCIO    Arequipa  \n",
       "2     3.776162   SERVICIO    Amazonas  \n",
       "3     2.676896  INDUSTRIA        Lima  \n",
       "4     4.496472   COMERCIO       Cusco  \n",
       "...        ...        ...         ...  \n",
       "1993  4.330457   COMERCIO  Lambayeque  \n",
       "1994  1.800943   COMERCIO    Arequipa  \n",
       "1995  4.624891   COMERCIO        Lima  \n",
       "1996  1.751050   COMERCIO        Lima  \n",
       "1997  2.511986   SERVICIO    Arequipa  \n",
       "\n",
       "[1998 rows x 18 columns]"
      ]
     },
     "execution_count": 57,
     "metadata": {},
     "output_type": "execute_result"
    }
   ],
   "source": [
    "new_x = pd.concat([x,x_cat], axis=1)\n",
    "new_x"
   ]
  },
  {
   "cell_type": "code",
   "execution_count": 58,
   "id": "fa243253",
   "metadata": {},
   "outputs": [
    {
     "data": {
      "image/png": "[encoded data removed]",
      "text/plain": [
       "<Figure size 1008x360 with 1 Axes>"
      ]
     },
     "metadata": {
      "needs_background": "light"
     },
     "output_type": "display_data"
    }
   ],
   "source": [
    "fig, ax = plt.subplots()\n",
    "fig.set_size_inches(14,5)\n",
    "ax.scatter(new_x.index, new_x.MD, alpha=0.5, s=25, c='green')\n",
    "plt.title('Visualización de las DM')\n",
    "plt.show()"
   ]
  },
  {
   "cell_type": "markdown",
   "id": "a00c3804",
   "metadata": {},
   "source": [
    "- Tomaré cmo punto de corte a una distancia de 13, porque visualmente se observa que se alejan mucho de la distribución."
   ]
  },
  {
   "cell_type": "code",
   "execution_count": 59,
   "id": "692c0b2d",
   "metadata": {},
   "outputs": [],
   "source": [
    "cutoff = 13"
   ]
  },
  {
   "cell_type": "code",
   "execution_count": 60,
   "id": "b8c5d75a",
   "metadata": {},
   "outputs": [
    {
     "data": {
      "text/plain": [
       "(8, 18)"
      ]
     },
     "execution_count": 60,
     "metadata": {},
     "output_type": "execute_result"
    }
   ],
   "source": [
    "new_x.loc[new_x['MD'] > cutoff].shape"
   ]
  },
  {
   "cell_type": "code",
   "execution_count": 61,
   "id": "dde929d0",
   "metadata": {},
   "outputs": [
    {
     "data": {
      "text/html": [
       "<div>\n",
       "<style scoped>\n",
       "    .dataframe tbody tr th:only-of-type {\n",
       "        vertical-align: middle;\n",
       "    }\n",
       "\n",
       "    .dataframe tbody tr th {\n",
       "        vertical-align: top;\n",
       "    }\n",
       "\n",
       "    .dataframe thead th {\n",
       "        text-align: right;\n",
       "    }\n",
       "</style>\n",
       "<table border=\"1\" class=\"dataframe\">\n",
       "  <thead>\n",
       "    <tr style=\"text-align: right;\">\n",
       "      <th></th>\n",
       "      <th>impactado</th>\n",
       "      <th>saldo</th>\n",
       "      <th>saldo_promedio</th>\n",
       "      <th>deuda_sistea</th>\n",
       "      <th>pasivo</th>\n",
       "      <th>sector_de_impacto</th>\n",
       "      <th>venta</th>\n",
       "      <th>venta_formal</th>\n",
       "      <th>pasivo_desembolso</th>\n",
       "      <th>deuda_rezagada_va</th>\n",
       "      <th>deuda_rezagada_vr</th>\n",
       "      <th>pasivo_rezagada_va</th>\n",
       "      <th>pasivo_rezagada_vr</th>\n",
       "      <th>pasivo_desembolso_da</th>\n",
       "      <th>pasivo_desembolso_dr</th>\n",
       "      <th>MD</th>\n",
       "      <th>sector</th>\n",
       "      <th>dep</th>\n",
       "    </tr>\n",
       "  </thead>\n",
       "  <tbody>\n",
       "    <tr>\n",
       "      <th>309</th>\n",
       "      <td>0.0</td>\n",
       "      <td>1.567236e+06</td>\n",
       "      <td>527907.743895</td>\n",
       "      <td>711146.1765</td>\n",
       "      <td>60343.29325</td>\n",
       "      <td>3.0</td>\n",
       "      <td>150070.0</td>\n",
       "      <td>127683.962</td>\n",
       "      <td>7256.17935</td>\n",
       "      <td>15442.22425</td>\n",
       "      <td>0.022450</td>\n",
       "      <td>4425.74475</td>\n",
       "      <td>0.463051</td>\n",
       "      <td>-96817.65400</td>\n",
       "      <td>-0.931744</td>\n",
       "      <td>24.851100</td>\n",
       "      <td>SERVICIO</td>\n",
       "      <td>Lima</td>\n",
       "    </tr>\n",
       "    <tr>\n",
       "      <th>445</th>\n",
       "      <td>0.0</td>\n",
       "      <td>3.368908e+05</td>\n",
       "      <td>198131.484400</td>\n",
       "      <td>99580.5600</td>\n",
       "      <td>60343.29325</td>\n",
       "      <td>4.0</td>\n",
       "      <td>29240.0</td>\n",
       "      <td>15543.330</td>\n",
       "      <td>0.00000</td>\n",
       "      <td>8778.63000</td>\n",
       "      <td>0.096679</td>\n",
       "      <td>4425.74475</td>\n",
       "      <td>1.430311</td>\n",
       "      <td>-27165.45787</td>\n",
       "      <td>-1.059897</td>\n",
       "      <td>28.274470</td>\n",
       "      <td>INDUSTRIA</td>\n",
       "      <td>Lima</td>\n",
       "    </tr>\n",
       "    <tr>\n",
       "      <th>658</th>\n",
       "      <td>0.0</td>\n",
       "      <td>1.406778e+05</td>\n",
       "      <td>140677.771800</td>\n",
       "      <td>3050.0606</td>\n",
       "      <td>60343.29325</td>\n",
       "      <td>3.0</td>\n",
       "      <td>161850.0</td>\n",
       "      <td>115842.170</td>\n",
       "      <td>59737.70050</td>\n",
       "      <td>0.00000</td>\n",
       "      <td>-0.014269</td>\n",
       "      <td>-67688.51625</td>\n",
       "      <td>-0.222520</td>\n",
       "      <td>-95513.69000</td>\n",
       "      <td>-0.222520</td>\n",
       "      <td>16.370513</td>\n",
       "      <td>COMERCIO</td>\n",
       "      <td>Lima</td>\n",
       "    </tr>\n",
       "    <tr>\n",
       "      <th>1131</th>\n",
       "      <td>1.0</td>\n",
       "      <td>7.136404e+05</td>\n",
       "      <td>248190.836400</td>\n",
       "      <td>248554.9300</td>\n",
       "      <td>1651.00000</td>\n",
       "      <td>4.0</td>\n",
       "      <td>70910.0</td>\n",
       "      <td>36308.000</td>\n",
       "      <td>1651.00000</td>\n",
       "      <td>15442.22425</td>\n",
       "      <td>0.133146</td>\n",
       "      <td>-29069.00000</td>\n",
       "      <td>-0.946257</td>\n",
       "      <td>1863.03764</td>\n",
       "      <td>-8.786353</td>\n",
       "      <td>36.779768</td>\n",
       "      <td>COMERCIO</td>\n",
       "      <td>Huánuco</td>\n",
       "    </tr>\n",
       "    <tr>\n",
       "      <th>1538</th>\n",
       "      <td>1.0</td>\n",
       "      <td>2.542817e+05</td>\n",
       "      <td>127140.834800</td>\n",
       "      <td>261475.1000</td>\n",
       "      <td>19403.72000</td>\n",
       "      <td>3.0</td>\n",
       "      <td>150140.0</td>\n",
       "      <td>16050.420</td>\n",
       "      <td>19403.72000</td>\n",
       "      <td>15442.22425</td>\n",
       "      <td>0.133146</td>\n",
       "      <td>-67688.51625</td>\n",
       "      <td>-0.840233</td>\n",
       "      <td>5063.79475</td>\n",
       "      <td>-4.409650</td>\n",
       "      <td>19.329457</td>\n",
       "      <td>COMERCIO</td>\n",
       "      <td>Arequipa</td>\n",
       "    </tr>\n",
       "    <tr>\n",
       "      <th>1792</th>\n",
       "      <td>1.0</td>\n",
       "      <td>5.086841e+05</td>\n",
       "      <td>254342.066400</td>\n",
       "      <td>312377.6800</td>\n",
       "      <td>2558.31000</td>\n",
       "      <td>4.0</td>\n",
       "      <td>35200.0</td>\n",
       "      <td>5000.000</td>\n",
       "      <td>2528.56500</td>\n",
       "      <td>15442.22425</td>\n",
       "      <td>0.133146</td>\n",
       "      <td>-3174.29000</td>\n",
       "      <td>-0.550924</td>\n",
       "      <td>-2548.50000</td>\n",
       "      <td>-0.543144</td>\n",
       "      <td>14.411569</td>\n",
       "      <td>COMERCIO</td>\n",
       "      <td>Huánuco</td>\n",
       "    </tr>\n",
       "    <tr>\n",
       "      <th>1896</th>\n",
       "      <td>1.0</td>\n",
       "      <td>1.567236e+06</td>\n",
       "      <td>527907.743895</td>\n",
       "      <td>674775.9100</td>\n",
       "      <td>60343.29325</td>\n",
       "      <td>3.0</td>\n",
       "      <td>108000.0</td>\n",
       "      <td>24991.330</td>\n",
       "      <td>0.00000</td>\n",
       "      <td>-22062.89000</td>\n",
       "      <td>-0.031661</td>\n",
       "      <td>4425.74475</td>\n",
       "      <td>1.430311</td>\n",
       "      <td>-20870.07196</td>\n",
       "      <td>-1.339070</td>\n",
       "      <td>27.811692</td>\n",
       "      <td>INDUSTRIA</td>\n",
       "      <td>Lima</td>\n",
       "    </tr>\n",
       "    <tr>\n",
       "      <th>1897</th>\n",
       "      <td>1.0</td>\n",
       "      <td>5.464332e+05</td>\n",
       "      <td>214066.203400</td>\n",
       "      <td>218396.7100</td>\n",
       "      <td>30915.54000</td>\n",
       "      <td>4.0</td>\n",
       "      <td>134330.0</td>\n",
       "      <td>0.000</td>\n",
       "      <td>30915.54000</td>\n",
       "      <td>15442.22425</td>\n",
       "      <td>0.133146</td>\n",
       "      <td>-67688.51625</td>\n",
       "      <td>-0.729018</td>\n",
       "      <td>5063.79475</td>\n",
       "      <td>1.194563</td>\n",
       "      <td>13.438912</td>\n",
       "      <td>COMERCIO</td>\n",
       "      <td>Lima</td>\n",
       "    </tr>\n",
       "  </tbody>\n",
       "</table>\n",
       "</div>"
      ],
      "text/plain": [
       "      impactado         saldo  saldo_promedio  deuda_sistea       pasivo  \\\n",
       "309         0.0  1.567236e+06   527907.743895   711146.1765  60343.29325   \n",
       "445         0.0  3.368908e+05   198131.484400    99580.5600  60343.29325   \n",
       "658         0.0  1.406778e+05   140677.771800     3050.0606  60343.29325   \n",
       "1131        1.0  7.136404e+05   248190.836400   248554.9300   1651.00000   \n",
       "1538        1.0  2.542817e+05   127140.834800   261475.1000  19403.72000   \n",
       "1792        1.0  5.086841e+05   254342.066400   312377.6800   2558.31000   \n",
       "1896        1.0  1.567236e+06   527907.743895   674775.9100  60343.29325   \n",
       "1897        1.0  5.464332e+05   214066.203400   218396.7100  30915.54000   \n",
       "\n",
       "      sector_de_impacto     venta  venta_formal  pasivo_desembolso  \\\n",
       "309                 3.0  150070.0    127683.962         7256.17935   \n",
       "445                 4.0   29240.0     15543.330            0.00000   \n",
       "658                 3.0  161850.0    115842.170        59737.70050   \n",
       "1131                4.0   70910.0     36308.000         1651.00000   \n",
       "1538                3.0  150140.0     16050.420        19403.72000   \n",
       "1792                4.0   35200.0      5000.000         2528.56500   \n",
       "1896                3.0  108000.0     24991.330            0.00000   \n",
       "1897                4.0  134330.0         0.000        30915.54000   \n",
       "\n",
       "      deuda_rezagada_va  deuda_rezagada_vr  pasivo_rezagada_va  \\\n",
       "309         15442.22425           0.022450          4425.74475   \n",
       "445          8778.63000           0.096679          4425.74475   \n",
       "658             0.00000          -0.014269        -67688.51625   \n",
       "1131        15442.22425           0.133146        -29069.00000   \n",
       "1538        15442.22425           0.133146        -67688.51625   \n",
       "1792        15442.22425           0.133146         -3174.29000   \n",
       "1896       -22062.89000          -0.031661          4425.74475   \n",
       "1897        15442.22425           0.133146        -67688.51625   \n",
       "\n",
       "      pasivo_rezagada_vr  pasivo_desembolso_da  pasivo_desembolso_dr  \\\n",
       "309             0.463051          -96817.65400             -0.931744   \n",
       "445             1.430311          -27165.45787             -1.059897   \n",
       "658            -0.222520          -95513.69000             -0.222520   \n",
       "1131           -0.946257            1863.03764             -8.786353   \n",
       "1538           -0.840233            5063.79475             -4.409650   \n",
       "1792           -0.550924           -2548.50000             -0.543144   \n",
       "1896            1.430311          -20870.07196             -1.339070   \n",
       "1897           -0.729018            5063.79475              1.194563   \n",
       "\n",
       "             MD     sector       dep  \n",
       "309   24.851100   SERVICIO      Lima  \n",
       "445   28.274470  INDUSTRIA      Lima  \n",
       "658   16.370513   COMERCIO      Lima  \n",
       "1131  36.779768   COMERCIO   Huánuco  \n",
       "1538  19.329457   COMERCIO  Arequipa  \n",
       "1792  14.411569   COMERCIO   Huánuco  \n",
       "1896  27.811692  INDUSTRIA      Lima  \n",
       "1897  13.438912   COMERCIO      Lima  "
      ]
     },
     "execution_count": 61,
     "metadata": {},
     "output_type": "execute_result"
    }
   ],
   "source": [
    "new_x[ new_x.MD > cutoff ]"
   ]
  },
  {
   "cell_type": "markdown",
   "id": "871152f2",
   "metadata": {},
   "source": [
    "- Hay únicamente 8 obervaciones consideradas como outliers multivariados."
   ]
  },
  {
   "cell_type": "code",
   "execution_count": 62,
   "id": "46a90682",
   "metadata": {},
   "outputs": [],
   "source": [
    "treated_data = new_x.loc[new_x['MD'] < cutoff, :].drop('MD',axis=1)"
   ]
  },
  {
   "cell_type": "code",
   "execution_count": 63,
   "id": "89947f43",
   "metadata": {},
   "outputs": [],
   "source": [
    "#treated_data.to_excel(\"output/treated-data.xlsx\")"
   ]
  },
  {
   "cell_type": "code",
   "execution_count": 64,
   "id": "79d47254",
   "metadata": {},
   "outputs": [],
   "source": [
    "treated_data = treated_data.reset_index(drop=True)"
   ]
  },
  {
   "cell_type": "markdown",
   "id": "294ffaac",
   "metadata": {},
   "source": [
    "# 4. Feature Engineering"
   ]
  },
  {
   "cell_type": "code",
   "execution_count": 65,
   "id": "823c4710",
   "metadata": {},
   "outputs": [],
   "source": [
    "df = treated_data.copy()"
   ]
  },
  {
   "cell_type": "markdown",
   "id": "fc4b2f73",
   "metadata": {},
   "source": [
    "## 4.1 Ingeniería de variables categóricas"
   ]
  },
  {
   "cell_type": "markdown",
   "id": "10cd5658",
   "metadata": {},
   "source": [
    "- Observaré si las proporciones de las variables categóricas son realmente diferenciables:"
   ]
  },
  {
   "cell_type": "code",
   "execution_count": 66,
   "id": "5b1636c9",
   "metadata": {},
   "outputs": [
    {
     "data": {
      "text/plain": [
       "COMERCIO     1135\n",
       "SERVICIO      601\n",
       "INDUSTRIA     254\n",
       "Name: sector, dtype: int64"
      ]
     },
     "execution_count": 66,
     "metadata": {},
     "output_type": "execute_result"
    }
   ],
   "source": [
    "df.sector.value_counts()"
   ]
  },
  {
   "cell_type": "code",
   "execution_count": 67,
   "id": "4ec7e836",
   "metadata": {},
   "outputs": [],
   "source": [
    "#df['Sector'] = df.apply(lambda x: str( 'COMERCIO' if x.Sector=='COM<ERCIO' else 'SERVICIO_INDUSTRIA' ), axis=1)"
   ]
  },
  {
   "cell_type": "code",
   "execution_count": 68,
   "id": "eae65f1f",
   "metadata": {},
   "outputs": [],
   "source": [
    "#df.Sector.value_counts()"
   ]
  },
  {
   "cell_type": "code",
   "execution_count": 69,
   "id": "62c23e38",
   "metadata": {},
   "outputs": [
    {
     "data": {
      "text/plain": [
       "Lima             720\n",
       "Arequipa         188\n",
       "Junín            118\n",
       "La Libertad      104\n",
       "Lambayeque        98\n",
       "San Martín        88\n",
       "Piura             87\n",
       "Áncash            74\n",
       "Cajamarca         55\n",
       "Ica               52\n",
       "Huánuco           51\n",
       "Cusco             48\n",
       "Tacna             36\n",
       "Callao            35\n",
       "Ucayali           34\n",
       "Pasco             28\n",
       "Ayacucho          27\n",
       "Tumbes            27\n",
       "Puno              26\n",
       "Amazonas          23\n",
       "Loreto            22\n",
       "Moquegua          18\n",
       "Apurímac          15\n",
       "Madre de Dios     14\n",
       "Huancavelica       2\n",
       "Name: dep, dtype: int64"
      ]
     },
     "execution_count": 69,
     "metadata": {},
     "output_type": "execute_result"
    }
   ],
   "source": [
    "df.dep.value_counts()"
   ]
  },
  {
   "cell_type": "markdown",
   "id": "a414933b",
   "metadata": {},
   "source": [
    "- Las proporciones están muy centralizadas en Lima. Se dejará sin tratamiento y si las métricas lo solicitan, se transformará la variable a categórica de 3 alternativas."
   ]
  },
  {
   "cell_type": "code",
   "execution_count": 70,
   "id": "2029392f",
   "metadata": {},
   "outputs": [],
   "source": [
    "#df['Dep'] = df.apply(lambda x: str('Lima'if x.Dep=='Lima' else 'Provincia' ),axis=1)"
   ]
  },
  {
   "cell_type": "code",
   "execution_count": 71,
   "id": "2012872d",
   "metadata": {},
   "outputs": [],
   "source": [
    "#df['Sector de Impacto'].value_counts()"
   ]
  },
  {
   "cell_type": "code",
   "execution_count": 72,
   "id": "b235a2df",
   "metadata": {},
   "outputs": [],
   "source": [
    "# 4 → 4, 1 y 2\n",
    "#df['Sector de Impacto'] = df.apply(lambda x: int(3 if x['Sector de Impacto']==3 else 4 ),axis=1)"
   ]
  },
  {
   "cell_type": "code",
   "execution_count": 73,
   "id": "5f12c1ef",
   "metadata": {},
   "outputs": [
    {
     "data": {
      "text/plain": [
       "(1990, 17)"
      ]
     },
     "execution_count": 73,
     "metadata": {},
     "output_type": "execute_result"
    }
   ],
   "source": [
    "df.shape"
   ]
  },
  {
   "cell_type": "code",
   "execution_count": 74,
   "id": "9472f040",
   "metadata": {},
   "outputs": [],
   "source": [
    "df_numeric = df.select_dtypes(['int','float'])\n",
    "df_categorical = df.select_dtypes('object')"
   ]
  },
  {
   "cell_type": "code",
   "execution_count": 75,
   "id": "8f7316c0",
   "metadata": {},
   "outputs": [
    {
     "data": {
      "text/plain": [
       "((1990, 15), (1990, 2))"
      ]
     },
     "execution_count": 75,
     "metadata": {},
     "output_type": "execute_result"
    }
   ],
   "source": [
    "df_numeric.shape, df_categorical.shape # Incluye target"
   ]
  },
  {
   "cell_type": "code",
   "execution_count": 76,
   "id": "ec2339de",
   "metadata": {},
   "outputs": [],
   "source": [
    "from sklearn.preprocessing import LabelEncoder\n",
    "\n",
    "df_cat_to_num = pd.DataFrame()\n",
    "\n",
    "le = LabelEncoder()\n",
    "df_cat_to_num['sector_num'] = le.fit_transform(df_categorical['sector'])\n",
    "\n",
    "le = LabelEncoder()\n",
    "df_cat_to_num['dep_num'] = le.fit_transform(df_categorical['dep'])"
   ]
  },
  {
   "cell_type": "code",
   "execution_count": 77,
   "id": "d3caa6ca",
   "metadata": {},
   "outputs": [
    {
     "data": {
      "text/plain": [
       "((1990, 2), (1990, 2))"
      ]
     },
     "execution_count": 77,
     "metadata": {},
     "output_type": "execute_result"
    }
   ],
   "source": [
    "df_cat_to_num.shape, df_categorical.shape"
   ]
  },
  {
   "cell_type": "code",
   "execution_count": 78,
   "id": "996c9085",
   "metadata": {},
   "outputs": [
    {
     "data": {
      "text/html": [
       "<div>\n",
       "<style scoped>\n",
       "    .dataframe tbody tr th:only-of-type {\n",
       "        vertical-align: middle;\n",
       "    }\n",
       "\n",
       "    .dataframe tbody tr th {\n",
       "        vertical-align: top;\n",
       "    }\n",
       "\n",
       "    .dataframe thead th {\n",
       "        text-align: right;\n",
       "    }\n",
       "</style>\n",
       "<table border=\"1\" class=\"dataframe\">\n",
       "  <thead>\n",
       "    <tr style=\"text-align: right;\">\n",
       "      <th></th>\n",
       "      <th>sector_num</th>\n",
       "      <th>dep_num</th>\n",
       "    </tr>\n",
       "  </thead>\n",
       "  <tbody>\n",
       "    <tr>\n",
       "      <th>1855</th>\n",
       "      <td>0</td>\n",
       "      <td>5</td>\n",
       "    </tr>\n",
       "    <tr>\n",
       "      <th>379</th>\n",
       "      <td>0</td>\n",
       "      <td>9</td>\n",
       "    </tr>\n",
       "    <tr>\n",
       "      <th>397</th>\n",
       "      <td>1</td>\n",
       "      <td>5</td>\n",
       "    </tr>\n",
       "  </tbody>\n",
       "</table>\n",
       "</div>"
      ],
      "text/plain": [
       "      sector_num  dep_num\n",
       "1855           0        5\n",
       "379            0        9\n",
       "397            1        5"
      ]
     },
     "execution_count": 78,
     "metadata": {},
     "output_type": "execute_result"
    }
   ],
   "source": [
    "df_cat_to_num.sample(3)"
   ]
  },
  {
   "cell_type": "markdown",
   "id": "3f5f8f36",
   "metadata": {},
   "source": [
    "## 4.2 Ingeniería de variables numéricas"
   ]
  },
  {
   "cell_type": "code",
   "execution_count": 79,
   "id": "98bd121b",
   "metadata": {},
   "outputs": [],
   "source": [
    "df_numeric_no_target = df_numeric.drop('impactado',axis=1)"
   ]
  },
  {
   "cell_type": "code",
   "execution_count": 80,
   "id": "63fe66e7",
   "metadata": {},
   "outputs": [
    {
     "data": {
      "text/plain": [
       "(1990, 14)"
      ]
     },
     "execution_count": 80,
     "metadata": {},
     "output_type": "execute_result"
    }
   ],
   "source": [
    "df_numeric_no_target.shape"
   ]
  },
  {
   "cell_type": "code",
   "execution_count": 81,
   "id": "a917b1d3",
   "metadata": {},
   "outputs": [],
   "source": [
    "from sklearn.preprocessing import MinMaxScaler\n",
    "\n",
    "scaler = MinMaxScaler()\n",
    "array_numeric = scaler.fit_transform(df_numeric_no_target)\n",
    "df_numeric_scaled = pd.DataFrame(array_numeric, columns=df_numeric_no_target.columns)"
   ]
  },
  {
   "cell_type": "code",
   "execution_count": 82,
   "id": "313ebc8d",
   "metadata": {},
   "outputs": [
    {
     "data": {
      "text/plain": [
       "(1990, 14)"
      ]
     },
     "execution_count": 82,
     "metadata": {},
     "output_type": "execute_result"
    }
   ],
   "source": [
    "df_numeric_scaled.shape"
   ]
  },
  {
   "cell_type": "markdown",
   "id": "0c379dd9",
   "metadata": {},
   "source": [
    "## 4.3 Creación de variables"
   ]
  },
  {
   "cell_type": "markdown",
   "id": "b4cb6fe9",
   "metadata": {},
   "source": [
    "- Agregaré una constante para diferenciar las variables que están aportando más al modelo."
   ]
  },
  {
   "cell_type": "code",
   "execution_count": 86,
   "id": "7427fc89",
   "metadata": {},
   "outputs": [
    {
     "data": {
      "text/plain": [
       "((1990, 14), (1990, 2), (1990, 1))"
      ]
     },
     "execution_count": 86,
     "metadata": {},
     "output_type": "execute_result"
    }
   ],
   "source": [
    "df_numeric_scaled.shape, df_cat_to_num.shape, df_numeric[['impactado']].shape"
   ]
  },
  {
   "cell_type": "code",
   "execution_count": 87,
   "id": "6178ea56",
   "metadata": {},
   "outputs": [],
   "source": [
    "dataset = pd.concat([df_numeric_scaled, df_cat_to_num, df_numeric[['impactado']]], axis=1)"
   ]
  },
  {
   "cell_type": "code",
   "execution_count": 88,
   "id": "6b1c58c0",
   "metadata": {},
   "outputs": [
    {
     "data": {
      "text/plain": [
       "(1990, 17)"
      ]
     },
     "execution_count": 88,
     "metadata": {},
     "output_type": "execute_result"
    }
   ],
   "source": [
    "dataset.shape"
   ]
  },
  {
   "cell_type": "markdown",
   "id": "f65a9bfe",
   "metadata": {},
   "source": [
    "- Calcularé los coeficientes de variación para la creación de variables robustas."
   ]
  },
  {
   "cell_type": "code",
   "execution_count": 89,
   "id": "142c831a",
   "metadata": {},
   "outputs": [],
   "source": [
    "all_cv = []\n",
    "\n",
    "for col in list (df_numeric_scaled.columns):\n",
    "    media = dataset[col].mean()\n",
    "    d_estandar = dataset[col].std()\n",
    "    Coef_variacion = d_estandar/media*100\n",
    "    value = round(Coef_variacion, 2)\n",
    "    all_cv.append(value)"
   ]
  },
  {
   "cell_type": "code",
   "execution_count": 90,
   "id": "de98f24a",
   "metadata": {},
   "outputs": [],
   "source": [
    "cv_table = pd.concat([\n",
    "    pd.DataFrame( {'Variable':list(df_numeric_scaled.columns)} ),\n",
    "    pd.DataFrame( {'CV':all_cv} )],\n",
    "    axis=1)"
   ]
  },
  {
   "cell_type": "code",
   "execution_count": 91,
   "id": "c32b6594",
   "metadata": {},
   "outputs": [
    {
     "data": {
      "text/html": [
       "<div>\n",
       "<style scoped>\n",
       "    .dataframe tbody tr th:only-of-type {\n",
       "        vertical-align: middle;\n",
       "    }\n",
       "\n",
       "    .dataframe tbody tr th {\n",
       "        vertical-align: top;\n",
       "    }\n",
       "\n",
       "    .dataframe thead th {\n",
       "        text-align: right;\n",
       "    }\n",
       "</style>\n",
       "<table border=\"1\" class=\"dataframe\">\n",
       "  <thead>\n",
       "    <tr style=\"text-align: right;\">\n",
       "      <th></th>\n",
       "      <th>Variable</th>\n",
       "      <th>CV</th>\n",
       "    </tr>\n",
       "  </thead>\n",
       "  <tbody>\n",
       "    <tr>\n",
       "      <th>0</th>\n",
       "      <td>pasivo</td>\n",
       "      <td>181.80</td>\n",
       "    </tr>\n",
       "    <tr>\n",
       "      <th>1</th>\n",
       "      <td>pasivo_desembolso</td>\n",
       "      <td>181.46</td>\n",
       "    </tr>\n",
       "    <tr>\n",
       "      <th>2</th>\n",
       "      <td>venta_formal</td>\n",
       "      <td>144.86</td>\n",
       "    </tr>\n",
       "    <tr>\n",
       "      <th>3</th>\n",
       "      <td>saldo_promedio</td>\n",
       "      <td>110.88</td>\n",
       "    </tr>\n",
       "    <tr>\n",
       "      <th>4</th>\n",
       "      <td>saldo</td>\n",
       "      <td>110.80</td>\n",
       "    </tr>\n",
       "    <tr>\n",
       "      <th>5</th>\n",
       "      <td>pasivo_rezagada_vr</td>\n",
       "      <td>103.07</td>\n",
       "    </tr>\n",
       "    <tr>\n",
       "      <th>6</th>\n",
       "      <td>deuda_sistea</td>\n",
       "      <td>93.27</td>\n",
       "    </tr>\n",
       "    <tr>\n",
       "      <th>7</th>\n",
       "      <td>venta</td>\n",
       "      <td>73.44</td>\n",
       "    </tr>\n",
       "    <tr>\n",
       "      <th>8</th>\n",
       "      <td>pasivo_desembolso_dr</td>\n",
       "      <td>49.94</td>\n",
       "    </tr>\n",
       "    <tr>\n",
       "      <th>9</th>\n",
       "      <td>sector_de_impacto</td>\n",
       "      <td>45.71</td>\n",
       "    </tr>\n",
       "    <tr>\n",
       "      <th>10</th>\n",
       "      <td>pasivo_rezagada_va</td>\n",
       "      <td>35.34</td>\n",
       "    </tr>\n",
       "    <tr>\n",
       "      <th>11</th>\n",
       "      <td>pasivo_desembolso_da</td>\n",
       "      <td>29.11</td>\n",
       "    </tr>\n",
       "    <tr>\n",
       "      <th>12</th>\n",
       "      <td>deuda_rezagada_va</td>\n",
       "      <td>25.60</td>\n",
       "    </tr>\n",
       "    <tr>\n",
       "      <th>13</th>\n",
       "      <td>deuda_rezagada_vr</td>\n",
       "      <td>10.78</td>\n",
       "    </tr>\n",
       "  </tbody>\n",
       "</table>\n",
       "</div>"
      ],
      "text/plain": [
       "                Variable      CV\n",
       "0                 pasivo  181.80\n",
       "1      pasivo_desembolso  181.46\n",
       "2           venta_formal  144.86\n",
       "3         saldo_promedio  110.88\n",
       "4                  saldo  110.80\n",
       "5     pasivo_rezagada_vr  103.07\n",
       "6           deuda_sistea   93.27\n",
       "7                  venta   73.44\n",
       "8   pasivo_desembolso_dr   49.94\n",
       "9      sector_de_impacto   45.71\n",
       "10    pasivo_rezagada_va   35.34\n",
       "11  pasivo_desembolso_da   29.11\n",
       "12     deuda_rezagada_va   25.60\n",
       "13     deuda_rezagada_vr   10.78"
      ]
     },
     "execution_count": 91,
     "metadata": {},
     "output_type": "execute_result"
    }
   ],
   "source": [
    "cv_table.sort_values('CV', ascending=False).reset_index(drop=True)"
   ]
  },
  {
   "cell_type": "markdown",
   "id": "93fb7ca5",
   "metadata": {},
   "source": [
    "> En esta matriz no se consideraron las variables categóricas numerizadas y la variable target."
   ]
  },
  {
   "cell_type": "code",
   "execution_count": 92,
   "id": "1d165348",
   "metadata": {},
   "outputs": [
    {
     "data": {
      "text/plain": [
       "Index(['saldo', 'saldo_promedio', 'deuda_sistea', 'pasivo',\n",
       "       'sector_de_impacto', 'venta', 'venta_formal', 'pasivo_desembolso',\n",
       "       'deuda_rezagada_va', 'deuda_rezagada_vr', 'pasivo_rezagada_va',\n",
       "       'pasivo_rezagada_vr', 'pasivo_desembolso_da', 'pasivo_desembolso_dr',\n",
       "       'sector_num', 'dep_num', 'impactado'],\n",
       "      dtype='object')"
      ]
     },
     "execution_count": 92,
     "metadata": {},
     "output_type": "execute_result"
    }
   ],
   "source": [
    "dataset.columns"
   ]
  },
  {
   "cell_type": "code",
   "execution_count": 94,
   "id": "4d6c756f",
   "metadata": {},
   "outputs": [],
   "source": [
    "dataset['pasivo_div_pasivo_desembolso'] = dataset['pasivo_desembolso'] / (dataset['pasivo'] + 1)\n",
    "dataset['saldo_div_venta'] = dataset['saldo'] / (dataset['venta'] + 1)\n",
    "dataset['venta_div_deu_rez_va'] = dataset['venta'] / (dataset['deuda_rezagada_va'] + 1)\n",
    "dataset['venta_div_deu_rez_vr'] = dataset['venta'] / (dataset['deuda_rezagada_vr'] + 1)"
   ]
  },
  {
   "cell_type": "code",
   "execution_count": 99,
   "id": "6f26eacf",
   "metadata": {},
   "outputs": [
    {
     "data": {
      "text/plain": [
       "(1990, 21)"
      ]
     },
     "execution_count": 99,
     "metadata": {},
     "output_type": "execute_result"
    }
   ],
   "source": [
    "dataset.shape"
   ]
  },
  {
   "cell_type": "markdown",
   "id": "159e0d5f",
   "metadata": {},
   "source": [
    "# 5. Feature Selection"
   ]
  },
  {
   "cell_type": "code",
   "execution_count": 97,
   "id": "a5674217",
   "metadata": {},
   "outputs": [],
   "source": [
    "predictors = dataset.drop('impactado',axis=1)\n",
    "target = dataset.impactado"
   ]
  },
  {
   "cell_type": "code",
   "execution_count": 98,
   "id": "fc266695",
   "metadata": {},
   "outputs": [
    {
     "data": {
      "text/plain": [
       "((1990, 20), (1990,))"
      ]
     },
     "execution_count": 98,
     "metadata": {},
     "output_type": "execute_result"
    }
   ],
   "source": [
    "predictors.shape, target.shape"
   ]
  },
  {
   "cell_type": "code",
   "execution_count": 100,
   "id": "ed4e4f66",
   "metadata": {},
   "outputs": [
    {
     "data": {
      "text/plain": [
       "RandomForestClassifier(random_state=10)"
      ]
     },
     "execution_count": 100,
     "metadata": {},
     "output_type": "execute_result"
    }
   ],
   "source": [
    "from sklearn.ensemble import RandomForestClassifier\n",
    "\n",
    "rfc = RandomForestClassifier(random_state=10)\n",
    "rfc.fit(predictors, target)"
   ]
  },
  {
   "cell_type": "code",
   "execution_count": 101,
   "id": "4c7e3197",
   "metadata": {},
   "outputs": [],
   "source": [
    "importances_table = pd.concat([\n",
    "    pd.DataFrame( {'Variable':list(predictors.columns)} ),\n",
    "    pd.DataFrame( {'Importancia':list(rfc.feature_importances_)} )],\n",
    "    axis=1)"
   ]
  },
  {
   "cell_type": "code",
   "execution_count": 102,
   "id": "991c0dcd",
   "metadata": {},
   "outputs": [],
   "source": [
    "importances_table_sorted = importances_table.sort_values('Importancia',ascending=False).reset_index(drop=True)"
   ]
  },
  {
   "cell_type": "code",
   "execution_count": 103,
   "id": "da250fd5",
   "metadata": {},
   "outputs": [
    {
     "data": {
      "text/html": [
       "<div>\n",
       "<style scoped>\n",
       "    .dataframe tbody tr th:only-of-type {\n",
       "        vertical-align: middle;\n",
       "    }\n",
       "\n",
       "    .dataframe tbody tr th {\n",
       "        vertical-align: top;\n",
       "    }\n",
       "\n",
       "    .dataframe thead th {\n",
       "        text-align: right;\n",
       "    }\n",
       "</style>\n",
       "<table border=\"1\" class=\"dataframe\">\n",
       "  <thead>\n",
       "    <tr style=\"text-align: right;\">\n",
       "      <th></th>\n",
       "      <th>Variable</th>\n",
       "      <th>Importancia</th>\n",
       "    </tr>\n",
       "  </thead>\n",
       "  <tbody>\n",
       "    <tr>\n",
       "      <th>0</th>\n",
       "      <td>dep_num</td>\n",
       "      <td>0.079075</td>\n",
       "    </tr>\n",
       "    <tr>\n",
       "      <th>1</th>\n",
       "      <td>deuda_sistea</td>\n",
       "      <td>0.072397</td>\n",
       "    </tr>\n",
       "    <tr>\n",
       "      <th>2</th>\n",
       "      <td>saldo_div_venta</td>\n",
       "      <td>0.070726</td>\n",
       "    </tr>\n",
       "    <tr>\n",
       "      <th>3</th>\n",
       "      <td>saldo</td>\n",
       "      <td>0.060055</td>\n",
       "    </tr>\n",
       "    <tr>\n",
       "      <th>4</th>\n",
       "      <td>venta_div_deu_rez_vr</td>\n",
       "      <td>0.060026</td>\n",
       "    </tr>\n",
       "    <tr>\n",
       "      <th>5</th>\n",
       "      <td>deuda_rezagada_vr</td>\n",
       "      <td>0.059242</td>\n",
       "    </tr>\n",
       "    <tr>\n",
       "      <th>6</th>\n",
       "      <td>deuda_rezagada_va</td>\n",
       "      <td>0.058827</td>\n",
       "    </tr>\n",
       "    <tr>\n",
       "      <th>7</th>\n",
       "      <td>venta_div_deu_rez_va</td>\n",
       "      <td>0.058412</td>\n",
       "    </tr>\n",
       "    <tr>\n",
       "      <th>8</th>\n",
       "      <td>saldo_promedio</td>\n",
       "      <td>0.056314</td>\n",
       "    </tr>\n",
       "    <tr>\n",
       "      <th>9</th>\n",
       "      <td>venta</td>\n",
       "      <td>0.050826</td>\n",
       "    </tr>\n",
       "    <tr>\n",
       "      <th>10</th>\n",
       "      <td>venta_formal</td>\n",
       "      <td>0.048788</td>\n",
       "    </tr>\n",
       "    <tr>\n",
       "      <th>11</th>\n",
       "      <td>pasivo</td>\n",
       "      <td>0.047781</td>\n",
       "    </tr>\n",
       "    <tr>\n",
       "      <th>12</th>\n",
       "      <td>pasivo_desembolso</td>\n",
       "      <td>0.042048</td>\n",
       "    </tr>\n",
       "    <tr>\n",
       "      <th>13</th>\n",
       "      <td>pasivo_div_pasivo_desembolso</td>\n",
       "      <td>0.040152</td>\n",
       "    </tr>\n",
       "    <tr>\n",
       "      <th>14</th>\n",
       "      <td>pasivo_rezagada_va</td>\n",
       "      <td>0.037222</td>\n",
       "    </tr>\n",
       "    <tr>\n",
       "      <th>15</th>\n",
       "      <td>pasivo_desembolso_da</td>\n",
       "      <td>0.036817</td>\n",
       "    </tr>\n",
       "    <tr>\n",
       "      <th>16</th>\n",
       "      <td>pasivo_desembolso_dr</td>\n",
       "      <td>0.035656</td>\n",
       "    </tr>\n",
       "    <tr>\n",
       "      <th>17</th>\n",
       "      <td>pasivo_rezagada_vr</td>\n",
       "      <td>0.034491</td>\n",
       "    </tr>\n",
       "    <tr>\n",
       "      <th>18</th>\n",
       "      <td>sector_de_impacto</td>\n",
       "      <td>0.028798</td>\n",
       "    </tr>\n",
       "    <tr>\n",
       "      <th>19</th>\n",
       "      <td>sector_num</td>\n",
       "      <td>0.022346</td>\n",
       "    </tr>\n",
       "  </tbody>\n",
       "</table>\n",
       "</div>"
      ],
      "text/plain": [
       "                        Variable  Importancia\n",
       "0                        dep_num     0.079075\n",
       "1                   deuda_sistea     0.072397\n",
       "2                saldo_div_venta     0.070726\n",
       "3                          saldo     0.060055\n",
       "4           venta_div_deu_rez_vr     0.060026\n",
       "5              deuda_rezagada_vr     0.059242\n",
       "6              deuda_rezagada_va     0.058827\n",
       "7           venta_div_deu_rez_va     0.058412\n",
       "8                 saldo_promedio     0.056314\n",
       "9                          venta     0.050826\n",
       "10                  venta_formal     0.048788\n",
       "11                        pasivo     0.047781\n",
       "12             pasivo_desembolso     0.042048\n",
       "13  pasivo_div_pasivo_desembolso     0.040152\n",
       "14            pasivo_rezagada_va     0.037222\n",
       "15          pasivo_desembolso_da     0.036817\n",
       "16          pasivo_desembolso_dr     0.035656\n",
       "17            pasivo_rezagada_vr     0.034491\n",
       "18             sector_de_impacto     0.028798\n",
       "19                    sector_num     0.022346"
      ]
     },
     "execution_count": 103,
     "metadata": {},
     "output_type": "execute_result"
    }
   ],
   "source": [
    "importances_table_sorted"
   ]
  },
  {
   "cell_type": "markdown",
   "id": "e8f94c1d",
   "metadata": {},
   "source": [
    "- El algoritmo considera que todas las variables aportan al modelo."
   ]
  },
  {
   "cell_type": "markdown",
   "id": "c177e4fc",
   "metadata": {},
   "source": [
    "# 6. Modelado"
   ]
  },
  {
   "cell_type": "markdown",
   "id": "dbd1a7ef",
   "metadata": {},
   "source": [
    "## 6.1 División del dataset"
   ]
  },
  {
   "cell_type": "code",
   "execution_count": null,
   "id": "cb9cf594",
   "metadata": {},
   "outputs": [],
   "source": [
    "predictors.columns = ['saldo','saldo_promedio','deuda_sistea',\n",
    "                     'pasivo','sector_de_impacto','venta','venta_formal',\n",
    "                     'pasivo_desembolso','deuda_rezagada_va','deuda_rezagada_vr',\n",
    "                     'pasivo_rezagada_va','pasivo_rezagada_vr',\n",
    "                     'pasivo_desembolso_da','pasivo_desembolso_dr',\n",
    "                     'constante','sector_num','dep_num','pasivo_div_Pdesembolso','saldo_div_venta',\n",
    "                     'venta_div_deu_rez_va','venta_div_deu_rez_vr']"
   ]
  },
  {
   "cell_type": "code",
   "execution_count": null,
   "id": "defab9b8",
   "metadata": {},
   "outputs": [],
   "source": [
    "subset =['dep_num','deuda_sistea','saldo_div_venta','venta',\n",
    "        'deuda_rezagada_vr','deuda_rezagada_va','saldo_promedio','saldo']"
   ]
  },
  {
   "cell_type": "code",
   "execution_count": null,
   "id": "f6859913",
   "metadata": {},
   "outputs": [],
   "source": [
    "predictors_filtered = predictors.drop('constante', axis=1)"
   ]
  },
  {
   "cell_type": "code",
   "execution_count": null,
   "id": "6f9cf58e",
   "metadata": {},
   "outputs": [],
   "source": [
    "from sklearn.model_selection import train_test_split\n",
    "\n",
    "X_train, X_test, y_train, y_test = train_test_split(predictors_filtered,\n",
    "                                                    target,\n",
    "                                                    test_size=0.20,\n",
    "                                                    random_state=10,\n",
    "                                                    stratify=target)"
   ]
  },
  {
   "cell_type": "code",
   "execution_count": null,
   "id": "1b7042ec",
   "metadata": {},
   "outputs": [],
   "source": [
    "X_train.shape, X_test.shape"
   ]
  },
  {
   "cell_type": "code",
   "execution_count": null,
   "id": "2b9e8544",
   "metadata": {},
   "outputs": [],
   "source": [
    "y_train.shape, y_test.shape"
   ]
  },
  {
   "cell_type": "markdown",
   "id": "285c4855",
   "metadata": {},
   "source": [
    "## 6.2 Desarrollo del modelo"
   ]
  },
  {
   "cell_type": "code",
   "execution_count": null,
   "id": "ee728e12",
   "metadata": {},
   "outputs": [],
   "source": [
    "dataset.Impactado.value_counts()"
   ]
  },
  {
   "cell_type": "code",
   "execution_count": null,
   "id": "2711cfda",
   "metadata": {},
   "outputs": [],
   "source": [
    "model = LGBMClassifier(n_estimators=300, n_jobs=-1, max_depth=7,random_state=10)"
   ]
  },
  {
   "cell_type": "code",
   "execution_count": null,
   "id": "5a5f2565",
   "metadata": {},
   "outputs": [],
   "source": [
    "model.fit(X_train, y_train)"
   ]
  },
  {
   "cell_type": "code",
   "execution_count": null,
   "id": "e3200b7e",
   "metadata": {},
   "outputs": [],
   "source": [
    "y_train_pred = model.predict(X_train)\n",
    "y_test_pred = model.predict(X_test)"
   ]
  },
  {
   "cell_type": "markdown",
   "id": "6413caa5",
   "metadata": {},
   "source": [
    "## 6.3 Métricas de desempeño"
   ]
  },
  {
   "cell_type": "markdown",
   "id": "7a77260c",
   "metadata": {},
   "source": [
    "- Métricas para set de entrenamiento"
   ]
  },
  {
   "cell_type": "code",
   "execution_count": null,
   "id": "a7cf201a",
   "metadata": {},
   "outputs": [],
   "source": [
    "from sklearn.metrics import classification_report\n",
    "\n",
    "print(classification_report(y_train, y_train_pred, target_names=['0', '1']))"
   ]
  },
  {
   "cell_type": "code",
   "execution_count": null,
   "id": "c931a519",
   "metadata": {},
   "outputs": [],
   "source": [
    "from sklearn.metrics import confusion_matrix\n",
    "from sklearn.metrics import ConfusionMatrixDisplay\n",
    "\n",
    "cm_train = confusion_matrix(y_train, y_train_pred)\n",
    "\n",
    "conf_mat_train = ConfusionMatrixDisplay(confusion_matrix=cm_train,\n",
    "                              display_labels=model.classes_)\n",
    "conf_mat_train.plot()\n",
    "plt.show()"
   ]
  },
  {
   "cell_type": "markdown",
   "id": "494c4995",
   "metadata": {},
   "source": [
    "- Métricas para set de test"
   ]
  },
  {
   "cell_type": "code",
   "execution_count": null,
   "id": "af8927e4",
   "metadata": {},
   "outputs": [],
   "source": [
    "print(classification_report(y_test, y_test_pred, target_names=['0', '1']))"
   ]
  },
  {
   "cell_type": "code",
   "execution_count": null,
   "id": "0bfeb5d6",
   "metadata": {},
   "outputs": [],
   "source": [
    "cm_test = confusion_matrix(y_test, y_test_pred)\n",
    "\n",
    "conf_mat_test = ConfusionMatrixDisplay(confusion_matrix=cm_test,\n",
    "                              display_labels=model.classes_)\n",
    "conf_mat_test.plot()\n",
    "plt.show()"
   ]
  },
  {
   "cell_type": "markdown",
   "id": "7b707b7f",
   "metadata": {},
   "source": [
    "# 7. Optimización de hiper parámetros"
   ]
  },
  {
   "cell_type": "code",
   "execution_count": null,
   "id": "d45ae4c5",
   "metadata": {},
   "outputs": [],
   "source": [
    "from sklearn.model_selection import GridSearchCV"
   ]
  },
  {
   "cell_type": "code",
   "execution_count": null,
   "id": "635ba586",
   "metadata": {},
   "outputs": [],
   "source": [
    "cv_params = {'max_depth': [2,3,4],\n",
    "            'n_estimators':[100, 200, 300, 400],\n",
    "            'learning_rate':[0.01,0.001],\n",
    "            'feature_fraction':[0.70,0.75,0.80],\n",
    "            'bagging_fraction':[0.70,0.75,0.80],\n",
    "            'learning_rate':[0.1,0.01],\n",
    "            'num_leaves':[6,7,8,9]}"
   ]
  },
  {
   "cell_type": "code",
   "execution_count": null,
   "id": "7c6004c4",
   "metadata": {},
   "outputs": [],
   "source": [
    "optimized_model = GridSearchCV(model, cv_params, scoring='accuracy', cv = 5)"
   ]
  },
  {
   "cell_type": "code",
   "execution_count": null,
   "id": "3d1e9d83",
   "metadata": {},
   "outputs": [],
   "source": [
    "%%time # 10min and 54seg\n",
    "# optimized_model.fit(X_train, y_train)"
   ]
  },
  {
   "cell_type": "code",
   "execution_count": null,
   "id": "539547da",
   "metadata": {},
   "outputs": [],
   "source": [
    "#print(optimized_model.best_params_)"
   ]
  },
  {
   "cell_type": "code",
   "execution_count": null,
   "id": "f242677c",
   "metadata": {},
   "outputs": [],
   "source": [
    "# print(optimized_model.best_score_) # 0.62"
   ]
  },
  {
   "cell_type": "code",
   "execution_count": null,
   "id": "3d2ba037",
   "metadata": {},
   "outputs": [],
   "source": [
    "best_lgb = LGBMClassifier(n_estimators=100,\n",
    "                              max_depth=4,\n",
    "                              num_leaves=9,\n",
    "                              objective='binary',\n",
    "                              learning_rate=0.1,\n",
    "                              feature_fraction=0.7,\n",
    "                              bagging_fraction=0.7,\n",
    "                              is_unbalance=False,\n",
    "                              random_state=10)"
   ]
  },
  {
   "cell_type": "code",
   "execution_count": null,
   "id": "48af46cd",
   "metadata": {},
   "outputs": [],
   "source": [
    "best_lgb.fit(X_train, y_train)"
   ]
  },
  {
   "cell_type": "code",
   "execution_count": null,
   "id": "946f7aad",
   "metadata": {},
   "outputs": [],
   "source": [
    "y_train_pred_best = best_lgb.predict(X_train)\n",
    "y_test_pred_best = best_lgb.predict(X_test)"
   ]
  },
  {
   "cell_type": "code",
   "execution_count": null,
   "id": "ee4e329f",
   "metadata": {},
   "outputs": [],
   "source": [
    "best_cm_test = confusion_matrix(y_test, y_test_pred_best)\n",
    "\n",
    "best_conf_mat_test = ConfusionMatrixDisplay(confusion_matrix=best_cm_test,\n",
    "                              display_labels=model.classes_)\n",
    "best_conf_mat_test.plot()\n",
    "plt.show()"
   ]
  },
  {
   "cell_type": "code",
   "execution_count": null,
   "id": "93bca06b",
   "metadata": {},
   "outputs": [],
   "source": [
    "print(classification_report(y_test, y_test_pred_best, target_names=['0', '1']))"
   ]
  },
  {
   "cell_type": "code",
   "execution_count": null,
   "id": "fa331d5f",
   "metadata": {},
   "outputs": [],
   "source": []
  }
 ],
 "metadata": {
  "kernelspec": {
   "display_name": "Python 3 (ipykernel)",
   "language": "python",
   "name": "python3"
  },
  "language_info": {
   "codemirror_mode": {
    "name": "ipython",
    "version": 3
   },
   "file_extension": ".py",
   "mimetype": "text/x-python",
   "name": "python",
   "nbconvert_exporter": "python",
   "pygments_lexer": "ipython3",
   "version": "3.9.5"
  }
 },
 "nbformat": 4,
 "nbformat_minor": 5
}
